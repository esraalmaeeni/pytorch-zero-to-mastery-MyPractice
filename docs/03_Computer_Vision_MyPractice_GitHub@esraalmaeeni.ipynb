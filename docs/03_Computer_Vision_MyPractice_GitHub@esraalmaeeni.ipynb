{
 "cells": [
  {
   "cell_type": "markdown",
   "metadata": {
    "id": "bXDmaziNtBHc"
   },
   "source": [
    "#pytorch computer vision"
   ]
  },
  {
   "cell_type": "markdown",
   "metadata": {
    "id": "O118lCGQu6GY"
   },
   "source": [
    "##0. computer vision libraries in pytorch\n",
    "pytorch is good for comuter vision:\n",
    "\n",
    "`torchvision.datasets` - get datasets and data loading functions for computer vision\n",
    "\n",
    "`torchvision.models` - get pretrained computer vision models that you can laverage for your own prob\n",
    "\n",
    "`torchvision.transforms` -functions for manipulating vision data/images to be suitable for use with ML model.\n",
    "\n",
    "`torch.utils.data.Dataset` - base dataset class for pytorch.\n",
    "\n",
    "`torch.utils.data.Dataloader` - creates a python iterable over a dataset."
   ]
  },
  {
   "cell_type": "code",
   "execution_count": 1,
   "metadata": {
    "colab": {
     "base_uri": "https://localhost:8080/"
    },
    "id": "y7LPqvWdv-Uc",
    "outputId": "8da57885-955e-43b0-cb9d-9d221bfe873b"
   },
   "outputs": [
    {
     "name": "stdout",
     "output_type": "stream",
     "text": [
      "2.6.0+cu124\n",
      "0.21.0+cu124\n"
     ]
    }
   ],
   "source": [
    "import torch\n",
    "from torch import nn\n",
    "\n",
    "#import torchvision\n",
    "import torchvision\n",
    "from torchvision import datasets\n",
    "from torchvision import transforms\n",
    "from torchvision.transforms import ToTensor\n",
    "\n",
    "import matplotlib as plt\n",
    "\n",
    "print(torch.__version__)\n",
    "print(torchvision.__version__)"
   ]
  },
  {
   "cell_type": "markdown",
   "metadata": {
    "id": "jT1Ba4A6xlip"
   },
   "source": [
    "##1. Getting a dataset\n",
    "\n",
    "fashion MNIST"
   ]
  },
  {
   "cell_type": "code",
   "execution_count": 2,
   "metadata": {
    "colab": {
     "base_uri": "https://localhost:8080/"
    },
    "id": "NAlEspO3yHT9",
    "outputId": "244d3caf-a8e9-4d23-b86c-f23865916c8f"
   },
   "outputs": [
    {
     "name": "stderr",
     "output_type": "stream",
     "text": [
      "100%|██████████| 26.4M/26.4M [00:01<00:00, 19.7MB/s]\n",
      "100%|██████████| 29.5k/29.5k [00:00<00:00, 303kB/s]\n",
      "100%|██████████| 4.42M/4.42M [00:00<00:00, 5.52MB/s]\n",
      "100%|██████████| 5.15k/5.15k [00:00<00:00, 12.0MB/s]\n"
     ]
    }
   ],
   "source": [
    "#setup training data\n",
    "from torchvision import datasets\n",
    "train_data = datasets.FashionMNIST(\n",
    "    root = \"data\", #where to download data to?\n",
    "    train = True, #do we need train data?\n",
    "    download = True, #do we want to download?\n",
    "    transform= torchvision.transforms.ToTensor(), #how we want to transform data?\n",
    "    target_transform= None #how we want to transform label?\n",
    ")\n",
    "\n",
    "test_data = datasets.FashionMNIST(\n",
    "    root = \"data\",\n",
    "    train = False,\n",
    "    download = True,\n",
    "    transform= ToTensor(),\n",
    "    target_transform= None\n",
    ")"
   ]
  },
  {
   "cell_type": "code",
   "execution_count": 3,
   "metadata": {
    "colab": {
     "base_uri": "https://localhost:8080/"
    },
    "id": "UTBz2GbM1ACB",
    "outputId": "931fd716-abfa-4a59-ba15-74dc97595572"
   },
   "outputs": [
    {
     "data": {
      "text/plain": [
       "(60000, 10000)"
      ]
     },
     "execution_count": 3,
     "metadata": {},
     "output_type": "execute_result"
    }
   ],
   "source": [
    "len(train_data), len(test_data)"
   ]
  },
  {
   "cell_type": "code",
   "execution_count": 4,
   "metadata": {
    "id": "pBb7dNajyHRj"
   },
   "outputs": [],
   "source": [
    "#first training example\n",
    "image, label = train_data[0]\n",
    "#image, label"
   ]
  },
  {
   "cell_type": "code",
   "execution_count": 5,
   "metadata": {
    "colab": {
     "base_uri": "https://localhost:8080/"
    },
    "id": "KpmDK8vwyHPR",
    "outputId": "ba1dd3c3-3e90-4ba8-bb7d-ed74ec18c272"
   },
   "outputs": [
    {
     "data": {
      "text/plain": [
       "['T-shirt/top',\n",
       " 'Trouser',\n",
       " 'Pullover',\n",
       " 'Dress',\n",
       " 'Coat',\n",
       " 'Sandal',\n",
       " 'Shirt',\n",
       " 'Sneaker',\n",
       " 'Bag',\n",
       " 'Ankle boot']"
      ]
     },
     "execution_count": 5,
     "metadata": {},
     "output_type": "execute_result"
    }
   ],
   "source": [
    "class_names = train_data.classes\n",
    "class_names"
   ]
  },
  {
   "cell_type": "code",
   "execution_count": 6,
   "metadata": {
    "colab": {
     "base_uri": "https://localhost:8080/"
    },
    "id": "wLywwr0jyHMy",
    "outputId": "7d74cad0-e22e-4714-a792-2096c1ba5d0f"
   },
   "outputs": [
    {
     "data": {
      "text/plain": [
       "{'T-shirt/top': 0,\n",
       " 'Trouser': 1,\n",
       " 'Pullover': 2,\n",
       " 'Dress': 3,\n",
       " 'Coat': 4,\n",
       " 'Sandal': 5,\n",
       " 'Shirt': 6,\n",
       " 'Sneaker': 7,\n",
       " 'Bag': 8,\n",
       " 'Ankle boot': 9}"
      ]
     },
     "execution_count": 6,
     "metadata": {},
     "output_type": "execute_result"
    }
   ],
   "source": [
    "class_to_idx = train_data.class_to_idx\n",
    "class_to_idx"
   ]
  },
  {
   "cell_type": "code",
   "execution_count": 7,
   "metadata": {
    "colab": {
     "base_uri": "https://localhost:8080/"
    },
    "id": "UNgALMc8yHKO",
    "outputId": "aa9fdad5-b4c2-4d8f-e523-eaeb6e95c421"
   },
   "outputs": [
    {
     "data": {
      "text/plain": [
       "(torch.Size([1, 28, 28]), 9)"
      ]
     },
     "execution_count": 7,
     "metadata": {},
     "output_type": "execute_result"
    }
   ],
   "source": [
    "image.shape, label"
   ]
  },
  {
   "cell_type": "code",
   "execution_count": 8,
   "metadata": {
    "colab": {
     "base_uri": "https://localhost:8080/"
    },
    "id": "p_pVLQ6IyHHw",
    "outputId": "389d33b4-c360-40a7-9634-512326ae3b60"
   },
   "outputs": [
    {
     "data": {
      "text/plain": [
       "tensor([9, 0, 0,  ..., 3, 0, 5])"
      ]
     },
     "execution_count": 8,
     "metadata": {},
     "output_type": "execute_result"
    }
   ],
   "source": [
    "train_data.targets"
   ]
  },
  {
   "cell_type": "code",
   "execution_count": 9,
   "metadata": {
    "colab": {
     "base_uri": "https://localhost:8080/"
    },
    "id": "kFCixPEjyG-J",
    "outputId": "5fe63566-1fe6-4058-ea34-8559dac8dc0f"
   },
   "outputs": [
    {
     "name": "stdout",
     "output_type": "stream",
     "text": [
      "image shape: torch.Size([1, 28, 28]) -> [color_channels, height, width]\n",
      "image label: 9\n"
     ]
    }
   ],
   "source": [
    "#check the shape of our image\n",
    "print(f\"image shape: {image.shape} -> [color_channels, height, width]\")\n",
    "print(f\"image label: {label}\")"
   ]
  },
  {
   "cell_type": "markdown",
   "metadata": {
    "id": "fQgrQSIgyG7O"
   },
   "source": [
    "#1.2 visualizing our data"
   ]
  },
  {
   "cell_type": "code",
   "execution_count": 10,
   "metadata": {
    "colab": {
     "base_uri": "https://localhost:8080/",
     "height": 487
    },
    "id": "9M9YK0FnmqM9",
    "outputId": "af6a0b83-a537-44bc-b84a-8e1b967be881"
   },
   "outputs": [
    {
     "name": "stdout",
     "output_type": "stream",
     "text": [
      "shape of image: torch.Size([1, 28, 28])\n"
     ]
    },
    {
     "data": {
      "text/plain": [
       "Text(0.5, 1.0, '9')"
      ]
     },
     "execution_count": 10,
     "metadata": {},
     "output_type": "execute_result"
    },
    {
     "data": {
      "image/png": "[encoded data removed]",
      "text/plain": [
       "<Figure size 640x480 with 1 Axes>"
      ]
     },
     "metadata": {},
     "output_type": "display_data"
    }
   ],
   "source": [
    "import matplotlib.pyplot as plt\n",
    "image, label = train_data[0]\n",
    "print(f\"shape of image: {image.shape}\")\n",
    "plt.imshow(image.squeeze())\n",
    "plt.title(label)"
   ]
  },
  {
   "cell_type": "code",
   "execution_count": 11,
   "metadata": {
    "colab": {
     "base_uri": "https://localhost:8080/",
     "height": 445
    },
    "id": "-S_txSzjmqBD",
    "outputId": "a334f1ca-c41e-4c22-c4e4-b4850c2f2669"
   },
   "outputs": [
    {
     "data": {
      "text/plain": [
       "(np.float64(-0.5), np.float64(27.5), np.float64(27.5), np.float64(-0.5))"
      ]
     },
     "execution_count": 11,
     "metadata": {},
     "output_type": "execute_result"
    },
    {
     "data": {
      "image/png": "[encoded data removed]",
      "text/plain": [
       "<Figure size 640x480 with 1 Axes>"
      ]
     },
     "metadata": {},
     "output_type": "display_data"
    }
   ],
   "source": [
    "plt.imshow(image.squeeze(), cmap=\"grey\")\n",
    "plt.title(class_names[label])\n",
    "plt.axis(False)"
   ]
  },
  {
   "cell_type": "code",
   "execution_count": 12,
   "metadata": {
    "colab": {
     "base_uri": "https://localhost:8080/",
     "height": 752
    },
    "id": "2alyNQJBmp2j",
    "outputId": "6071984e-81e8-472f-e7ef-a780ad544978"
   },
   "outputs": [
    {
     "data": {
      "image/png": "[encoded data removed]",
      "text/plain": [
       "<Figure size 900x900 with 16 Axes>"
      ]
     },
     "metadata": {},
     "output_type": "display_data"
    }
   ],
   "source": [
    "#plot more images\n",
    "#torch.manual_seed(42)\n",
    "fig = plt.figure(figsize=(9,9))\n",
    "rows, cols = 4, 4\n",
    "for i in range(1, rows*cols+1):\n",
    "  random_idx = torch.randint(0, len(train_data), size=[1]).item()\n",
    "  img, label = train_data[random_idx]\n",
    "  fig.add_subplot(rows, cols, i)\n",
    "  plt.imshow(img.squeeze(), cmap=\"gray\")\n",
    "  plt.title(class_names[label])\n",
    "  plt.axis(False)"
   ]
  },
  {
   "cell_type": "markdown",
   "metadata": {
    "id": "J3CzHTEbyG3A"
   },
   "source": [
    "[link text](https://)##2. prepare DataLoader\n",
    "do you think these items of clothing (images) could be moduled with linear lines or non linear?\n",
    "\n",
    "\n",
    "dataloader turns our dataset into a python iterable.\n",
    "means we want to turn our data into batches (or mini batches).\n",
    "\n",
    "why?\n",
    "1. more computationally efficient, as computing hardware may not be able to look (store in memory) at 60000 in one hit. so we break it down into 32 imgs at a time (batch size of 32).\n",
    "2. gives nn more chances to update its gradient per epoch.\n",
    "\n",
    "(mini batches)\n"
   ]
  },
  {
   "cell_type": "code",
   "execution_count": 13,
   "metadata": {
    "colab": {
     "base_uri": "https://localhost:8080/"
    },
    "id": "e_XepmlAyG0v",
    "outputId": "0c9b0d24-35cf-4c7e-e427-f69d73d639ec"
   },
   "outputs": [
    {
     "data": {
      "text/plain": [
       "(Dataset FashionMNIST\n",
       "     Number of datapoints: 60000\n",
       "     Root location: data\n",
       "     Split: Train\n",
       "     StandardTransform\n",
       " Transform: ToTensor(),\n",
       " Dataset FashionMNIST\n",
       "     Number of datapoints: 10000\n",
       "     Root location: data\n",
       "     Split: Test\n",
       "     StandardTransform\n",
       " Transform: ToTensor())"
      ]
     },
     "execution_count": 13,
     "metadata": {},
     "output_type": "execute_result"
    }
   ],
   "source": [
    "train_data, test_data"
   ]
  },
  {
   "cell_type": "code",
   "execution_count": 14,
   "metadata": {
    "colab": {
     "base_uri": "https://localhost:8080/"
    },
    "id": "5oyaqLM0yGx5",
    "outputId": "cf758b66-3e3c-4872-814c-e553ad932fdc"
   },
   "outputs": [
    {
     "data": {
      "text/plain": [
       "(<torch.utils.data.dataloader.DataLoader at 0x7f6c090867d0>,\n",
       " <torch.utils.data.dataloader.DataLoader at 0x7f6c0b515a50>)"
      ]
     },
     "execution_count": 14,
     "metadata": {},
     "output_type": "execute_result"
    }
   ],
   "source": [
    "from torch.utils.data import DataLoader\n",
    "BATCH_SIZE = 32\n",
    "train_dataloader = DataLoader(dataset=train_data,\n",
    "                              batch_size=BATCH_SIZE,\n",
    "                              shuffle=True)\n",
    "test_dataloader = DataLoader(dataset=test_data,\n",
    "                              batch_size=BATCH_SIZE,\n",
    "                              shuffle=True)\n",
    "train_dataloader, test_dataloader"
   ]
  },
  {
   "cell_type": "code",
   "execution_count": 15,
   "metadata": {
    "colab": {
     "base_uri": "https://localhost:8080/"
    },
    "id": "3mIj_iRqlLAO",
    "outputId": "b4863297-012c-419d-ea78-46a5209da42d"
   },
   "outputs": [
    {
     "name": "stdout",
     "output_type": "stream",
     "text": [
      "dataloader: (<torch.utils.data.dataloader.DataLoader object at 0x7f6c090867d0>, <torch.utils.data.dataloader.DataLoader object at 0x7f6c0b515a50>)\n",
      "length of train_dataloader: 1875 batches of 32\n",
      "length of test_dataloader: 313 batches of 32\n"
     ]
    }
   ],
   "source": [
    "#lets check out what we have created\n",
    "print(f\"dataloader: {train_dataloader, test_dataloader}\")\n",
    "print(f\"length of train_dataloader: {len(train_dataloader)} batches of {BATCH_SIZE}\")\n",
    "print(f\"length of test_dataloader: {len(test_dataloader)} batches of {BATCH_SIZE}\")"
   ]
  },
  {
   "cell_type": "code",
   "execution_count": 16,
   "metadata": {
    "colab": {
     "base_uri": "https://localhost:8080/"
    },
    "id": "dIdkcxp-m6q-",
    "outputId": "50ae1dc6-618c-45b9-c59c-e483d77cdd7b"
   },
   "outputs": [
    {
     "data": {
      "text/plain": [
       "(torch.Size([32, 1, 28, 28]), torch.Size([32]))"
      ]
     },
     "execution_count": 16,
     "metadata": {},
     "output_type": "execute_result"
    }
   ],
   "source": [
    "#check out what is inside the training dataloader\n",
    "train_features_batch, train_labels_batch = next(iter(train_dataloader))\n",
    "train_features_batch.shape, train_labels_batch.shape"
   ]
  },
  {
   "cell_type": "code",
   "execution_count": 17,
   "metadata": {
    "colab": {
     "base_uri": "https://localhost:8080/",
     "height": 463
    },
    "id": "pTRl0rYymM3X",
    "outputId": "79bfed7f-cf72-429a-fc3f-0349526961c0"
   },
   "outputs": [
    {
     "name": "stdout",
     "output_type": "stream",
     "text": [
      "image size: torch.Size([1, 28, 28])\n",
      "label: 2, label size: torch.Size([])\n"
     ]
    },
    {
     "data": {
      "image/png": "[encoded data removed]",
      "text/plain": [
       "<Figure size 640x480 with 1 Axes>"
      ]
     },
     "metadata": {},
     "output_type": "display_data"
    }
   ],
   "source": [
    "#show a sample\n",
    "#torch.manual_seed(42)\n",
    "random_idx = torch.randint(0, len(train_features_batch), size=[1]).item()\n",
    "img, label = train_features_batch[random_idx], train_labels_batch[random_idx]\n",
    "plt.imshow(img.squeeze(), cmap=\"gray\")\n",
    "plt.title(class_names[label])\n",
    "plt.axis(False)\n",
    "print(f\"image size: {img.shape}\")\n",
    "print(f\"label: {label}, label size: {label.shape}\")"
   ]
  },
  {
   "cell_type": "markdown",
   "metadata": {
    "id": "Yc3OS5q_lKEP"
   },
   "source": [
    "##3. model 0: build a baseline model\n",
    "\n",
    "when starting to build a series of machine learning modeling experiments it is best prctice to start with a baseline model.\n",
    "\n",
    "a baseline model is a simple model you will try and improve upon with subsequent models/experiments.\n",
    "\n",
    "start simple and add complexity when necessary."
   ]
  },
  {
   "cell_type": "code",
   "execution_count": 18,
   "metadata": {
    "colab": {
     "base_uri": "https://localhost:8080/"
    },
    "id": "llCIMv-TlKA6",
    "outputId": "81920b61-dc07-4005-bde8-832f771d1daa"
   },
   "outputs": [
    {
     "name": "stdout",
     "output_type": "stream",
     "text": [
      "shape before flatten: torch.Size([1, 28, 28]) -> [color channels, height, width]\n",
      "shape after flattening: torch.Size([1, 784]) -> [color channels, height*width]\n"
     ]
    }
   ],
   "source": [
    "#create flatten layer\n",
    "flatten_model = nn.Flatten()\n",
    "\n",
    "#get a single sample\n",
    "x = train_features_batch[0]\n",
    "\n",
    "#flatten the sample\n",
    "output = flatten_model(x)\n",
    "\n",
    "#print out what happened\n",
    "print(f\"shape before flatten: {x.shape} -> [color channels, height, width]\")\n",
    "print(f\"shape after flattening: {output.shape} -> [color channels, height*width]\")"
   ]
  },
  {
   "cell_type": "code",
   "execution_count": 19,
   "metadata": {
    "colab": {
     "base_uri": "https://localhost:8080/"
    },
    "id": "zksEANfClJyz",
    "outputId": "20539a93-10d9-4c6e-fe96-08893a605c77"
   },
   "outputs": [
    {
     "data": {
      "text/plain": [
       "tensor([[0.0000, 0.0000, 0.0000, 0.0000, 0.0000, 0.0000, 0.0000, 0.0000, 0.0000,\n",
       "         0.0000, 0.0000, 0.0000, 0.0000, 0.0000, 0.0000, 0.0000, 0.0000, 0.0000,\n",
       "         0.0000, 0.0000, 0.0000, 0.0000, 0.0000, 0.0000, 0.0000, 0.0000, 0.0000,\n",
       "         0.0000, 0.0000, 0.0000, 0.0000, 0.0000, 0.0000, 0.0000, 0.0000, 0.0000,\n",
       "         0.0000, 0.0000, 0.0000, 0.0000, 0.0000, 0.0000, 0.0000, 0.0000, 0.0000,\n",
       "         0.0000, 0.0000, 0.0000, 0.0000, 0.0000, 0.0000, 0.0000, 0.0000, 0.0000,\n",
       "         0.0000, 0.0000, 0.0000, 0.0000, 0.0000, 0.0000, 0.0000, 0.0000, 0.0000,\n",
       "         0.0000, 0.0000, 0.0000, 0.0000, 0.0000, 0.0000, 0.0000, 0.0000, 0.0000,\n",
       "         0.0000, 0.0000, 0.0000, 0.0000, 0.0000, 0.0000, 0.0000, 0.0000, 0.0000,\n",
       "         0.0000, 0.0000, 0.0000, 0.0000, 0.0000, 0.0000, 0.0000, 0.0000, 0.0000,\n",
       "         0.0000, 0.0000, 0.0000, 0.0000, 0.0000, 0.0000, 0.0000, 0.0000, 0.0000,\n",
       "         0.0000, 0.0000, 0.0000, 0.0000, 0.0000, 0.0000, 0.0000, 0.0000, 0.0000,\n",
       "         0.0000, 0.0000, 0.0000, 0.0000, 0.0000, 0.0000, 0.0000, 0.0000, 0.0000,\n",
       "         0.0000, 0.0000, 0.0000, 0.0000, 0.0000, 0.0000, 0.0000, 0.0000, 0.0000,\n",
       "         0.0000, 0.0000, 0.0000, 0.0000, 0.0000, 0.0000, 0.0000, 0.0000, 0.0000,\n",
       "         0.0000, 0.0000, 0.0000, 0.0000, 0.0000, 0.0000, 0.0000, 0.0000, 0.0000,\n",
       "         0.0000, 0.0000, 0.0000, 0.0000, 0.0000, 0.0000, 0.0000, 0.0000, 0.0000,\n",
       "         0.0000, 0.0000, 0.0000, 0.0000, 0.0000, 0.0000, 0.0000, 0.0000, 0.0000,\n",
       "         0.0000, 0.0000, 0.0000, 0.0000, 0.0000, 0.0000, 0.0000, 0.0000, 0.0000,\n",
       "         0.0000, 0.0000, 0.0000, 0.0000, 0.0000, 0.0000, 0.0000, 0.0000, 0.0000,\n",
       "         0.0000, 0.0000, 0.0000, 0.0000, 0.0000, 0.0000, 0.0000, 0.0000, 0.0000,\n",
       "         0.0000, 0.0000, 0.0000, 0.0000, 0.0000, 0.0000, 0.0000, 0.0000, 0.0000,\n",
       "         0.0000, 0.0000, 0.0000, 0.0000, 0.0000, 0.0000, 0.0039, 0.0000, 0.0039,\n",
       "         0.0039, 0.0000, 0.0000, 0.0000, 0.0000, 0.0000, 0.1725, 0.1686, 0.0000,\n",
       "         0.0000, 0.0000, 0.0000, 0.0000, 0.0039, 0.0118, 0.0000, 0.0000, 0.0000,\n",
       "         0.0000, 0.0000, 0.0000, 0.0000, 0.0000, 0.0000, 0.0000, 0.0000, 0.0000,\n",
       "         0.0039, 0.0235, 0.0000, 0.0667, 0.3373, 0.3686, 0.3059, 0.4745, 0.5137,\n",
       "         0.3255, 0.0000, 0.0000, 0.0039, 0.0000, 0.0000, 0.0000, 0.0000, 0.0000,\n",
       "         0.0000, 0.0000, 0.0000, 0.0000, 0.0000, 0.0000, 0.0000, 0.0000, 0.0000,\n",
       "         0.0039, 0.0000, 0.0000, 0.0000, 0.3333, 0.3059, 0.3686, 0.3333, 0.3686,\n",
       "         0.6157, 0.6784, 0.0000, 0.0000, 0.0000, 0.0000, 0.0039, 0.3490, 0.5961,\n",
       "         0.0000, 0.0000, 0.0000, 0.0000, 0.0000, 0.0000, 0.0000, 0.0000, 0.0039,\n",
       "         0.0000, 0.0000, 0.0000, 0.1255, 0.1373, 0.3647, 0.2000, 0.4078, 0.5686,\n",
       "         0.4314, 0.6000, 0.8863, 0.1059, 0.0000, 0.0000, 0.0000, 0.2824, 0.7137,\n",
       "         0.7529, 0.2353, 0.0039, 0.0000, 0.0000, 0.0039, 0.0039, 0.0039, 0.0000,\n",
       "         0.0000, 0.0039, 0.1882, 0.4431, 0.6824, 0.6667, 0.2039, 0.9490, 1.0000,\n",
       "         0.8392, 0.8235, 0.2627, 0.6275, 0.3882, 0.0000, 0.0000, 0.1294, 0.5569,\n",
       "         0.6275, 0.7020, 0.3451, 0.0039, 0.0039, 0.0039, 0.0039, 0.0000, 0.0118,\n",
       "         0.0667, 0.0980, 0.5765, 0.3686, 0.7843, 0.3255, 0.6824, 0.7412, 0.7216,\n",
       "         0.8039, 0.7608, 0.6980, 0.6667, 0.3961, 0.4431, 0.3451, 0.3490, 0.6314,\n",
       "         0.4902, 0.6078, 0.8078, 0.3765, 0.0000, 0.0000, 0.0000, 0.0000, 0.0667,\n",
       "         0.2980, 0.5059, 0.3059, 0.7098, 0.5255, 0.5373, 0.5765, 0.6157, 0.3490,\n",
       "         0.4196, 0.7020, 0.7725, 0.5569, 0.7725, 0.8235, 0.5961, 0.5961, 0.5216,\n",
       "         0.5961, 0.7451, 0.7216, 0.8078, 0.5333, 0.0000, 0.0667, 0.1098, 0.1725,\n",
       "         0.3961, 0.3373, 0.1059, 0.4000, 0.6314, 0.5137, 0.4275, 0.6157, 0.3451,\n",
       "         0.5765, 0.7843, 0.6078, 0.6157, 0.5333, 0.4941, 0.7333, 0.7961, 0.7529,\n",
       "         0.7451, 0.8353, 0.8078, 0.7647, 0.8235, 0.4118, 0.4824, 0.5059, 0.4510,\n",
       "         0.4824, 0.5765, 0.5255, 0.4902, 0.6902, 0.3333, 0.4824, 0.5961, 0.4941,\n",
       "         0.5451, 0.4196, 0.5961, 0.6902, 0.6471, 0.6314, 0.5765, 0.5373, 0.6196,\n",
       "         0.6706, 0.7765, 0.8588, 0.8078, 0.7961, 0.7529, 0.3765, 0.0627, 0.2980,\n",
       "         0.4588, 0.5216, 0.5765, 0.6510, 0.7137, 0.6510, 0.6078, 0.6000, 0.6980,\n",
       "         0.6980, 0.7333, 0.7294, 0.7137, 0.7765, 0.7922, 0.8157, 0.7843, 0.7294,\n",
       "         0.7333, 0.7922, 0.8353, 0.8157, 0.8706, 0.8667, 0.7922, 0.4196, 0.0000,\n",
       "         0.0000, 0.0000, 0.0000, 0.0431, 0.1373, 0.2039, 0.2941, 0.4706, 0.5333,\n",
       "         0.7020, 0.7843, 0.7294, 0.8902, 0.8902, 0.8275, 0.7765, 0.7961, 0.7529,\n",
       "         0.6510, 0.5961, 0.5765, 0.4431, 0.4118, 0.4314, 0.3882, 0.3569, 0.1098,\n",
       "         0.1255, 0.1255, 0.1098, 0.0980, 0.0549, 0.0039, 0.0000, 0.0000, 0.0000,\n",
       "         0.0000, 0.0000, 0.0000, 0.0000, 0.0000, 0.0000, 0.0000, 0.0000, 0.0000,\n",
       "         0.0000, 0.0000, 0.0000, 0.0000, 0.0000, 0.0000, 0.0000, 0.0000, 0.0118,\n",
       "         0.0314, 0.0157, 0.0471, 0.0863, 0.1176, 0.1294, 0.1569, 0.1725, 0.1804,\n",
       "         0.1686, 0.1255, 0.1373, 0.1294, 0.0941, 0.0784, 0.0627, 0.0784, 0.1255,\n",
       "         0.1059, 0.1098, 0.1373, 0.1686, 0.1725, 0.1686, 0.1608, 0.1569, 0.1490,\n",
       "         0.1725, 0.0863, 0.0000, 0.0000, 0.0000, 0.0118, 0.0118, 0.0118, 0.0353,\n",
       "         0.0667, 0.0627, 0.0941, 0.0863, 0.0941, 0.0784, 0.0784, 0.0941, 0.0784,\n",
       "         0.0745, 0.0784, 0.0784, 0.0627, 0.0471, 0.0549, 0.0627, 0.0353, 0.0471,\n",
       "         0.0471, 0.0314, 0.0039, 0.0000, 0.0000, 0.0000, 0.0000, 0.0000, 0.0000,\n",
       "         0.0000, 0.0000, 0.0000, 0.0000, 0.0000, 0.0000, 0.0000, 0.0000, 0.0000,\n",
       "         0.0000, 0.0000, 0.0000, 0.0000, 0.0000, 0.0000, 0.0000, 0.0000, 0.0000,\n",
       "         0.0000, 0.0000, 0.0000, 0.0000, 0.0000, 0.0000, 0.0000, 0.0000, 0.0000,\n",
       "         0.0000, 0.0000, 0.0000, 0.0000, 0.0000, 0.0000, 0.0000, 0.0000, 0.0000,\n",
       "         0.0000, 0.0000, 0.0000, 0.0000, 0.0000, 0.0000, 0.0000, 0.0000, 0.0000,\n",
       "         0.0000, 0.0000, 0.0000, 0.0000, 0.0000, 0.0000, 0.0000, 0.0000, 0.0000,\n",
       "         0.0000, 0.0000, 0.0000, 0.0000, 0.0000, 0.0000, 0.0000, 0.0000, 0.0000,\n",
       "         0.0000, 0.0000, 0.0000, 0.0000, 0.0000, 0.0000, 0.0000, 0.0000, 0.0000,\n",
       "         0.0000, 0.0000, 0.0000, 0.0000, 0.0000, 0.0000, 0.0000, 0.0000, 0.0000,\n",
       "         0.0000, 0.0000, 0.0000, 0.0000, 0.0000, 0.0000, 0.0000, 0.0000, 0.0000,\n",
       "         0.0000, 0.0000, 0.0000, 0.0000, 0.0000, 0.0000, 0.0000, 0.0000, 0.0000,\n",
       "         0.0000, 0.0000, 0.0000, 0.0000, 0.0000, 0.0000, 0.0000, 0.0000, 0.0000,\n",
       "         0.0000, 0.0000, 0.0000, 0.0000, 0.0000, 0.0000, 0.0000, 0.0000, 0.0000,\n",
       "         0.0000, 0.0000, 0.0000, 0.0000, 0.0000, 0.0000, 0.0000, 0.0000, 0.0000,\n",
       "         0.0000, 0.0000, 0.0000, 0.0000, 0.0000, 0.0000, 0.0000, 0.0000, 0.0000,\n",
       "         0.0000, 0.0000, 0.0000, 0.0000, 0.0000, 0.0000, 0.0000, 0.0000, 0.0000,\n",
       "         0.0000, 0.0000, 0.0000, 0.0000, 0.0000, 0.0000, 0.0000, 0.0000, 0.0000,\n",
       "         0.0000, 0.0000, 0.0000, 0.0000, 0.0000, 0.0000, 0.0000, 0.0000, 0.0000,\n",
       "         0.0000, 0.0000, 0.0000, 0.0000, 0.0000, 0.0000, 0.0000, 0.0000, 0.0000,\n",
       "         0.0000, 0.0000, 0.0000, 0.0000, 0.0000, 0.0000, 0.0000, 0.0000, 0.0000,\n",
       "         0.0000, 0.0000, 0.0000, 0.0000, 0.0000, 0.0000, 0.0000, 0.0000, 0.0000,\n",
       "         0.0000]])"
      ]
     },
     "execution_count": 19,
     "metadata": {},
     "output_type": "execute_result"
    }
   ],
   "source": [
    "output"
   ]
  },
  {
   "cell_type": "code",
   "execution_count": 20,
   "metadata": {
    "colab": {
     "base_uri": "https://localhost:8080/"
    },
    "id": "D92GpgEByGvg",
    "outputId": "d7f97855-7bae-4d8e-d280-9c3bc6b8138d"
   },
   "outputs": [
    {
     "data": {
      "text/plain": [
       "tensor([[[0.0000, 0.0000, 0.0000, 0.0000, 0.0000, 0.0000, 0.0000, 0.0000,\n",
       "          0.0000, 0.0000, 0.0000, 0.0000, 0.0000, 0.0000, 0.0000, 0.0000,\n",
       "          0.0000, 0.0000, 0.0000, 0.0000, 0.0000, 0.0000, 0.0000, 0.0000,\n",
       "          0.0000, 0.0000, 0.0000, 0.0000],\n",
       "         [0.0000, 0.0000, 0.0000, 0.0000, 0.0000, 0.0000, 0.0000, 0.0000,\n",
       "          0.0000, 0.0000, 0.0000, 0.0000, 0.0000, 0.0000, 0.0000, 0.0000,\n",
       "          0.0000, 0.0000, 0.0000, 0.0000, 0.0000, 0.0000, 0.0000, 0.0000,\n",
       "          0.0000, 0.0000, 0.0000, 0.0000],\n",
       "         [0.0000, 0.0000, 0.0000, 0.0000, 0.0000, 0.0000, 0.0000, 0.0000,\n",
       "          0.0000, 0.0000, 0.0000, 0.0000, 0.0000, 0.0000, 0.0000, 0.0000,\n",
       "          0.0000, 0.0000, 0.0000, 0.0000, 0.0000, 0.0000, 0.0000, 0.0000,\n",
       "          0.0000, 0.0000, 0.0000, 0.0000],\n",
       "         [0.0000, 0.0000, 0.0000, 0.0000, 0.0000, 0.0000, 0.0000, 0.0000,\n",
       "          0.0000, 0.0000, 0.0000, 0.0000, 0.0000, 0.0000, 0.0000, 0.0000,\n",
       "          0.0000, 0.0000, 0.0000, 0.0000, 0.0000, 0.0000, 0.0000, 0.0000,\n",
       "          0.0000, 0.0000, 0.0000, 0.0000],\n",
       "         [0.0000, 0.0000, 0.0000, 0.0000, 0.0000, 0.0000, 0.0000, 0.0000,\n",
       "          0.0000, 0.0000, 0.0000, 0.0000, 0.0000, 0.0000, 0.0000, 0.0000,\n",
       "          0.0000, 0.0000, 0.0000, 0.0000, 0.0000, 0.0000, 0.0000, 0.0000,\n",
       "          0.0000, 0.0000, 0.0000, 0.0000],\n",
       "         [0.0000, 0.0000, 0.0000, 0.0000, 0.0000, 0.0000, 0.0000, 0.0000,\n",
       "          0.0000, 0.0000, 0.0000, 0.0000, 0.0000, 0.0000, 0.0000, 0.0000,\n",
       "          0.0000, 0.0000, 0.0000, 0.0000, 0.0000, 0.0000, 0.0000, 0.0000,\n",
       "          0.0000, 0.0000, 0.0000, 0.0000],\n",
       "         [0.0000, 0.0000, 0.0000, 0.0000, 0.0000, 0.0000, 0.0000, 0.0000,\n",
       "          0.0000, 0.0000, 0.0000, 0.0000, 0.0000, 0.0000, 0.0000, 0.0000,\n",
       "          0.0000, 0.0000, 0.0000, 0.0000, 0.0000, 0.0000, 0.0000, 0.0000,\n",
       "          0.0000, 0.0000, 0.0000, 0.0000],\n",
       "         [0.0000, 0.0000, 0.0000, 0.0000, 0.0000, 0.0000, 0.0000, 0.0000,\n",
       "          0.0039, 0.0000, 0.0039, 0.0039, 0.0000, 0.0000, 0.0000, 0.0000,\n",
       "          0.0000, 0.1725, 0.1686, 0.0000, 0.0000, 0.0000, 0.0000, 0.0000,\n",
       "          0.0039, 0.0118, 0.0000, 0.0000],\n",
       "         [0.0000, 0.0000, 0.0000, 0.0000, 0.0000, 0.0000, 0.0000, 0.0000,\n",
       "          0.0000, 0.0000, 0.0039, 0.0235, 0.0000, 0.0667, 0.3373, 0.3686,\n",
       "          0.3059, 0.4745, 0.5137, 0.3255, 0.0000, 0.0000, 0.0039, 0.0000,\n",
       "          0.0000, 0.0000, 0.0000, 0.0000],\n",
       "         [0.0000, 0.0000, 0.0000, 0.0000, 0.0000, 0.0000, 0.0000, 0.0000,\n",
       "          0.0000, 0.0039, 0.0000, 0.0000, 0.0000, 0.3333, 0.3059, 0.3686,\n",
       "          0.3333, 0.3686, 0.6157, 0.6784, 0.0000, 0.0000, 0.0000, 0.0000,\n",
       "          0.0039, 0.3490, 0.5961, 0.0000],\n",
       "         [0.0000, 0.0000, 0.0000, 0.0000, 0.0000, 0.0000, 0.0000, 0.0039,\n",
       "          0.0000, 0.0000, 0.0000, 0.1255, 0.1373, 0.3647, 0.2000, 0.4078,\n",
       "          0.5686, 0.4314, 0.6000, 0.8863, 0.1059, 0.0000, 0.0000, 0.0000,\n",
       "          0.2824, 0.7137, 0.7529, 0.2353],\n",
       "         [0.0039, 0.0000, 0.0000, 0.0039, 0.0039, 0.0039, 0.0000, 0.0000,\n",
       "          0.0039, 0.1882, 0.4431, 0.6824, 0.6667, 0.2039, 0.9490, 1.0000,\n",
       "          0.8392, 0.8235, 0.2627, 0.6275, 0.3882, 0.0000, 0.0000, 0.1294,\n",
       "          0.5569, 0.6275, 0.7020, 0.3451],\n",
       "         [0.0039, 0.0039, 0.0039, 0.0039, 0.0000, 0.0118, 0.0667, 0.0980,\n",
       "          0.5765, 0.3686, 0.7843, 0.3255, 0.6824, 0.7412, 0.7216, 0.8039,\n",
       "          0.7608, 0.6980, 0.6667, 0.3961, 0.4431, 0.3451, 0.3490, 0.6314,\n",
       "          0.4902, 0.6078, 0.8078, 0.3765],\n",
       "         [0.0000, 0.0000, 0.0000, 0.0000, 0.0667, 0.2980, 0.5059, 0.3059,\n",
       "          0.7098, 0.5255, 0.5373, 0.5765, 0.6157, 0.3490, 0.4196, 0.7020,\n",
       "          0.7725, 0.5569, 0.7725, 0.8235, 0.5961, 0.5961, 0.5216, 0.5961,\n",
       "          0.7451, 0.7216, 0.8078, 0.5333],\n",
       "         [0.0000, 0.0667, 0.1098, 0.1725, 0.3961, 0.3373, 0.1059, 0.4000,\n",
       "          0.6314, 0.5137, 0.4275, 0.6157, 0.3451, 0.5765, 0.7843, 0.6078,\n",
       "          0.6157, 0.5333, 0.4941, 0.7333, 0.7961, 0.7529, 0.7451, 0.8353,\n",
       "          0.8078, 0.7647, 0.8235, 0.4118],\n",
       "         [0.4824, 0.5059, 0.4510, 0.4824, 0.5765, 0.5255, 0.4902, 0.6902,\n",
       "          0.3333, 0.4824, 0.5961, 0.4941, 0.5451, 0.4196, 0.5961, 0.6902,\n",
       "          0.6471, 0.6314, 0.5765, 0.5373, 0.6196, 0.6706, 0.7765, 0.8588,\n",
       "          0.8078, 0.7961, 0.7529, 0.3765],\n",
       "         [0.0627, 0.2980, 0.4588, 0.5216, 0.5765, 0.6510, 0.7137, 0.6510,\n",
       "          0.6078, 0.6000, 0.6980, 0.6980, 0.7333, 0.7294, 0.7137, 0.7765,\n",
       "          0.7922, 0.8157, 0.7843, 0.7294, 0.7333, 0.7922, 0.8353, 0.8157,\n",
       "          0.8706, 0.8667, 0.7922, 0.4196],\n",
       "         [0.0000, 0.0000, 0.0000, 0.0000, 0.0431, 0.1373, 0.2039, 0.2941,\n",
       "          0.4706, 0.5333, 0.7020, 0.7843, 0.7294, 0.8902, 0.8902, 0.8275,\n",
       "          0.7765, 0.7961, 0.7529, 0.6510, 0.5961, 0.5765, 0.4431, 0.4118,\n",
       "          0.4314, 0.3882, 0.3569, 0.1098],\n",
       "         [0.1255, 0.1255, 0.1098, 0.0980, 0.0549, 0.0039, 0.0000, 0.0000,\n",
       "          0.0000, 0.0000, 0.0000, 0.0000, 0.0000, 0.0000, 0.0000, 0.0000,\n",
       "          0.0000, 0.0000, 0.0000, 0.0000, 0.0000, 0.0000, 0.0000, 0.0000,\n",
       "          0.0000, 0.0000, 0.0118, 0.0314],\n",
       "         [0.0157, 0.0471, 0.0863, 0.1176, 0.1294, 0.1569, 0.1725, 0.1804,\n",
       "          0.1686, 0.1255, 0.1373, 0.1294, 0.0941, 0.0784, 0.0627, 0.0784,\n",
       "          0.1255, 0.1059, 0.1098, 0.1373, 0.1686, 0.1725, 0.1686, 0.1608,\n",
       "          0.1569, 0.1490, 0.1725, 0.0863],\n",
       "         [0.0000, 0.0000, 0.0000, 0.0118, 0.0118, 0.0118, 0.0353, 0.0667,\n",
       "          0.0627, 0.0941, 0.0863, 0.0941, 0.0784, 0.0784, 0.0941, 0.0784,\n",
       "          0.0745, 0.0784, 0.0784, 0.0627, 0.0471, 0.0549, 0.0627, 0.0353,\n",
       "          0.0471, 0.0471, 0.0314, 0.0039],\n",
       "         [0.0000, 0.0000, 0.0000, 0.0000, 0.0000, 0.0000, 0.0000, 0.0000,\n",
       "          0.0000, 0.0000, 0.0000, 0.0000, 0.0000, 0.0000, 0.0000, 0.0000,\n",
       "          0.0000, 0.0000, 0.0000, 0.0000, 0.0000, 0.0000, 0.0000, 0.0000,\n",
       "          0.0000, 0.0000, 0.0000, 0.0000],\n",
       "         [0.0000, 0.0000, 0.0000, 0.0000, 0.0000, 0.0000, 0.0000, 0.0000,\n",
       "          0.0000, 0.0000, 0.0000, 0.0000, 0.0000, 0.0000, 0.0000, 0.0000,\n",
       "          0.0000, 0.0000, 0.0000, 0.0000, 0.0000, 0.0000, 0.0000, 0.0000,\n",
       "          0.0000, 0.0000, 0.0000, 0.0000],\n",
       "         [0.0000, 0.0000, 0.0000, 0.0000, 0.0000, 0.0000, 0.0000, 0.0000,\n",
       "          0.0000, 0.0000, 0.0000, 0.0000, 0.0000, 0.0000, 0.0000, 0.0000,\n",
       "          0.0000, 0.0000, 0.0000, 0.0000, 0.0000, 0.0000, 0.0000, 0.0000,\n",
       "          0.0000, 0.0000, 0.0000, 0.0000],\n",
       "         [0.0000, 0.0000, 0.0000, 0.0000, 0.0000, 0.0000, 0.0000, 0.0000,\n",
       "          0.0000, 0.0000, 0.0000, 0.0000, 0.0000, 0.0000, 0.0000, 0.0000,\n",
       "          0.0000, 0.0000, 0.0000, 0.0000, 0.0000, 0.0000, 0.0000, 0.0000,\n",
       "          0.0000, 0.0000, 0.0000, 0.0000],\n",
       "         [0.0000, 0.0000, 0.0000, 0.0000, 0.0000, 0.0000, 0.0000, 0.0000,\n",
       "          0.0000, 0.0000, 0.0000, 0.0000, 0.0000, 0.0000, 0.0000, 0.0000,\n",
       "          0.0000, 0.0000, 0.0000, 0.0000, 0.0000, 0.0000, 0.0000, 0.0000,\n",
       "          0.0000, 0.0000, 0.0000, 0.0000],\n",
       "         [0.0000, 0.0000, 0.0000, 0.0000, 0.0000, 0.0000, 0.0000, 0.0000,\n",
       "          0.0000, 0.0000, 0.0000, 0.0000, 0.0000, 0.0000, 0.0000, 0.0000,\n",
       "          0.0000, 0.0000, 0.0000, 0.0000, 0.0000, 0.0000, 0.0000, 0.0000,\n",
       "          0.0000, 0.0000, 0.0000, 0.0000],\n",
       "         [0.0000, 0.0000, 0.0000, 0.0000, 0.0000, 0.0000, 0.0000, 0.0000,\n",
       "          0.0000, 0.0000, 0.0000, 0.0000, 0.0000, 0.0000, 0.0000, 0.0000,\n",
       "          0.0000, 0.0000, 0.0000, 0.0000, 0.0000, 0.0000, 0.0000, 0.0000,\n",
       "          0.0000, 0.0000, 0.0000, 0.0000]]])"
      ]
     },
     "execution_count": 20,
     "metadata": {},
     "output_type": "execute_result"
    }
   ],
   "source": [
    "x"
   ]
  },
  {
   "cell_type": "code",
   "execution_count": 21,
   "metadata": {
    "id": "WzOSGIxOyGtL"
   },
   "outputs": [],
   "source": [
    "from torch import nn\n",
    "class FashionMNISTModelV0(nn.Module):\n",
    "  def __init__(self,\n",
    "               input_shape: int,\n",
    "               hidden_units: int,\n",
    "               output_shape: int\n",
    "               ):\n",
    "    super().__init__()\n",
    "    self.layer_stack = nn.Sequential(\n",
    "        nn.Flatten(),\n",
    "        nn.Linear(\n",
    "            in_features=input_shape,\n",
    "            out_features=hidden_units\n",
    "        ),\n",
    "        nn.Linear(\n",
    "            in_features=hidden_units,\n",
    "            out_features= output_shape\n",
    "        )\n",
    "    )\n",
    "\n",
    "  def forward(self, x):\n",
    "    return self.layer_stack(x)"
   ]
  },
  {
   "cell_type": "code",
   "execution_count": 22,
   "metadata": {
    "colab": {
     "base_uri": "https://localhost:8080/"
    },
    "id": "gwlt7W9qyGqn",
    "outputId": "1caaf97a-f9c8-4fbd-8623-5700eab9b33f"
   },
   "outputs": [
    {
     "data": {
      "text/plain": [
       "FashionMNISTModelV0(\n",
       "  (layer_stack): Sequential(\n",
       "    (0): Flatten(start_dim=1, end_dim=-1)\n",
       "    (1): Linear(in_features=784, out_features=10, bias=True)\n",
       "    (2): Linear(in_features=10, out_features=10, bias=True)\n",
       "  )\n",
       ")"
      ]
     },
     "execution_count": 22,
     "metadata": {},
     "output_type": "execute_result"
    }
   ],
   "source": [
    "torch.manual_seed(42)\n",
    "\n",
    "#setup model with input parameters\n",
    "model_0 = FashionMNISTModelV0(\n",
    "    input_shape=28*28, #28*28\n",
    "    hidden_units=10,\n",
    "    output_shape=len(class_names)\n",
    ")\n",
    "model_0.to(\"cpu\")"
   ]
  },
  {
   "cell_type": "code",
   "execution_count": 23,
   "metadata": {
    "colab": {
     "base_uri": "https://localhost:8080/"
    },
    "id": "aCIazfPWyGoZ",
    "outputId": "8de3415e-9ecd-4dfb-c83a-83718f906ce6"
   },
   "outputs": [
    {
     "data": {
      "text/plain": [
       "torch.Size([1, 10])"
      ]
     },
     "execution_count": 23,
     "metadata": {},
     "output_type": "execute_result"
    }
   ],
   "source": [
    "dummy_x = torch.rand([1, 1, 28, 28])\n",
    "model_0(dummy_x).shape"
   ]
  },
  {
   "cell_type": "code",
   "execution_count": 24,
   "metadata": {
    "colab": {
     "base_uri": "https://localhost:8080/"
    },
    "id": "WBL3wy2NyGko",
    "outputId": "520de43b-8822-4def-cc75-cee025e6a2f1"
   },
   "outputs": [
    {
     "data": {
      "text/plain": [
       "OrderedDict([('layer_stack.1.weight',\n",
       "              tensor([[ 0.0273,  0.0296, -0.0084,  ..., -0.0142,  0.0093,  0.0135],\n",
       "                      [-0.0188, -0.0354,  0.0187,  ..., -0.0106, -0.0001,  0.0115],\n",
       "                      [-0.0008,  0.0017,  0.0045,  ..., -0.0127, -0.0188,  0.0059],\n",
       "                      ...,\n",
       "                      [-0.0116,  0.0273, -0.0344,  ...,  0.0176,  0.0283, -0.0011],\n",
       "                      [-0.0230,  0.0257,  0.0291,  ..., -0.0187, -0.0087,  0.0001],\n",
       "                      [ 0.0176, -0.0147,  0.0053,  ..., -0.0336, -0.0221,  0.0205]])),\n",
       "             ('layer_stack.1.bias',\n",
       "              tensor([-0.0093,  0.0283, -0.0033,  0.0255,  0.0017,  0.0037, -0.0302, -0.0123,\n",
       "                       0.0018,  0.0163])),\n",
       "             ('layer_stack.2.weight',\n",
       "              tensor([[ 0.0614, -0.0687,  0.0021,  0.2718,  0.2109,  0.1079, -0.2279, -0.1063,\n",
       "                        0.2019,  0.2847],\n",
       "                      [-0.1495,  0.1344, -0.0740,  0.2006, -0.0475, -0.2514, -0.3130, -0.0118,\n",
       "                        0.0932, -0.1864],\n",
       "                      [ 0.2488,  0.1500,  0.1907,  0.1457, -0.3050, -0.0580,  0.1643,  0.1565,\n",
       "                       -0.2877, -0.1792],\n",
       "                      [ 0.2305, -0.2618,  0.2397, -0.0610,  0.0232,  0.1542,  0.0851, -0.2027,\n",
       "                        0.1030, -0.2715],\n",
       "                      [-0.1596, -0.0555, -0.0633,  0.2302, -0.1726,  0.2654,  0.1473,  0.1029,\n",
       "                        0.2252, -0.2160],\n",
       "                      [-0.2725,  0.0118,  0.1559,  0.1596,  0.0132,  0.3024,  0.1124,  0.1366,\n",
       "                       -0.1533,  0.0965],\n",
       "                      [-0.1184, -0.2555, -0.2057, -0.1909, -0.0477, -0.1324,  0.2905,  0.1307,\n",
       "                       -0.2629,  0.0133],\n",
       "                      [ 0.2727, -0.0127,  0.0513,  0.0863, -0.1043, -0.2047, -0.1185, -0.0825,\n",
       "                        0.2488, -0.2571],\n",
       "                      [ 0.0425, -0.1209, -0.0336, -0.0281, -0.1227,  0.0730,  0.0747, -0.1816,\n",
       "                        0.1943,  0.2853],\n",
       "                      [-0.1310,  0.0645, -0.1171,  0.2168, -0.0245, -0.2820,  0.0736,  0.2621,\n",
       "                        0.0012, -0.0810]])),\n",
       "             ('layer_stack.2.bias',\n",
       "              tensor([-0.0087,  0.1791,  0.2712, -0.0791,  0.1685,  0.1762,  0.2825,  0.2266,\n",
       "                      -0.2612, -0.2613]))])"
      ]
     },
     "execution_count": 24,
     "metadata": {},
     "output_type": "execute_result"
    }
   ],
   "source": [
    "model_0.state_dict()"
   ]
  },
  {
   "cell_type": "markdown",
   "metadata": {
    "id": "_2BrHHxsyGia"
   },
   "source": [
    "###3.1 setup loss, optimizer and evaluation metrics\n",
    "\n",
    "* loss function - `nn.CrossEntropyLoss()` - multi class data\n",
    "* optimizer - `torch.optim.SGD`\n",
    "* Evaluation metrices -> classification problem -> accuracy"
   ]
  },
  {
   "cell_type": "code",
   "execution_count": 25,
   "metadata": {
    "id": "zr0U8pvtPy3f"
   },
   "outputs": [],
   "source": [
    "def acc_fn(y_true, y_pred):\n",
    "  correct = torch.eq(y_true,y_pred).sum().item()\n",
    "  return correct/ len(y_true) * 100\n",
    "\n",
    "loss_fn = nn.CrossEntropyLoss()\n",
    "optimizer = torch.optim.SGD(params=model_0.parameters(),\n",
    "                            lr=0.1)"
   ]
  },
  {
   "cell_type": "markdown",
   "metadata": {
    "id": "o3v5K_PbRGnS"
   },
   "source": [
    "##3.2 creating a function to time our experiments\n",
    "\n",
    "machine learning is very experimental.\n",
    "\n",
    "two of the main things you want to keep track of:\n",
    "1. Model performance (loss and accuracy values etc)\n",
    "2. How fast it runs"
   ]
  },
  {
   "cell_type": "code",
   "execution_count": 26,
   "metadata": {
    "id": "iGZilMvaUYD9"
   },
   "outputs": [],
   "source": [
    "from timeit import default_timer as timer\n",
    "def print_train_time(start: float,\n",
    "                     end: float,\n",
    "                     device: torch.device = None):\n",
    "  total_time = end - start\n",
    "  print(f\"Train time on {device}: {total_time:.3f} seconds\")\n",
    "  return total_time"
   ]
  },
  {
   "cell_type": "code",
   "execution_count": 27,
   "metadata": {
    "colab": {
     "base_uri": "https://localhost:8080/"
    },
    "id": "2isGgUcuUYj2",
    "outputId": "d904ce42-76ba-4b0f-ae6b-c7b220df7ce5"
   },
   "outputs": [
    {
     "name": "stdout",
     "output_type": "stream",
     "text": [
      "Train time on cpu: 0.000 seconds\n"
     ]
    },
    {
     "data": {
      "text/plain": [
       "5.070899999282119e-05"
      ]
     },
     "execution_count": 27,
     "metadata": {},
     "output_type": "execute_result"
    }
   ],
   "source": [
    "start_time = timer()\n",
    "#code...\n",
    "end_time = timer()\n",
    "print_train_time(start_time, end_time, device=\"cpu\")"
   ]
  },
  {
   "cell_type": "markdown",
   "metadata": {
    "id": "FhR7-yYOUYrC"
   },
   "source": [
    "##3.3 creating a training loop and training a model om batches of data\n",
    "1. loop through epochs.\n",
    "2. loop through training batches, perform training steps, calculate the train loss *per batch*.\n",
    "3. loop through testing batches, perform testing steps, calculate the test loss *per batch*.\n",
    "4. print out what is happening.\n",
    "5. Time it all. (for fun)"
   ]
  },
  {
   "cell_type": "code",
   "execution_count": 28,
   "metadata": {
    "colab": {
     "base_uri": "https://localhost:8080/",
     "height": 847,
     "referenced_widgets": [
      "52ca91d900074b34a30a31a1cc14d916",
      "6fe019fa00534178b0324f0c649a1795",
      "4108e2dec2834a679ed6c609bbd28a7f",
      "f70c486c19304bef85ee00d0cd6071e7",
      "882502f7a8bb4079b2b170ff0c2499a6",
      "630c4471095b4448bc0457c42b7d8eba",
      "792271336597457e894c53b7f5ba2d6d",
      "4e6a24af983142ec92020c3ad10b1882",
      "7d6e52db638c4c5dbf22a2ea251004cf",
      "a333eb874fa84ee1ac5b79eb35ca738c",
      "7d6ac12e21c0490c90ac5e1956b1d7f6"
     ]
    },
    "id": "L0Z7K-nDUYw6",
    "outputId": "f1335d07-e750-4c13-f75d-6177be3d1f9a"
   },
   "outputs": [
    {
     "data": {
      "application/vnd.jupyter.widget-view+json": {
       "model_id": "52ca91d900074b34a30a31a1cc14d916",
       "version_major": 2,
       "version_minor": 0
      },
      "text/plain": [
       "  0%|          | 0/5 [00:00<?, ?it/s]"
      ]
     },
     "metadata": {},
     "output_type": "display_data"
    },
    {
     "name": "stdout",
     "output_type": "stream",
     "text": [
      "Epoch: 0\n",
      "-----\n",
      "Looked at: 0/60000 samples.\n",
      "Looked at: 12800/60000 samples.\n",
      "Looked at: 25600/60000 samples.\n",
      "Looked at: 38400/60000 samples.\n",
      "Looked at: 51200/60000 samples.\n",
      "\n",
      " Train loss: 0.5904 | Test loss: 0.5102 | test acc: 82.0387\n",
      "Epoch: 1\n",
      "-----\n",
      "Looked at: 0/60000 samples.\n",
      "Looked at: 12800/60000 samples.\n",
      "Looked at: 25600/60000 samples.\n",
      "Looked at: 38400/60000 samples.\n",
      "Looked at: 51200/60000 samples.\n",
      "\n",
      " Train loss: 0.4743 | Test loss: 0.5268 | test acc: 81.6793\n",
      "Epoch: 2\n",
      "-----\n",
      "Looked at: 0/60000 samples.\n",
      "Looked at: 12800/60000 samples.\n",
      "Looked at: 25600/60000 samples.\n",
      "Looked at: 38400/60000 samples.\n",
      "Looked at: 51200/60000 samples.\n",
      "\n",
      " Train loss: 0.4537 | Test loss: 0.5126 | test acc: 82.9972\n",
      "Epoch: 3\n",
      "-----\n",
      "Looked at: 0/60000 samples.\n",
      "Looked at: 12800/60000 samples.\n",
      "Looked at: 25600/60000 samples.\n",
      "Looked at: 38400/60000 samples.\n",
      "Looked at: 51200/60000 samples.\n",
      "\n",
      " Train loss: 0.4433 | Test loss: 0.4736 | test acc: 83.2468\n",
      "Epoch: 4\n",
      "-----\n",
      "Looked at: 0/60000 samples.\n",
      "Looked at: 12800/60000 samples.\n",
      "Looked at: 25600/60000 samples.\n",
      "Looked at: 38400/60000 samples.\n",
      "Looked at: 51200/60000 samples.\n",
      "\n",
      " Train loss: 0.4357 | Test loss: 0.4668 | test acc: 83.5863\n",
      "Train time on cpu: 54.632 seconds\n"
     ]
    }
   ],
   "source": [
    "#import tqdm to show us how many epochs our model gone through (progress bar)\n",
    "from tqdm.auto import tqdm\n",
    "\n",
    "#set the seed and start the timer\n",
    "torch.manual_seed(42)\n",
    "train_time_start_on_cpu = timer()\n",
    "\n",
    "#set the number of epoches (we will keep this small for faster training time)\n",
    "epochs = 5\n",
    "\n",
    "#create training and testing loop\n",
    "for epoch in tqdm(range(epochs)):\n",
    "  print(f\"Epoch: {epoch}\\n-----\")\n",
    "\n",
    "  ###training\n",
    "  train_loss = 0\n",
    "\n",
    "  #add a loop to loop through the training batches\n",
    "  for batch, (X, y) in enumerate(train_dataloader):\n",
    "    model_0.train()\n",
    "\n",
    "    #1. forward pass\n",
    "    y_pred = model_0(X)\n",
    "\n",
    "    #2. calculate loss per batch\n",
    "    loss = loss_fn(y_pred, y)\n",
    "    train_loss += loss #accumalate train loss\n",
    "\n",
    "    #3. optimizer zero grad\n",
    "    optimizer.zero_grad()\n",
    "\n",
    "    #4. loss backward\n",
    "    loss.backward()\n",
    "\n",
    "    #5.optimizer step\n",
    "    optimizer.step()\n",
    "\n",
    "    #print what is happening\n",
    "    if batch % 400 == 0:\n",
    "      print(f\"Looked at: {batch * len(X)}/{len(train_dataloader.dataset)} samples.\")\n",
    "\n",
    "  # devides total train loss by length if train dataloader\n",
    "  train_loss /= len(train_dataloader)\n",
    "\n",
    "  ### Testing\n",
    "  test_loss, test_acc = 0, 0\n",
    "  model_0.eval()\n",
    "  with torch.inference_mode():\n",
    "    for X_test, y_test in test_dataloader:\n",
    "      #1. forward pass\n",
    "      test_pred = model_0(X_test)\n",
    "\n",
    "      #2. calculate loss( accumalatively)\n",
    "      test_loss += loss_fn(test_pred, y_test)\n",
    "\n",
    "      #3. calculate accc\n",
    "      test_acc += acc_fn(y_true=y_test, y_pred=test_pred.argmax(dim=1))\n",
    "\n",
    "    #calculate test loss average per batch\n",
    "    test_loss /= len(test_dataloader)\n",
    "\n",
    "    #calculate the test acc average per batch\n",
    "    test_acc /= len(test_dataloader)\n",
    "\n",
    "\n",
    "  #print out what is happening\n",
    "  print(f\"\\n Train loss: {train_loss:.4f} | Test loss: {test_loss:.4f} | test acc: {test_acc:.4f}\")\n",
    "\n",
    "\n",
    "#calculate training time\n",
    "train_time_end_on_cpu = timer()\n",
    "total_train_time_model_0 = print_train_time(start= train_time_start_on_cpu,\n",
    "                                            end=train_time_end_on_cpu,\n",
    "                                            device = str(next(model_0.parameters()).device))"
   ]
  },
  {
   "cell_type": "code",
   "execution_count": 29,
   "metadata": {
    "colab": {
     "base_uri": "https://localhost:8080/",
     "height": 35
    },
    "id": "FJxSH04xSRM4",
    "outputId": "53f06a87-e465-44f8-9123-a64dd7b5201b"
   },
   "outputs": [
    {
     "data": {
      "application/vnd.google.colaboratory.intrinsic+json": {
       "type": "string"
      },
      "text/plain": [
       "'cpu'"
      ]
     },
     "execution_count": 29,
     "metadata": {},
     "output_type": "execute_result"
    }
   ],
   "source": [
    "str(next(model_0.parameters()).device)"
   ]
  },
  {
   "cell_type": "markdown",
   "metadata": {
    "id": "h2tepwbpnQ4B"
   },
   "source": [
    "##4. make predictions and get model 0 results"
   ]
  },
  {
   "cell_type": "code",
   "execution_count": 30,
   "metadata": {
    "id": "kK7fvk4OpOjn"
   },
   "outputs": [],
   "source": [
    "torch.manual_seed(42)\n",
    "def eval_model(model: torch.nn.Module,\n",
    "               data_loader: torch.utils.data.DataLoader,\n",
    "               loss_fn: torch.nn.Module,\n",
    "               acc_fn):\n",
    "  loss, acc = 0, 0\n",
    "  model.eval()\n",
    "  with torch.inference_mode():\n",
    "    for X, y in tqdm(data_loader): #diff with training and testing that there is no epochs\n",
    "      #make predictions\n",
    "      y_pred = model(X)\n",
    "\n",
    "      #accumalate the loss and acc values per batch\n",
    "      loss += loss_fn(y_pred, y)\n",
    "      acc += acc_fn(y_true=y,\n",
    "                    y_pred=y_pred.argmax(dim=1))\n",
    "\n",
    "    #scale loss and acc to find avg loss/acc per batch\n",
    "    loss /= len(data_loader)\n",
    "    acc /= len(data_loader)\n",
    "\n",
    "  return{\"model_name\": model.__class__.__name__,\n",
    "         \"model_loss\": loss.item(),\n",
    "         \"model_acc\": acc}"
   ]
  },
  {
   "cell_type": "code",
   "execution_count": 31,
   "metadata": {
    "colab": {
     "base_uri": "https://localhost:8080/",
     "height": 101,
     "referenced_widgets": [
      "091fe2306f804717822116d4eb41073b",
      "535240984796460cbbcb4116a2146139",
      "06b97672e1f24e888a6669c17baa8d53",
      "20d345e294804902a86e1bf85624abeb",
      "2207ce102ae14e1cbe9b493983c03680",
      "f95707f9e53e407991c1e71948779b7b",
      "051bd321f6b246f5b3654b0abe4c5ce2",
      "0188449b6978427395b23dd1d60a5e9b",
      "b686ab8d62ae4a61afc11b6563e0859f",
      "d12b38e561244bbeafcbe3974ca35438",
      "2817956c2d884a0e866ee628ae3dedd2"
     ]
    },
    "id": "PtIlVyiYKpLl",
    "outputId": "3d142b97-586d-48ff-e5ce-dba3eca39ddb"
   },
   "outputs": [
    {
     "data": {
      "application/vnd.jupyter.widget-view+json": {
       "model_id": "091fe2306f804717822116d4eb41073b",
       "version_major": 2,
       "version_minor": 0
      },
      "text/plain": [
       "  0%|          | 0/313 [00:00<?, ?it/s]"
      ]
     },
     "metadata": {},
     "output_type": "display_data"
    },
    {
     "data": {
      "text/plain": [
       "{'model_name': 'FashionMNISTModelV0',\n",
       " 'model_loss': 0.46732279658317566,\n",
       " 'model_acc': 83.55630990415335}"
      ]
     },
     "execution_count": 31,
     "metadata": {},
     "output_type": "execute_result"
    }
   ],
   "source": [
    "#calculate model 0 results\n",
    "model_0_results = eval_model(model=model_0,\n",
    "                             data_loader= test_dataloader,\n",
    "                             loss_fn=loss_fn,\n",
    "                             acc_fn= acc_fn)\n",
    "\n",
    "model_0_results"
   ]
  },
  {
   "cell_type": "markdown",
   "metadata": {
    "id": "fdfs0exSpOrw"
   },
   "source": [
    "##5. setup device agnostic code(for using GPU if there is one)"
   ]
  },
  {
   "cell_type": "code",
   "execution_count": 32,
   "metadata": {
    "colab": {
     "base_uri": "https://localhost:8080/"
    },
    "id": "mDUaKHGWpOyW",
    "outputId": "760ce4aa-3489-4d87-e9ca-34ceab5b91f4"
   },
   "outputs": [
    {
     "name": "stdout",
     "output_type": "stream",
     "text": [
      "/bin/bash: line 1: nvidia-smi: command not found\n"
     ]
    }
   ],
   "source": [
    "#non-linear on gpu, linear on cpu\n",
    "!nvidia-smi"
   ]
  },
  {
   "cell_type": "code",
   "execution_count": 33,
   "metadata": {
    "colab": {
     "base_uri": "https://localhost:8080/"
    },
    "id": "Nk8-0a7FpO4g",
    "outputId": "5d673277-3a55-4fd2-cbf3-ee9cecc0c5ee"
   },
   "outputs": [
    {
     "data": {
      "text/plain": [
       "False"
      ]
     },
     "execution_count": 33,
     "metadata": {},
     "output_type": "execute_result"
    }
   ],
   "source": [
    "torch.cuda.is_available()"
   ]
  },
  {
   "cell_type": "code",
   "execution_count": 34,
   "metadata": {
    "colab": {
     "base_uri": "https://localhost:8080/",
     "height": 35
    },
    "id": "RNXtfnr8pO-L",
    "outputId": "a2ba893f-dbf4-4f71-cb18-0c28139cffd8"
   },
   "outputs": [
    {
     "data": {
      "application/vnd.google.colaboratory.intrinsic+json": {
       "type": "string"
      },
      "text/plain": [
       "'cpu'"
      ]
     },
     "execution_count": 34,
     "metadata": {},
     "output_type": "execute_result"
    }
   ],
   "source": [
    "device = 'cuda' if torch.cuda.is_available() else 'cpu'\n",
    "device"
   ]
  },
  {
   "cell_type": "markdown",
   "metadata": {
    "id": "pvgg0T8zpMsM"
   },
   "source": [
    "##6. Model 1: building a better model with non-linearity\n"
   ]
  },
  {
   "cell_type": "code",
   "execution_count": 35,
   "metadata": {
    "id": "6ruEFqZt7soE"
   },
   "outputs": [],
   "source": [
    "#create a model with non linear and linear layers\n",
    "class FashionMNISTModelV1(nn.Module):\n",
    "  def __init__(self,\n",
    "               input_shape: int,\n",
    "               hidden_units: int,\n",
    "               output_shape: int):\n",
    "    super().__init__()\n",
    "    self.layer_stack = nn.Sequential(nn.Flatten(),\n",
    "                                     nn.Linear(in_features=input_shape,\n",
    "                                               out_features= hidden_units),\n",
    "                                     nn.ReLU(),\n",
    "                                     nn.Linear(in_features=hidden_units,\n",
    "                                               out_features=output_shape),\n",
    "                                     nn.ReLU()\n",
    "                                     )\n",
    "  def forward(self, x):\n",
    "    return self.layer_stack(x)"
   ]
  },
  {
   "cell_type": "code",
   "execution_count": 36,
   "metadata": {
    "colab": {
     "base_uri": "https://localhost:8080/"
    },
    "id": "vCyAVN9P_N1H",
    "outputId": "1eaba429-7730-4967-e8e4-14eee41912d1"
   },
   "outputs": [
    {
     "data": {
      "text/plain": [
       "device(type='cpu')"
      ]
     },
     "execution_count": 36,
     "metadata": {},
     "output_type": "execute_result"
    }
   ],
   "source": [
    "#create instance of model 1\n",
    "torch.manual_seed(42)\n",
    "model_1 = FashionMNISTModelV1(input_shape=784, # this is output of flatten after 28*28\n",
    "                              hidden_units=10,\n",
    "                              output_shape=len(class_names)).to(device)\n",
    "next(model_1.parameters()).device"
   ]
  },
  {
   "cell_type": "markdown",
   "metadata": {
    "id": "Ty1b97ig_OIH"
   },
   "source": [
    "##setup loss , optimizer , and evaluation metrices"
   ]
  },
  {
   "cell_type": "code",
   "execution_count": 37,
   "metadata": {
    "id": "8Jwhdc3d_OO5"
   },
   "outputs": [],
   "source": [
    "loss_fn = nn.CrossEntropyLoss()\n",
    "optimizer = torch.optim.SGD(params= model_1.parameters(),\n",
    "                            lr= 0.1)"
   ]
  },
  {
   "cell_type": "markdown",
   "metadata": {
    "id": "v2qineUB_OUA"
   },
   "source": [
    "##6.1 functionizing training and evaluation/testing loop"
   ]
  },
  {
   "cell_type": "code",
   "execution_count": 38,
   "metadata": {
    "id": "qg-fItRPLOdD"
   },
   "outputs": [],
   "source": [
    "def train_step(model: torch.nn.Module,\n",
    "               data_loader: torch.utils.data.DataLoader,\n",
    "               loss_fn: torch.nn.Module,\n",
    "               optimizer: torch.optim.Optimizer,\n",
    "               acc_fn,\n",
    "               device: torch.device = device):\n",
    "\n",
    "  train_loss, train_acc = 0, 0\n",
    "\n",
    "  #put model on training mode\n",
    "  model.train()\n",
    "\n",
    "  #training loop per batch\n",
    "  for batch, (X, y) in enumerate(data_loader):\n",
    "    #put data on target device\n",
    "    X, y = X.to(device), y.to(device)\n",
    "\n",
    "    #forward pass\n",
    "    y_pred = model(X)\n",
    "\n",
    "    #calculate the loss\n",
    "    loss = loss_fn(y_pred, y) #.argmax(dim=1) not needed cuz loss take logits\n",
    "    acc = acc_fn(y_true=y, y_pred=y_pred.argmax(dim=1))  #.argmax(dim=1) needed cuz acc take labels (index of highest index)\n",
    "\n",
    "    train_loss += loss\n",
    "    train_acc += acc\n",
    "\n",
    "    #optimizer zero grad\n",
    "    optimizer.zero_grad()\n",
    "\n",
    "    #backpropagation\n",
    "    loss.backward()\n",
    "\n",
    "    #opimizer step\n",
    "    optimizer.step()\n",
    "\n",
    "  #calculate avg loss and acc\n",
    "  train_loss /= len(data_loader)\n",
    "  train_acc /= len(data_loader)\n",
    "\n",
    "  #print what is happening\n",
    "  print(f\"train loss: {train_loss:.5f} | train acc: {train_acc:.2f}%\")"
   ]
  },
  {
   "cell_type": "code",
   "execution_count": 39,
   "metadata": {
    "id": "7L2DWM66LOkO"
   },
   "outputs": [],
   "source": [
    "def test_step(model: torch.nn.Module,\n",
    "              data_loader: torch.utils.data.dataloader,\n",
    "              loss_fn: torch.nn.Module,\n",
    "              acc_fn,\n",
    "              device: torch.device = device\n",
    "              ):\n",
    "  test_loss, test_acc = 0, 0\n",
    "\n",
    "  #put model on eval mode\n",
    "  model.eval()\n",
    "\n",
    "  #turn on inference mode context manager\n",
    "  with torch.inference_mode():\n",
    "    for batch, (X, y) in enumerate(data_loader):\n",
    "\n",
    "      X, y = X.to(device), y.to(device)\n",
    "      test_pred = model(X)\n",
    "\n",
    "      test_loss += loss_fn(test_pred, y)\n",
    "      test_acc += acc_fn(y_true= y,\n",
    "                   y_pred = test_pred.argmax(dim = 1))\n",
    "\n",
    "    #adjuct metrices and print out\n",
    "    test_loss /= len(data_loader)\n",
    "    test_acc /= len(data_loader)\n",
    "\n",
    "    print(f\"Test loss: {test_loss:.5f} | Test acc: {test_acc:.2f}%\")"
   ]
  },
  {
   "cell_type": "code",
   "execution_count": 40,
   "metadata": {
    "colab": {
     "base_uri": "https://localhost:8080/",
     "height": 413,
     "referenced_widgets": [
      "6d60da396a8a42b180395e61a9d256d8",
      "8253edaf5b8b4a9e8cfdc8b82c059feb",
      "cd83ca36c880457483916108f434e89b",
      "dd65c7be1ff74ea7ade972e01b91bd7d",
      "68310fc7722f45098df6050bccf3ec5b",
      "38335d72cac54ff8984df7836a157321",
      "1ded7f6fdb1d4fd4829c2dd51e313dc0",
      "153be77feb7b4eac9240b3bb884c3aad",
      "e9ae2bf212554fc4808cdb09ef9ef8bd",
      "5b9ffe96334a4d46a6addf49d09bb0be",
      "ab672192ad3b4f8fae335f92eb1959c0"
     ]
    },
    "id": "1UsyuVaDLOq8",
    "outputId": "0cc30023-c22f-4824-e8ca-ead614ddce8b"
   },
   "outputs": [
    {
     "data": {
      "application/vnd.jupyter.widget-view+json": {
       "model_id": "6d60da396a8a42b180395e61a9d256d8",
       "version_major": 2,
       "version_minor": 0
      },
      "text/plain": [
       "  0%|          | 0/5 [00:00<?, ?it/s]"
      ]
     },
     "metadata": {},
     "output_type": "display_data"
    },
    {
     "name": "stdout",
     "output_type": "stream",
     "text": [
      "Epoch: 0\n",
      "----------\n",
      "train loss: 1.09199 | train acc: 61.34%\n",
      "Test loss: 0.95690 | Test acc: 64.98%\n",
      "Epoch: 1\n",
      "----------\n",
      "train loss: 0.73779 | train acc: 73.69%\n",
      "Test loss: 0.72388 | Test acc: 74.21%\n",
      "Epoch: 2\n",
      "----------\n",
      "train loss: 0.66776 | train acc: 76.08%\n",
      "Test loss: 0.68751 | Test acc: 75.64%\n",
      "Epoch: 3\n",
      "----------\n",
      "train loss: 0.64469 | train acc: 76.58%\n",
      "Test loss: 0.65771 | Test acc: 75.63%\n",
      "Epoch: 4\n",
      "----------\n",
      "train loss: 0.62659 | train acc: 77.07%\n",
      "Test loss: 0.65508 | Test acc: 76.30%\n",
      "Train time on gpu: 54.526 seconds\n"
     ]
    }
   ],
   "source": [
    "torch.manual_seed(42)\n",
    "start_train_time_on_gpu = timer()\n",
    "epochs = 5\n",
    "\n",
    "for epoch in tqdm(range(epochs)):\n",
    "  print(f\"Epoch: {epoch}\\n----------\")\n",
    "\n",
    "  #optimization and evaluation loop\n",
    "  train_step(model=model_1,\n",
    "             data_loader=train_dataloader,\n",
    "             loss_fn=loss_fn,\n",
    "             optimizer=optimizer,\n",
    "             acc_fn=acc_fn,\n",
    "             device=device)\n",
    "  test_step(model=model_1,\n",
    "            data_loader=test_dataloader,\n",
    "            loss_fn=loss_fn,\n",
    "            acc_fn=acc_fn,\n",
    "            device=device)\n",
    "\n",
    "end_train_time_on_gpu = timer()\n",
    "total_train_time_model_1 = print_train_time(start=start_train_time_on_gpu,\n",
    "                 end=end_train_time_on_gpu,\n",
    "                 device='gpu')"
   ]
  },
  {
   "cell_type": "markdown",
   "metadata": {
    "id": "EnNAlYD4G9rL"
   },
   "source": [
    "> **note:** sometimes, depending on data/hardware you might find your model train faster on cpu than gpu.\n",
    ">\n",
    ">why is this?\n",
    ">1. it could be that the overhead for copying data/model to and from the GPU outweights the compute benefits offered by GPU.\n",
    ">2. the hardware you are using has a better CPU in terms of compute capability than the GPU."
   ]
  },
  {
   "cell_type": "code",
   "execution_count": 41,
   "metadata": {
    "colab": {
     "base_uri": "https://localhost:8080/"
    },
    "id": "H6R9Q4kjHU9x",
    "outputId": "c7a7495f-cbb8-4e59-86b2-3a10b1072caa"
   },
   "outputs": [
    {
     "data": {
      "text/plain": [
       "{'model_name': 'FashionMNISTModelV0',\n",
       " 'model_loss': 0.46732279658317566,\n",
       " 'model_acc': 83.55630990415335}"
      ]
     },
     "execution_count": 41,
     "metadata": {},
     "output_type": "execute_result"
    }
   ],
   "source": [
    " model_0_results"
   ]
  },
  {
   "cell_type": "code",
   "execution_count": 42,
   "metadata": {
    "colab": {
     "base_uri": "https://localhost:8080/"
    },
    "id": "RZhJPF6aGjhG",
    "outputId": "2bc8515a-3c42-438e-ffc2-80b5fac1db01"
   },
   "outputs": [
    {
     "data": {
      "text/plain": [
       "54.631962281"
      ]
     },
     "execution_count": 42,
     "metadata": {},
     "output_type": "execute_result"
    }
   ],
   "source": [
    "total_train_time_model_0"
   ]
  },
  {
   "cell_type": "code",
   "execution_count": 43,
   "metadata": {
    "id": "DMGq9kdPLNIf"
   },
   "outputs": [],
   "source": [
    "torch.manual_seed(42)\n",
    "def eval_model(model: torch.nn.Module,\n",
    "               data_loader: torch.utils.data.DataLoader,\n",
    "               loss_fn: torch.nn.Module,\n",
    "               acc_fn):\n",
    "  loss, acc = 0, 0\n",
    "  model.eval()\n",
    "  with torch.inference_mode():\n",
    "    for X, y in tqdm(data_loader): #diff with training and testing that there is no epochs\n",
    "      X, y = X.to(device), y.to(device)\n",
    "      #make predictions\n",
    "      y_pred = model(X)\n",
    "\n",
    "      #accumalate the loss and acc values per batch\n",
    "      loss += loss_fn(y_pred, y)\n",
    "      acc += acc_fn(y_true=y,\n",
    "                    y_pred=y_pred.argmax(dim=1))\n",
    "\n",
    "    #scale loss and acc to find avg loss/acc per batch\n",
    "    loss /= len(data_loader)\n",
    "    acc /= len(data_loader)\n",
    "\n",
    "  return{\"model_name\": model.__class__.__name__,\n",
    "         \"model_loss\": loss.item(),\n",
    "         \"model_acc\": acc}"
   ]
  },
  {
   "cell_type": "code",
   "execution_count": 44,
   "metadata": {
    "colab": {
     "base_uri": "https://localhost:8080/",
     "height": 101,
     "referenced_widgets": [
      "1023c734ca4e473fb8934bdc999df4b9",
      "2e862ca3d66949d1b084c2f460c87c0d",
      "9d3f2676ad1145619c71080ec4b14a89",
      "1cef53edabf942e682de31beda71af79",
      "4d0b9c30bc2c4d6dab6b261ac2ac4194",
      "462cf9c890c241ee96afdd8f3e500d48",
      "30d88500741e4a96bac1ea0964fd9248",
      "1c7a311ca55c4ed1914edb862fc1d4e8",
      "2d11ef8cbc3f48efbb7ab03da2ebc64a",
      "49d55009d7da498b9ada19ddc1f566f1",
      "80dbf45d47714930a50a88077c10d568"
     ]
    },
    "id": "546OJ3G7Gl7S",
    "outputId": "7ee50f44-e86d-4cec-c3de-0a7ca842fd0e"
   },
   "outputs": [
    {
     "data": {
      "application/vnd.jupyter.widget-view+json": {
       "model_id": "1023c734ca4e473fb8934bdc999df4b9",
       "version_major": 2,
       "version_minor": 0
      },
      "text/plain": [
       "  0%|          | 0/313 [00:00<?, ?it/s]"
      ]
     },
     "metadata": {},
     "output_type": "display_data"
    },
    {
     "data": {
      "text/plain": [
       "{'model_name': 'FashionMNISTModelV1',\n",
       " 'model_loss': 0.6555879712104797,\n",
       " 'model_acc': 76.27795527156549}"
      ]
     },
     "execution_count": 44,
     "metadata": {},
     "output_type": "execute_result"
    }
   ],
   "source": [
    "# Get model 1 results dictionary\n",
    "model_1_results = eval_model(model=model_1,\n",
    "                             data_loader=test_dataloader,\n",
    "                             loss_fn=loss_fn,\n",
    "                             acc_fn=acc_fn)\n",
    "\n",
    "model_1_results"
   ]
  },
  {
   "cell_type": "code",
   "execution_count": 45,
   "metadata": {
    "colab": {
     "base_uri": "https://localhost:8080/"
    },
    "id": "yB26YQOpMIaD",
    "outputId": "80aee16b-1589-4d4a-e2bd-9ed5f5cc639b"
   },
   "outputs": [
    {
     "data": {
      "text/plain": [
       "{'model_name': 'FashionMNISTModelV0',\n",
       " 'model_loss': 0.46732279658317566,\n",
       " 'model_acc': 83.55630990415335}"
      ]
     },
     "execution_count": 45,
     "metadata": {},
     "output_type": "execute_result"
    }
   ],
   "source": [
    "model_0_results"
   ]
  },
  {
   "cell_type": "markdown",
   "metadata": {
    "id": "76EV5-nBMM1i"
   },
   "source": [
    "##Model 2: Building a convolutional Neural Networks\n",
    "\n",
    "CNN also know ConvNets.\n",
    "find patterns in visual data.\n",
    "> https://poloclub.github.io/cnn-explainer/?norec=true\n"
   ]
  },
  {
   "cell_type": "code",
   "execution_count": 46,
   "metadata": {
    "id": "fNZIy9qkNG1I"
   },
   "outputs": [],
   "source": [
    "class FashionMNISTModelV2(nn.Module):\n",
    "  def __init__(self,\n",
    "               input_shape: int,\n",
    "               hidden_units,\n",
    "               output_shape):\n",
    "    super().__init__()\n",
    "    self.convo_block_1 = nn.Sequential(\n",
    "        nn.Conv2d(in_channels= input_shape,\n",
    "                  out_channels = hidden_units,\n",
    "                  kernel_size=3, #how big is the square that is going around the image\n",
    "                  stride=1,   #take a step one pixel at a time\n",
    "                  padding=1), #add extra pixel around image\n",
    "        nn.ReLU(),\n",
    "        nn.Conv2d(in_channels= hidden_units,\n",
    "                  out_channels = hidden_units,\n",
    "                  kernel_size=3,\n",
    "                  stride=1,\n",
    "                  padding=1),\n",
    "        nn.ReLU(),\n",
    "        nn.MaxPool2d(kernel_size=2,\n",
    "                     stride=2)\n",
    "    )\n",
    "    self.convo_block_2 = nn.Sequential(\n",
    "        nn.Conv2d(in_channels= hidden_units,\n",
    "                  out_channels = hidden_units,\n",
    "                  kernel_size=3,\n",
    "                  stride=1,\n",
    "                  padding=1),\n",
    "        nn.ReLU(),\n",
    "        nn.Conv2d(in_channels= hidden_units,\n",
    "                  out_channels = hidden_units,\n",
    "                  kernel_size=3,\n",
    "                  stride=1,\n",
    "                  padding=1),\n",
    "        nn.ReLU(),\n",
    "        nn.MaxPool2d(kernel_size=2)\n",
    "        )\n",
    "    self.classifier = nn.Sequential(\n",
    "        nn.Flatten(),\n",
    "        nn.Linear(in_features=hidden_units*7*7, #there is a thrick to calculate this\n",
    "                  out_features=output_shape)\n",
    "    )\n",
    "\n",
    "  def forward(self, x):\n",
    "    x = self.convo_block_1(x)\n",
    "    #print(f\"output shape with conv_block_1: {x.shape}\")\n",
    "    x = self.convo_block_2(x)\n",
    "    #print(f\"output shape of conv_block_2: {x.shape}\")\n",
    "    x = self.classifier(x)\n",
    "    #print(f\"output shape of classifier: {x.shape}\")\n",
    "    return x"
   ]
  },
  {
   "cell_type": "code",
   "execution_count": 47,
   "metadata": {
    "id": "dJKKg_pbNHG9"
   },
   "outputs": [],
   "source": [
    "#create instance of cnn model\n",
    "torch.manual_seed(42)\n",
    "\n",
    "model_2 = FashionMNISTModelV2(input_shape=1,\n",
    "                              hidden_units=10,\n",
    "                              output_shape=len(class_names)).to(device)\n"
   ]
  },
  {
   "cell_type": "code",
   "execution_count": 48,
   "metadata": {
    "colab": {
     "base_uri": "https://localhost:8080/",
     "height": 441
    },
    "id": "6E55bN_0uMd8",
    "outputId": "b0badada-534b-4a78-e96d-d147d0538b58"
   },
   "outputs": [
    {
     "name": "stdout",
     "output_type": "stream",
     "text": [
      "torch.Size([1, 28, 28])\n"
     ]
    },
    {
     "data": {
      "text/plain": [
       "(np.float64(-0.5), np.float64(27.5), np.float64(27.5), np.float64(-0.5))"
      ]
     },
     "execution_count": 48,
     "metadata": {},
     "output_type": "execute_result"
    },
    {
     "data": {
      "image/png": "[encoded data removed]",
      "text/plain": [
       "<Figure size 640x480 with 1 Axes>"
      ]
     },
     "metadata": {},
     "output_type": "display_data"
    }
   ],
   "source": [
    "rand_image_tensor = torch.randn(size=(1,28,28))\n",
    "plt.imshow(rand_image_tensor.squeeze(), cmap=\"gray\")\n",
    "print(rand_image_tensor.shape)\n",
    "plt.axis(False)"
   ]
  },
  {
   "cell_type": "code",
   "execution_count": 49,
   "metadata": {
    "colab": {
     "base_uri": "https://localhost:8080/"
    },
    "id": "Wz4tHKlxuwZR",
    "outputId": "044d23a4-bf09-490f-e58e-8579f11b58b8"
   },
   "outputs": [
    {
     "data": {
      "text/plain": [
       "tensor([[ 0.0366, -0.0940,  0.0686, -0.0485,  0.0068,  0.0290,  0.0132,  0.0084,\n",
       "         -0.0030, -0.0185]], grad_fn=<AddmmBackward0>)"
      ]
     },
     "execution_count": 49,
     "metadata": {},
     "output_type": "execute_result"
    }
   ],
   "source": [
    "#pass image through model\n",
    "model_2(rand_image_tensor.unsqueeze(dim=0)).to(device)"
   ]
  },
  {
   "cell_type": "markdown",
   "metadata": {
    "id": "Dol_-4eeddmf"
   },
   "source": [
    "##7.1 stepping through `nn.conv2d`\n",
    "> https://pytorch.org/docs/stable/generated/torch.nn.Conv2d.html"
   ]
  },
  {
   "cell_type": "code",
   "execution_count": 50,
   "metadata": {
    "colab": {
     "base_uri": "https://localhost:8080/"
    },
    "id": "Gb6Wv1dmgss3",
    "outputId": "93513420-c0ef-4d80-c0a6-0c3912387911"
   },
   "outputs": [
    {
     "name": "stdout",
     "output_type": "stream",
     "text": [
      "image batch shape: torch.Size([32, 3, 64, 64])\n",
      "single image shape: torch.Size([3, 64, 64])\n",
      "test image: tensor([[[ 1.9269,  1.4873,  0.9007,  ...,  1.8446, -1.1845,  1.3835],\n",
      "         [ 1.4451,  0.8564,  2.2181,  ...,  0.3399,  0.7200,  0.4114],\n",
      "         [ 1.9312,  1.0119, -1.4364,  ..., -0.5558,  0.7043,  0.7099],\n",
      "         ...,\n",
      "         [-0.5610, -0.4830,  0.4770,  ..., -0.2713, -0.9537, -0.6737],\n",
      "         [ 0.3076, -0.1277,  0.0366,  ..., -2.0060,  0.2824, -0.8111],\n",
      "         [-1.5486,  0.0485, -0.7712,  ..., -0.1403,  0.9416, -0.0118]],\n",
      "\n",
      "        [[-0.5197,  1.8524,  1.8365,  ...,  0.8935, -1.5114, -0.8515],\n",
      "         [ 2.0818,  1.0677, -1.4277,  ...,  1.6612, -2.6223, -0.4319],\n",
      "         [-0.1010, -0.4388, -1.9775,  ...,  0.2106,  0.2536, -0.7318],\n",
      "         ...,\n",
      "         [ 0.2779,  0.7342, -0.3736,  ..., -0.4601,  0.1815,  0.1850],\n",
      "         [ 0.7205, -0.2833,  0.0937,  ..., -0.1002, -2.3609,  2.2465],\n",
      "         [-1.3242, -0.1973,  0.2920,  ...,  0.5409,  0.6940,  1.8563]],\n",
      "\n",
      "        [[-0.7978,  1.0261,  1.1465,  ...,  1.2134,  0.9354, -0.0780],\n",
      "         [-1.4647, -1.9571,  0.1017,  ..., -1.9986, -0.7409,  0.7011],\n",
      "         [-1.3938,  0.8466, -1.7191,  ..., -1.1867,  0.1320,  0.3407],\n",
      "         ...,\n",
      "         [ 0.8206, -0.3745,  1.2499,  ..., -0.0676,  0.0385,  0.6335],\n",
      "         [-0.5589, -0.3393,  0.2347,  ...,  2.1181,  2.4569,  1.3083],\n",
      "         [-0.4092,  1.5199,  0.2401,  ..., -0.2558,  0.7870,  0.9924]]])\n"
     ]
    }
   ],
   "source": [
    "torch.manual_seed(42)\n",
    "\n",
    "#create a batch of images\n",
    "images = torch.randn(size=(32,3,64,64))\n",
    "test_image = images[0]\n",
    "\n",
    "print(f\"image batch shape: {images.shape}\")\n",
    "print(f\"single image shape: {test_image.shape}\")\n",
    "print(f\"test image: {test_image}\")"
   ]
  },
  {
   "cell_type": "code",
   "execution_count": 51,
   "metadata": {
    "colab": {
     "base_uri": "https://localhost:8080/"
    },
    "id": "7sxNBtRky8rX",
    "outputId": "22fb2396-0e88-453b-d8c0-19c7cadb3354"
   },
   "outputs": [
    {
     "data": {
      "text/plain": [
       "torch.Size([1, 3, 64, 64])"
      ]
     },
     "execution_count": 51,
     "metadata": {},
     "output_type": "execute_result"
    }
   ],
   "source": [
    "test_image.unsqueeze(0).shape"
   ]
  },
  {
   "cell_type": "code",
   "execution_count": 52,
   "metadata": {
    "id": "w5TCyCWniHzb"
   },
   "outputs": [],
   "source": [
    "#model_2.state_dict()"
   ]
  },
  {
   "cell_type": "code",
   "execution_count": 53,
   "metadata": {
    "colab": {
     "base_uri": "https://localhost:8080/"
    },
    "id": "RhQvPFAkiUhM",
    "outputId": "d7a26bbc-686e-419e-bf9e-13358f70c6d1"
   },
   "outputs": [
    {
     "data": {
      "text/plain": [
       "torch.Size([1, 10, 64, 64])"
      ]
     },
     "execution_count": 53,
     "metadata": {},
     "output_type": "execute_result"
    }
   ],
   "source": [
    "#create a single conv2d layer\n",
    "conv_layer = nn.Conv2d(in_channels=3,\n",
    "                       out_channels=10,\n",
    "                       kernel_size=(3,3),\n",
    "                       stride=1,\n",
    "                       padding=1)\n",
    "\n",
    "conv_output = conv_layer(test_image.unsqueeze(0))\n",
    "conv_output.shape"
   ]
  },
  {
   "cell_type": "markdown",
   "metadata": {
    "id": "BL8vhpilyjYj"
   },
   "source": [
    "##7.2 stepping through `nn.maxpol2d`"
   ]
  },
  {
   "cell_type": "code",
   "execution_count": 54,
   "metadata": {
    "colab": {
     "base_uri": "https://localhost:8080/"
    },
    "id": "q3sPMGHc2APq",
    "outputId": "bd73fbfb-a0d1-49a5-d4a6-d85f97045d98"
   },
   "outputs": [
    {
     "name": "stdout",
     "output_type": "stream",
     "text": [
      "shape of test image: torch.Size([3, 64, 64])\n",
      "test image with unsqueezed dimension: torch.Size([1, 3, 64, 64])\n",
      "shape after going through conv layer: torch.Size([1, 10, 64, 64])\n",
      "shape after goining through max pool and conv: torch.Size([1, 10, 32, 32])\n"
     ]
    }
   ],
   "source": [
    "#create a single maxpol2d layer\n",
    "print(f\"shape of test image: {test_image.shape}\")\n",
    "print(f\"test image with unsqueezed dimension: {test_image.unsqueeze(0).shape}\")\n",
    "\n",
    "#create a sample nn.maxpool2d\n",
    "max_pool_layer = nn.MaxPool2d(kernel_size=2)\n",
    "\n",
    "#pass data through just conv layer\n",
    "test_image_through_conv = conv_layer(test_image.unsqueeze(0)) #unsqueeze add extra dimension\n",
    "print(f\"shape after going through conv layer: {test_image_through_conv.shape}\")\n",
    "\n",
    "#pass data through the max pool layer\n",
    "test_image_through_conv_and_max_pool = max_pool_layer(test_image_through_conv)\n",
    "print(f\"shape after goining through max pool and conv: {test_image_through_conv_and_max_pool.shape}\")"
   ]
  },
  {
   "cell_type": "code",
   "execution_count": 55,
   "metadata": {
    "colab": {
     "base_uri": "https://localhost:8080/"
    },
    "id": "K6ZPwvApl6g2",
    "outputId": "e4a7e061-3c29-4ebc-a9f1-3ef6a4db19d0"
   },
   "outputs": [
    {
     "name": "stdout",
     "output_type": "stream",
     "text": [
      "\n",
      "max pool tensor:\n",
      "tensor([[[[0.3367]]]])\n",
      "\n",
      "max pool tensor shape: \n",
      "torch.Size([1, 1, 1, 1])\n",
      "\n",
      "tensor([[[[0.3367, 0.1288],\n",
      "          [0.2345, 0.2303]]]]), torch.Size([1, 1, 2, 2])\n"
     ]
    }
   ],
   "source": [
    "torch.manual_seed(42)\n",
    "\n",
    "random_tensor = torch.randn(size=(1, 1, 2, 2))\n",
    "\n",
    "max_pool_layer = nn.MaxPool2d(kernel_size=2)\n",
    "\n",
    "max_pool_tensor = max_pool_layer(random_tensor) #learning the most important feature from an image\n",
    "\n",
    "print(f\"\\nmax pool tensor:\\n{max_pool_tensor}\")\n",
    "print(f\"\\nmax pool tensor shape: \\n{max_pool_tensor.shape}\\n\")\n",
    "print(f\"{random_tensor}, {random_tensor.shape}\")"
   ]
  },
  {
   "cell_type": "code",
   "execution_count": 56,
   "metadata": {
    "colab": {
     "base_uri": "https://localhost:8080/",
     "height": 447
    },
    "id": "cSZk_FerqM2N",
    "outputId": "5f077951-565f-4dcb-cde0-7eb919a3efa3"
   },
   "outputs": [
    {
     "data": {
      "text/plain": [
       "<matplotlib.image.AxesImage at 0x7f6c08eab0d0>"
      ]
     },
     "execution_count": 56,
     "metadata": {},
     "output_type": "execute_result"
    },
    {
     "data": {
      "image/png": "[encoded data removed]",
      "text/plain": [
       "<Figure size 640x480 with 1 Axes>"
      ]
     },
     "metadata": {},
     "output_type": "display_data"
    }
   ],
   "source": [
    "plt.imshow(image.squeeze(), cmap = \"gray\")"
   ]
  },
  {
   "cell_type": "markdown",
   "metadata": {
    "id": "dETbGfNkvhw8"
   },
   "source": [
    "### set up loss fn and optimizer\n",
    "training cnn on our own dataset\n",
    "\n"
   ]
  },
  {
   "cell_type": "code",
   "execution_count": 57,
   "metadata": {
    "id": "Z283B0_uyVcq"
   },
   "outputs": [],
   "source": [
    "loss_fn = nn.CrossEntropyLoss()\n",
    "optimizer = torch.optim.SGD(params=model_2.parameters(),\n",
    "                            lr = 0.1)"
   ]
  },
  {
   "cell_type": "markdown",
   "metadata": {
    "id": "-X4l6Ox5yzDi"
   },
   "source": [
    "### training and testing model 2 using training and testing functions"
   ]
  },
  {
   "cell_type": "code",
   "execution_count": null,
   "metadata": {
    "colab": {
     "base_uri": "https://localhost:8080/",
     "height": 275,
     "referenced_widgets": [
      "0a53b4435fbe4c5cb102c3c2606caf9f",
      "01e9a5318ff748a583cb1823b1be0688",
      "2d5b5c452ede4f8db3be097631b9b55d",
      "b539e65218b8417e9ba01c79f5de0cb2",
      "ceba46bc24bf401a87b39a43b15f487b",
      "7e76dc6009e746ea929ef74519b3d7bb",
      "0a13406691f0489dba691c9fad6f5ba4",
      "25be167d3a984d5a9efaf27ee2395483",
      "620aeabb109c48f8b7753d653271ca40",
      "1bc46ddc31264e899fc8ec9e786c8a0d",
      "641780238938416ca31bb8bbff708115"
     ]
    },
    "id": "vUi9SD-zy_Iw",
    "outputId": "db7178c3-1755-4475-eb86-a9539b3e6b18"
   },
   "outputs": [
    {
     "data": {
      "application/vnd.jupyter.widget-view+json": {
       "model_id": "0a53b4435fbe4c5cb102c3c2606caf9f",
       "version_major": 2,
       "version_minor": 0
      },
      "text/plain": [
       "  0%|          | 0/5 [00:00<?, ?it/s]"
      ]
     },
     "metadata": {},
     "output_type": "display_data"
    },
    {
     "name": "stdout",
     "output_type": "stream",
     "text": [
      "epoch: 0\n",
      "train loss: 0.59518 | train acc: 78.38%\n",
      "Test loss: 0.39531 | Test acc: 85.98%\n",
      "epoch: 1\n",
      "train loss: 0.36421 | train acc: 86.86%\n",
      "Test loss: 0.38956 | Test acc: 86.13%\n",
      "epoch: 2\n",
      "train loss: 0.32472 | train acc: 88.31%\n",
      "Test loss: 0.35000 | Test acc: 87.45%\n",
      "epoch: 3\n",
      "train loss: 0.30469 | train acc: 89.03%\n",
      "Test loss: 0.31736 | Test acc: 88.53%\n",
      "epoch: 4\n"
     ]
    }
   ],
   "source": [
    "torch.manual_seed(42)\n",
    "torch.cuda.manual_seed(42)\n",
    "\n",
    "#measure time\n",
    "start_time_of_cnn_on_gpu = timer()\n",
    "\n",
    "#train and test model\n",
    "epochs = 5\n",
    "for epoch in tqdm(range(epochs)):\n",
    "  print(f\"epoch: {epoch}\")\n",
    "\n",
    "  train_step(model=model_2,\n",
    "             data_loader=train_dataloader,\n",
    "             loss_fn=loss_fn,\n",
    "             optimizer=optimizer,\n",
    "             acc_fn=acc_fn,\n",
    "             device=device)\n",
    "  test_step(model=model_2,\n",
    "            data_loader=test_dataloader,\n",
    "            loss_fn=loss_fn,\n",
    "            acc_fn=acc_fn,\n",
    "            device=device)\n",
    "\n",
    "end_train_of_cnn_on_gpu = timer()\n",
    "total_train_time_model_2 = print_train_time(start=start_time_of_cnn_on_gpu,\n",
    "                                            end=end_train_of_cnn_on_gpu,\n",
    "                                            device=device)\n"
   ]
  },
  {
   "cell_type": "code",
   "execution_count": 77,
   "metadata": {
    "colab": {
     "base_uri": "https://localhost:8080/",
     "height": 101,
     "referenced_widgets": [
      "386d5abddee54427899b079df428ad1e",
      "fb88087e97e3406e930cadb6400a6716",
      "658d356ed77f4daeaf3ee984cdf6dbd8",
      "276f18a6300b43f58dac2b57a9e0309c",
      "2f9dbdd72954409987a2fd35df5ff66f",
      "023904958f7a49d3b7916cda9eb017c8",
      "271d4b72e9184b509165ef5c315d353b",
      "174fda3239fd49e29ebabad43210683b",
      "aec62bbb9e8c46e8b1827ac441f85ecc",
      "759d37a9c6f04ccaae70da671b6a0691",
      "496ca4c01a6741c0a7947ef85d631389"
     ]
    },
    "id": "igH_NkGZy_DL",
    "outputId": "6fc3f8b5-b022-4a19-f825-12dca48c071f"
   },
   "outputs": [
    {
     "data": {
      "application/vnd.jupyter.widget-view+json": {
       "model_id": "386d5abddee54427899b079df428ad1e",
       "version_major": 2,
       "version_minor": 0
      },
      "text/plain": [
       "  0%|          | 0/313 [00:00<?, ?it/s]"
      ]
     },
     "metadata": {},
     "output_type": "display_data"
    },
    {
     "data": {
      "text/plain": [
       "{'model_name': 'FashionMNISTModelV2',\n",
       " 'model_loss': 0.34219005703926086,\n",
       " 'model_acc': 87.65974440894568}"
      ]
     },
     "execution_count": 77,
     "metadata": {},
     "output_type": "execute_result"
    }
   ],
   "source": [
    "model_2_results = eval_model(model=model_2,\n",
    "                             data_loader=test_dataloader,\n",
    "                             loss_fn=loss_fn,\n",
    "                             acc_fn= acc_fn)\n",
    "model_2_results"
   ]
  },
  {
   "cell_type": "code",
   "execution_count": 78,
   "metadata": {
    "colab": {
     "base_uri": "https://localhost:8080/"
    },
    "id": "fzIQm8kx1Ui1",
    "outputId": "c1e16df6-96f2-477b-a0e7-58eb37c13900"
   },
   "outputs": [
    {
     "data": {
      "text/plain": [
       "{'model_name': 'FashionMNISTModelV1',\n",
       " 'model_loss': 0.6555879712104797,\n",
       " 'model_acc': 76.27795527156549}"
      ]
     },
     "execution_count": 78,
     "metadata": {},
     "output_type": "execute_result"
    }
   ],
   "source": [
    "model_1_results"
   ]
  },
  {
   "cell_type": "code",
   "execution_count": 79,
   "metadata": {
    "colab": {
     "base_uri": "https://localhost:8080/"
    },
    "id": "6spL9Npp1yZm",
    "outputId": "32fed941-d648-4411-8d34-261ff278ab1b"
   },
   "outputs": [
    {
     "data": {
      "text/plain": [
       "{'model_name': 'FashionMNISTModelV0',\n",
       " 'model_loss': 0.46732279658317566,\n",
       " 'model_acc': 83.55630990415335}"
      ]
     },
     "execution_count": 79,
     "metadata": {},
     "output_type": "execute_result"
    }
   ],
   "source": [
    "model_0_results"
   ]
  },
  {
   "cell_type": "markdown",
   "metadata": {
    "id": "ppuKMKtn2L7x"
   },
   "source": [
    "###8. compare results of models\n"
   ]
  },
  {
   "cell_type": "code",
   "execution_count": 80,
   "metadata": {
    "colab": {
     "base_uri": "https://localhost:8080/",
     "height": 144
    },
    "id": "uk6MfaL02crg",
    "outputId": "164f3199-7ff8-471c-e67f-1b490c7fd0a4"
   },
   "outputs": [
    {
     "data": {
      "application/vnd.google.colaboratory.intrinsic+json": {
       "summary": "{\n  \"name\": \"compare_results\",\n  \"rows\": 3,\n  \"fields\": [\n    {\n      \"column\": \"model_name\",\n      \"properties\": {\n        \"dtype\": \"string\",\n        \"num_unique_values\": 3,\n        \"samples\": [\n          \"FashionMNISTModelV0\",\n          \"FashionMNISTModelV1\",\n          \"FashionMNISTModelV2\"\n        ],\n        \"semantic_type\": \"\",\n        \"description\": \"\"\n      }\n    },\n    {\n      \"column\": \"model_loss\",\n      \"properties\": {\n        \"dtype\": \"number\",\n        \"std\": 0.15775520651211758,\n        \"min\": 0.34219005703926086,\n        \"max\": 0.6555879712104797,\n        \"num_unique_values\": 3,\n        \"samples\": [\n          0.46732279658317566,\n          0.6555879712104797,\n          0.34219005703926086\n        ],\n        \"semantic_type\": \"\",\n        \"description\": \"\"\n      }\n    },\n    {\n      \"column\": \"model_acc\",\n      \"properties\": {\n        \"dtype\": \"number\",\n        \"std\": 5.764225083226992,\n        \"min\": 76.27795527156549,\n        \"max\": 87.65974440894568,\n        \"num_unique_values\": 3,\n        \"samples\": [\n          83.55630990415335,\n          76.27795527156549,\n          87.65974440894568\n        ],\n        \"semantic_type\": \"\",\n        \"description\": \"\"\n      }\n    }\n  ]\n}",
       "type": "dataframe",
       "variable_name": "compare_results"
      },
      "text/html": [
       "\n",
       "  <div id=\"df-07416cb3-2b47-404b-8f80-a10073c88c9b\" class=\"colab-df-container\">\n",
       "    <div>\n",
       "<style scoped>\n",
       "    .dataframe tbody tr th:only-of-type {\n",
       "        vertical-align: middle;\n",
       "    }\n",
       "\n",
       "    .dataframe tbody tr th {\n",
       "        vertical-align: top;\n",
       "    }\n",
       "\n",
       "    .dataframe thead th {\n",
       "        text-align: right;\n",
       "    }\n",
       "</style>\n",
       "<table border=\"1\" class=\"dataframe\">\n",
       "  <thead>\n",
       "    <tr style=\"text-align: right;\">\n",
       "      <th></th>\n",
       "      <th>model_name</th>\n",
       "      <th>model_loss</th>\n",
       "      <th>model_acc</th>\n",
       "    </tr>\n",
       "  </thead>\n",
       "  <tbody>\n",
       "    <tr>\n",
       "      <th>0</th>\n",
       "      <td>FashionMNISTModelV0</td>\n",
       "      <td>0.467323</td>\n",
       "      <td>83.556310</td>\n",
       "    </tr>\n",
       "    <tr>\n",
       "      <th>1</th>\n",
       "      <td>FashionMNISTModelV1</td>\n",
       "      <td>0.655588</td>\n",
       "      <td>76.277955</td>\n",
       "    </tr>\n",
       "    <tr>\n",
       "      <th>2</th>\n",
       "      <td>FashionMNISTModelV2</td>\n",
       "      <td>0.342190</td>\n",
       "      <td>87.659744</td>\n",
       "    </tr>\n",
       "  </tbody>\n",
       "</table>\n",
       "</div>\n",
       "    <div class=\"colab-df-buttons\">\n",
       "\n",
       "  <div class=\"colab-df-container\">\n",
       "    <button class=\"colab-df-convert\" onclick=\"convertToInteractive('df-07416cb3-2b47-404b-8f80-a10073c88c9b')\"\n",
       "            title=\"Convert this dataframe to an interactive table.\"\n",
       "            style=\"display:none;\">\n",
       "\n",
       "  <svg xmlns=\"http://www.w3.org/2000/svg\" height=\"24px\" viewBox=\"0 -960 960 960\">\n",
       "    <path d=\"M120-120v-720h720v720H120Zm60-500h600v-160H180v160Zm220 220h160v-160H400v160Zm0 220h160v-160H400v160ZM180-400h160v-160H180v160Zm440 0h160v-160H620v160ZM180-180h160v-160H180v160Zm440 0h160v-160H620v160Z\"/>\n",
       "  </svg>\n",
       "    </button>\n",
       "\n",
       "  <style>\n",
       "    .colab-df-container {\n",
       "      display:flex;\n",
       "      gap: 12px;\n",
       "    }\n",
       "\n",
       "    .colab-df-convert {\n",
       "      background-color: #E8F0FE;\n",
       "      border: none;\n",
       "      border-radius: 50%;\n",
       "      cursor: pointer;\n",
       "      display: none;\n",
       "      fill: #1967D2;\n",
       "      height: 32px;\n",
       "      padding: 0 0 0 0;\n",
       "      width: 32px;\n",
       "    }\n",
       "\n",
       "    .colab-df-convert:hover {\n",
       "      background-color: #E2EBFA;\n",
       "      box-shadow: 0px 1px 2px rgba(60, 64, 67, 0.3), 0px 1px 3px 1px rgba(60, 64, 67, 0.15);\n",
       "      fill: #174EA6;\n",
       "    }\n",
       "\n",
       "    .colab-df-buttons div {\n",
       "      margin-bottom: 4px;\n",
       "    }\n",
       "\n",
       "    [theme=dark] .colab-df-convert {\n",
       "      background-color: #3B4455;\n",
       "      fill: #D2E3FC;\n",
       "    }\n",
       "\n",
       "    [theme=dark] .colab-df-convert:hover {\n",
       "      background-color: #434B5C;\n",
       "      box-shadow: 0px 1px 3px 1px rgba(0, 0, 0, 0.15);\n",
       "      filter: drop-shadow(0px 1px 2px rgba(0, 0, 0, 0.3));\n",
       "      fill: #FFFFFF;\n",
       "    }\n",
       "  </style>\n",
       "\n",
       "    <script>\n",
       "      const buttonEl =\n",
       "        document.querySelector('#df-07416cb3-2b47-404b-8f80-a10073c88c9b button.colab-df-convert');\n",
       "      buttonEl.style.display =\n",
       "        google.colab.kernel.accessAllowed ? 'block' : 'none';\n",
       "\n",
       "      async function convertToInteractive(key) {\n",
       "        const element = document.querySelector('#df-07416cb3-2b47-404b-8f80-a10073c88c9b');\n",
       "        const dataTable =\n",
       "          await google.colab.kernel.invokeFunction('convertToInteractive',\n",
       "                                                    [key], {});\n",
       "        if (!dataTable) return;\n",
       "\n",
       "        const docLinkHtml = 'Like what you see? Visit the ' +\n",
       "          '<a target=\"_blank\" href=https://colab.research.google.com/notebooks/data_table.ipynb>data table notebook</a>'\n",
       "          + ' to learn more about interactive tables.';\n",
       "        element.innerHTML = '';\n",
       "        dataTable['output_type'] = 'display_data';\n",
       "        await google.colab.output.renderOutput(dataTable, element);\n",
       "        const docLink = document.createElement('div');\n",
       "        docLink.innerHTML = docLinkHtml;\n",
       "        element.appendChild(docLink);\n",
       "      }\n",
       "    </script>\n",
       "  </div>\n",
       "\n",
       "\n",
       "<div id=\"df-25f5f94b-1fcd-40d2-9177-21ac1ed04132\">\n",
       "  <button class=\"colab-df-quickchart\" onclick=\"quickchart('df-25f5f94b-1fcd-40d2-9177-21ac1ed04132')\"\n",
       "            title=\"Suggest charts\"\n",
       "            style=\"display:none;\">\n",
       "\n",
       "<svg xmlns=\"http://www.w3.org/2000/svg\" height=\"24px\"viewBox=\"0 0 24 24\"\n",
       "     width=\"24px\">\n",
       "    <g>\n",
       "        <path d=\"M19 3H5c-1.1 0-2 .9-2 2v14c0 1.1.9 2 2 2h14c1.1 0 2-.9 2-2V5c0-1.1-.9-2-2-2zM9 17H7v-7h2v7zm4 0h-2V7h2v10zm4 0h-2v-4h2v4z\"/>\n",
       "    </g>\n",
       "</svg>\n",
       "  </button>\n",
       "\n",
       "<style>\n",
       "  .colab-df-quickchart {\n",
       "      --bg-color: #E8F0FE;\n",
       "      --fill-color: #1967D2;\n",
       "      --hover-bg-color: #E2EBFA;\n",
       "      --hover-fill-color: #174EA6;\n",
       "      --disabled-fill-color: #AAA;\n",
       "      --disabled-bg-color: #DDD;\n",
       "  }\n",
       "\n",
       "  [theme=dark] .colab-df-quickchart {\n",
       "      --bg-color: #3B4455;\n",
       "      --fill-color: #D2E3FC;\n",
       "      --hover-bg-color: #434B5C;\n",
       "      --hover-fill-color: #FFFFFF;\n",
       "      --disabled-bg-color: #3B4455;\n",
       "      --disabled-fill-color: #666;\n",
       "  }\n",
       "\n",
       "  .colab-df-quickchart {\n",
       "    background-color: var(--bg-color);\n",
       "    border: none;\n",
       "    border-radius: 50%;\n",
       "    cursor: pointer;\n",
       "    display: none;\n",
       "    fill: var(--fill-color);\n",
       "    height: 32px;\n",
       "    padding: 0;\n",
       "    width: 32px;\n",
       "  }\n",
       "\n",
       "  .colab-df-quickchart:hover {\n",
       "    background-color: var(--hover-bg-color);\n",
       "    box-shadow: 0 1px 2px rgba(60, 64, 67, 0.3), 0 1px 3px 1px rgba(60, 64, 67, 0.15);\n",
       "    fill: var(--button-hover-fill-color);\n",
       "  }\n",
       "\n",
       "  .colab-df-quickchart-complete:disabled,\n",
       "  .colab-df-quickchart-complete:disabled:hover {\n",
       "    background-color: var(--disabled-bg-color);\n",
       "    fill: var(--disabled-fill-color);\n",
       "    box-shadow: none;\n",
       "  }\n",
       "\n",
       "  .colab-df-spinner {\n",
       "    border: 2px solid var(--fill-color);\n",
       "    border-color: transparent;\n",
       "    border-bottom-color: var(--fill-color);\n",
       "    animation:\n",
       "      spin 1s steps(1) infinite;\n",
       "  }\n",
       "\n",
       "  @keyframes spin {\n",
       "    0% {\n",
       "      border-color: transparent;\n",
       "      border-bottom-color: var(--fill-color);\n",
       "      border-left-color: var(--fill-color);\n",
       "    }\n",
       "    20% {\n",
       "      border-color: transparent;\n",
       "      border-left-color: var(--fill-color);\n",
       "      border-top-color: var(--fill-color);\n",
       "    }\n",
       "    30% {\n",
       "      border-color: transparent;\n",
       "      border-left-color: var(--fill-color);\n",
       "      border-top-color: var(--fill-color);\n",
       "      border-right-color: var(--fill-color);\n",
       "    }\n",
       "    40% {\n",
       "      border-color: transparent;\n",
       "      border-right-color: var(--fill-color);\n",
       "      border-top-color: var(--fill-color);\n",
       "    }\n",
       "    60% {\n",
       "      border-color: transparent;\n",
       "      border-right-color: var(--fill-color);\n",
       "    }\n",
       "    80% {\n",
       "      border-color: transparent;\n",
       "      border-right-color: var(--fill-color);\n",
       "      border-bottom-color: var(--fill-color);\n",
       "    }\n",
       "    90% {\n",
       "      border-color: transparent;\n",
       "      border-bottom-color: var(--fill-color);\n",
       "    }\n",
       "  }\n",
       "</style>\n",
       "\n",
       "  <script>\n",
       "    async function quickchart(key) {\n",
       "      const quickchartButtonEl =\n",
       "        document.querySelector('#' + key + ' button');\n",
       "      quickchartButtonEl.disabled = true;  // To prevent multiple clicks.\n",
       "      quickchartButtonEl.classList.add('colab-df-spinner');\n",
       "      try {\n",
       "        const charts = await google.colab.kernel.invokeFunction(\n",
       "            'suggestCharts', [key], {});\n",
       "      } catch (error) {\n",
       "        console.error('Error during call to suggestCharts:', error);\n",
       "      }\n",
       "      quickchartButtonEl.classList.remove('colab-df-spinner');\n",
       "      quickchartButtonEl.classList.add('colab-df-quickchart-complete');\n",
       "    }\n",
       "    (() => {\n",
       "      let quickchartButtonEl =\n",
       "        document.querySelector('#df-25f5f94b-1fcd-40d2-9177-21ac1ed04132 button');\n",
       "      quickchartButtonEl.style.display =\n",
       "        google.colab.kernel.accessAllowed ? 'block' : 'none';\n",
       "    })();\n",
       "  </script>\n",
       "</div>\n",
       "\n",
       "  <div id=\"id_6446f315-4380-4e78-a4c6-953b8c4984db\">\n",
       "    <style>\n",
       "      .colab-df-generate {\n",
       "        background-color: #E8F0FE;\n",
       "        border: none;\n",
       "        border-radius: 50%;\n",
       "        cursor: pointer;\n",
       "        display: none;\n",
       "        fill: #1967D2;\n",
       "        height: 32px;\n",
       "        padding: 0 0 0 0;\n",
       "        width: 32px;\n",
       "      }\n",
       "\n",
       "      .colab-df-generate:hover {\n",
       "        background-color: #E2EBFA;\n",
       "        box-shadow: 0px 1px 2px rgba(60, 64, 67, 0.3), 0px 1px 3px 1px rgba(60, 64, 67, 0.15);\n",
       "        fill: #174EA6;\n",
       "      }\n",
       "\n",
       "      [theme=dark] .colab-df-generate {\n",
       "        background-color: #3B4455;\n",
       "        fill: #D2E3FC;\n",
       "      }\n",
       "\n",
       "      [theme=dark] .colab-df-generate:hover {\n",
       "        background-color: #434B5C;\n",
       "        box-shadow: 0px 1px 3px 1px rgba(0, 0, 0, 0.15);\n",
       "        filter: drop-shadow(0px 1px 2px rgba(0, 0, 0, 0.3));\n",
       "        fill: #FFFFFF;\n",
       "      }\n",
       "    </style>\n",
       "    <button class=\"colab-df-generate\" onclick=\"generateWithVariable('compare_results')\"\n",
       "            title=\"Generate code using this dataframe.\"\n",
       "            style=\"display:none;\">\n",
       "\n",
       "  <svg xmlns=\"http://www.w3.org/2000/svg\" height=\"24px\"viewBox=\"0 0 24 24\"\n",
       "       width=\"24px\">\n",
       "    <path d=\"M7,19H8.4L18.45,9,17,7.55,7,17.6ZM5,21V16.75L18.45,3.32a2,2,0,0,1,2.83,0l1.4,1.43a1.91,1.91,0,0,1,.58,1.4,1.91,1.91,0,0,1-.58,1.4L9.25,21ZM18.45,9,17,7.55Zm-12,3A5.31,5.31,0,0,0,4.9,8.1,5.31,5.31,0,0,0,1,6.5,5.31,5.31,0,0,0,4.9,4.9,5.31,5.31,0,0,0,6.5,1,5.31,5.31,0,0,0,8.1,4.9,5.31,5.31,0,0,0,12,6.5,5.46,5.46,0,0,0,6.5,12Z\"/>\n",
       "  </svg>\n",
       "    </button>\n",
       "    <script>\n",
       "      (() => {\n",
       "      const buttonEl =\n",
       "        document.querySelector('#id_6446f315-4380-4e78-a4c6-953b8c4984db button.colab-df-generate');\n",
       "      buttonEl.style.display =\n",
       "        google.colab.kernel.accessAllowed ? 'block' : 'none';\n",
       "\n",
       "      buttonEl.onclick = () => {\n",
       "        google.colab.notebook.generateWithVariable('compare_results');\n",
       "      }\n",
       "      })();\n",
       "    </script>\n",
       "  </div>\n",
       "\n",
       "    </div>\n",
       "  </div>\n"
      ],
      "text/plain": [
       "            model_name  model_loss  model_acc\n",
       "0  FashionMNISTModelV0    0.467323  83.556310\n",
       "1  FashionMNISTModelV1    0.655588  76.277955\n",
       "2  FashionMNISTModelV2    0.342190  87.659744"
      ]
     },
     "execution_count": 80,
     "metadata": {},
     "output_type": "execute_result"
    }
   ],
   "source": [
    "import pandas as pd\n",
    "compare_results = pd.DataFrame([model_0_results,\n",
    "                                model_1_results,\n",
    "                                model_2_results])\n",
    "compare_results"
   ]
  },
  {
   "cell_type": "code",
   "execution_count": 81,
   "metadata": {
    "colab": {
     "base_uri": "https://localhost:8080/",
     "height": 144
    },
    "id": "PSpzZx8werUS",
    "outputId": "3207ecd4-c8f4-4b47-e653-27411e1682b8"
   },
   "outputs": [
    {
     "data": {
      "application/vnd.google.colaboratory.intrinsic+json": {
       "summary": "{\n  \"name\": \"compare_results\",\n  \"rows\": 3,\n  \"fields\": [\n    {\n      \"column\": \"model_name\",\n      \"properties\": {\n        \"dtype\": \"string\",\n        \"num_unique_values\": 3,\n        \"samples\": [\n          \"FashionMNISTModelV0\",\n          \"FashionMNISTModelV1\",\n          \"FashionMNISTModelV2\"\n        ],\n        \"semantic_type\": \"\",\n        \"description\": \"\"\n      }\n    },\n    {\n      \"column\": \"model_loss\",\n      \"properties\": {\n        \"dtype\": \"number\",\n        \"std\": 0.15775520651211758,\n        \"min\": 0.34219005703926086,\n        \"max\": 0.6555879712104797,\n        \"num_unique_values\": 3,\n        \"samples\": [\n          0.46732279658317566,\n          0.6555879712104797,\n          0.34219005703926086\n        ],\n        \"semantic_type\": \"\",\n        \"description\": \"\"\n      }\n    },\n    {\n      \"column\": \"model_acc\",\n      \"properties\": {\n        \"dtype\": \"number\",\n        \"std\": 5.764225083226992,\n        \"min\": 76.27795527156549,\n        \"max\": 87.65974440894568,\n        \"num_unique_values\": 3,\n        \"samples\": [\n          83.55630990415335,\n          76.27795527156549,\n          87.65974440894568\n        ],\n        \"semantic_type\": \"\",\n        \"description\": \"\"\n      }\n    },\n    {\n      \"column\": \"training_time\",\n      \"properties\": {\n        \"dtype\": \"number\",\n        \"std\": 140.746508235946,\n        \"min\": 54.52585638899998,\n        \"max\": 298.358995269,\n        \"num_unique_values\": 3,\n        \"samples\": [\n          54.631962281,\n          54.52585638899998,\n          298.358995269\n        ],\n        \"semantic_type\": \"\",\n        \"description\": \"\"\n      }\n    }\n  ]\n}",
       "type": "dataframe",
       "variable_name": "compare_results"
      },
      "text/html": [
       "\n",
       "  <div id=\"df-0d79e701-d337-4ff8-ac2f-8b738337284e\" class=\"colab-df-container\">\n",
       "    <div>\n",
       "<style scoped>\n",
       "    .dataframe tbody tr th:only-of-type {\n",
       "        vertical-align: middle;\n",
       "    }\n",
       "\n",
       "    .dataframe tbody tr th {\n",
       "        vertical-align: top;\n",
       "    }\n",
       "\n",
       "    .dataframe thead th {\n",
       "        text-align: right;\n",
       "    }\n",
       "</style>\n",
       "<table border=\"1\" class=\"dataframe\">\n",
       "  <thead>\n",
       "    <tr style=\"text-align: right;\">\n",
       "      <th></th>\n",
       "      <th>model_name</th>\n",
       "      <th>model_loss</th>\n",
       "      <th>model_acc</th>\n",
       "      <th>training_time</th>\n",
       "    </tr>\n",
       "  </thead>\n",
       "  <tbody>\n",
       "    <tr>\n",
       "      <th>0</th>\n",
       "      <td>FashionMNISTModelV0</td>\n",
       "      <td>0.467323</td>\n",
       "      <td>83.556310</td>\n",
       "      <td>54.631962</td>\n",
       "    </tr>\n",
       "    <tr>\n",
       "      <th>1</th>\n",
       "      <td>FashionMNISTModelV1</td>\n",
       "      <td>0.655588</td>\n",
       "      <td>76.277955</td>\n",
       "      <td>54.525856</td>\n",
       "    </tr>\n",
       "    <tr>\n",
       "      <th>2</th>\n",
       "      <td>FashionMNISTModelV2</td>\n",
       "      <td>0.342190</td>\n",
       "      <td>87.659744</td>\n",
       "      <td>298.358995</td>\n",
       "    </tr>\n",
       "  </tbody>\n",
       "</table>\n",
       "</div>\n",
       "    <div class=\"colab-df-buttons\">\n",
       "\n",
       "  <div class=\"colab-df-container\">\n",
       "    <button class=\"colab-df-convert\" onclick=\"convertToInteractive('df-0d79e701-d337-4ff8-ac2f-8b738337284e')\"\n",
       "            title=\"Convert this dataframe to an interactive table.\"\n",
       "            style=\"display:none;\">\n",
       "\n",
       "  <svg xmlns=\"http://www.w3.org/2000/svg\" height=\"24px\" viewBox=\"0 -960 960 960\">\n",
       "    <path d=\"M120-120v-720h720v720H120Zm60-500h600v-160H180v160Zm220 220h160v-160H400v160Zm0 220h160v-160H400v160ZM180-400h160v-160H180v160Zm440 0h160v-160H620v160ZM180-180h160v-160H180v160Zm440 0h160v-160H620v160Z\"/>\n",
       "  </svg>\n",
       "    </button>\n",
       "\n",
       "  <style>\n",
       "    .colab-df-container {\n",
       "      display:flex;\n",
       "      gap: 12px;\n",
       "    }\n",
       "\n",
       "    .colab-df-convert {\n",
       "      background-color: #E8F0FE;\n",
       "      border: none;\n",
       "      border-radius: 50%;\n",
       "      cursor: pointer;\n",
       "      display: none;\n",
       "      fill: #1967D2;\n",
       "      height: 32px;\n",
       "      padding: 0 0 0 0;\n",
       "      width: 32px;\n",
       "    }\n",
       "\n",
       "    .colab-df-convert:hover {\n",
       "      background-color: #E2EBFA;\n",
       "      box-shadow: 0px 1px 2px rgba(60, 64, 67, 0.3), 0px 1px 3px 1px rgba(60, 64, 67, 0.15);\n",
       "      fill: #174EA6;\n",
       "    }\n",
       "\n",
       "    .colab-df-buttons div {\n",
       "      margin-bottom: 4px;\n",
       "    }\n",
       "\n",
       "    [theme=dark] .colab-df-convert {\n",
       "      background-color: #3B4455;\n",
       "      fill: #D2E3FC;\n",
       "    }\n",
       "\n",
       "    [theme=dark] .colab-df-convert:hover {\n",
       "      background-color: #434B5C;\n",
       "      box-shadow: 0px 1px 3px 1px rgba(0, 0, 0, 0.15);\n",
       "      filter: drop-shadow(0px 1px 2px rgba(0, 0, 0, 0.3));\n",
       "      fill: #FFFFFF;\n",
       "    }\n",
       "  </style>\n",
       "\n",
       "    <script>\n",
       "      const buttonEl =\n",
       "        document.querySelector('#df-0d79e701-d337-4ff8-ac2f-8b738337284e button.colab-df-convert');\n",
       "      buttonEl.style.display =\n",
       "        google.colab.kernel.accessAllowed ? 'block' : 'none';\n",
       "\n",
       "      async function convertToInteractive(key) {\n",
       "        const element = document.querySelector('#df-0d79e701-d337-4ff8-ac2f-8b738337284e');\n",
       "        const dataTable =\n",
       "          await google.colab.kernel.invokeFunction('convertToInteractive',\n",
       "                                                    [key], {});\n",
       "        if (!dataTable) return;\n",
       "\n",
       "        const docLinkHtml = 'Like what you see? Visit the ' +\n",
       "          '<a target=\"_blank\" href=https://colab.research.google.com/notebooks/data_table.ipynb>data table notebook</a>'\n",
       "          + ' to learn more about interactive tables.';\n",
       "        element.innerHTML = '';\n",
       "        dataTable['output_type'] = 'display_data';\n",
       "        await google.colab.output.renderOutput(dataTable, element);\n",
       "        const docLink = document.createElement('div');\n",
       "        docLink.innerHTML = docLinkHtml;\n",
       "        element.appendChild(docLink);\n",
       "      }\n",
       "    </script>\n",
       "  </div>\n",
       "\n",
       "\n",
       "<div id=\"df-7584558d-0a76-42aa-b5fd-595c16f05363\">\n",
       "  <button class=\"colab-df-quickchart\" onclick=\"quickchart('df-7584558d-0a76-42aa-b5fd-595c16f05363')\"\n",
       "            title=\"Suggest charts\"\n",
       "            style=\"display:none;\">\n",
       "\n",
       "<svg xmlns=\"http://www.w3.org/2000/svg\" height=\"24px\"viewBox=\"0 0 24 24\"\n",
       "     width=\"24px\">\n",
       "    <g>\n",
       "        <path d=\"M19 3H5c-1.1 0-2 .9-2 2v14c0 1.1.9 2 2 2h14c1.1 0 2-.9 2-2V5c0-1.1-.9-2-2-2zM9 17H7v-7h2v7zm4 0h-2V7h2v10zm4 0h-2v-4h2v4z\"/>\n",
       "    </g>\n",
       "</svg>\n",
       "  </button>\n",
       "\n",
       "<style>\n",
       "  .colab-df-quickchart {\n",
       "      --bg-color: #E8F0FE;\n",
       "      --fill-color: #1967D2;\n",
       "      --hover-bg-color: #E2EBFA;\n",
       "      --hover-fill-color: #174EA6;\n",
       "      --disabled-fill-color: #AAA;\n",
       "      --disabled-bg-color: #DDD;\n",
       "  }\n",
       "\n",
       "  [theme=dark] .colab-df-quickchart {\n",
       "      --bg-color: #3B4455;\n",
       "      --fill-color: #D2E3FC;\n",
       "      --hover-bg-color: #434B5C;\n",
       "      --hover-fill-color: #FFFFFF;\n",
       "      --disabled-bg-color: #3B4455;\n",
       "      --disabled-fill-color: #666;\n",
       "  }\n",
       "\n",
       "  .colab-df-quickchart {\n",
       "    background-color: var(--bg-color);\n",
       "    border: none;\n",
       "    border-radius: 50%;\n",
       "    cursor: pointer;\n",
       "    display: none;\n",
       "    fill: var(--fill-color);\n",
       "    height: 32px;\n",
       "    padding: 0;\n",
       "    width: 32px;\n",
       "  }\n",
       "\n",
       "  .colab-df-quickchart:hover {\n",
       "    background-color: var(--hover-bg-color);\n",
       "    box-shadow: 0 1px 2px rgba(60, 64, 67, 0.3), 0 1px 3px 1px rgba(60, 64, 67, 0.15);\n",
       "    fill: var(--button-hover-fill-color);\n",
       "  }\n",
       "\n",
       "  .colab-df-quickchart-complete:disabled,\n",
       "  .colab-df-quickchart-complete:disabled:hover {\n",
       "    background-color: var(--disabled-bg-color);\n",
       "    fill: var(--disabled-fill-color);\n",
       "    box-shadow: none;\n",
       "  }\n",
       "\n",
       "  .colab-df-spinner {\n",
       "    border: 2px solid var(--fill-color);\n",
       "    border-color: transparent;\n",
       "    border-bottom-color: var(--fill-color);\n",
       "    animation:\n",
       "      spin 1s steps(1) infinite;\n",
       "  }\n",
       "\n",
       "  @keyframes spin {\n",
       "    0% {\n",
       "      border-color: transparent;\n",
       "      border-bottom-color: var(--fill-color);\n",
       "      border-left-color: var(--fill-color);\n",
       "    }\n",
       "    20% {\n",
       "      border-color: transparent;\n",
       "      border-left-color: var(--fill-color);\n",
       "      border-top-color: var(--fill-color);\n",
       "    }\n",
       "    30% {\n",
       "      border-color: transparent;\n",
       "      border-left-color: var(--fill-color);\n",
       "      border-top-color: var(--fill-color);\n",
       "      border-right-color: var(--fill-color);\n",
       "    }\n",
       "    40% {\n",
       "      border-color: transparent;\n",
       "      border-right-color: var(--fill-color);\n",
       "      border-top-color: var(--fill-color);\n",
       "    }\n",
       "    60% {\n",
       "      border-color: transparent;\n",
       "      border-right-color: var(--fill-color);\n",
       "    }\n",
       "    80% {\n",
       "      border-color: transparent;\n",
       "      border-right-color: var(--fill-color);\n",
       "      border-bottom-color: var(--fill-color);\n",
       "    }\n",
       "    90% {\n",
       "      border-color: transparent;\n",
       "      border-bottom-color: var(--fill-color);\n",
       "    }\n",
       "  }\n",
       "</style>\n",
       "\n",
       "  <script>\n",
       "    async function quickchart(key) {\n",
       "      const quickchartButtonEl =\n",
       "        document.querySelector('#' + key + ' button');\n",
       "      quickchartButtonEl.disabled = true;  // To prevent multiple clicks.\n",
       "      quickchartButtonEl.classList.add('colab-df-spinner');\n",
       "      try {\n",
       "        const charts = await google.colab.kernel.invokeFunction(\n",
       "            'suggestCharts', [key], {});\n",
       "      } catch (error) {\n",
       "        console.error('Error during call to suggestCharts:', error);\n",
       "      }\n",
       "      quickchartButtonEl.classList.remove('colab-df-spinner');\n",
       "      quickchartButtonEl.classList.add('colab-df-quickchart-complete');\n",
       "    }\n",
       "    (() => {\n",
       "      let quickchartButtonEl =\n",
       "        document.querySelector('#df-7584558d-0a76-42aa-b5fd-595c16f05363 button');\n",
       "      quickchartButtonEl.style.display =\n",
       "        google.colab.kernel.accessAllowed ? 'block' : 'none';\n",
       "    })();\n",
       "  </script>\n",
       "</div>\n",
       "\n",
       "  <div id=\"id_a84130b9-cf30-4cbb-b596-e41e8b566314\">\n",
       "    <style>\n",
       "      .colab-df-generate {\n",
       "        background-color: #E8F0FE;\n",
       "        border: none;\n",
       "        border-radius: 50%;\n",
       "        cursor: pointer;\n",
       "        display: none;\n",
       "        fill: #1967D2;\n",
       "        height: 32px;\n",
       "        padding: 0 0 0 0;\n",
       "        width: 32px;\n",
       "      }\n",
       "\n",
       "      .colab-df-generate:hover {\n",
       "        background-color: #E2EBFA;\n",
       "        box-shadow: 0px 1px 2px rgba(60, 64, 67, 0.3), 0px 1px 3px 1px rgba(60, 64, 67, 0.15);\n",
       "        fill: #174EA6;\n",
       "      }\n",
       "\n",
       "      [theme=dark] .colab-df-generate {\n",
       "        background-color: #3B4455;\n",
       "        fill: #D2E3FC;\n",
       "      }\n",
       "\n",
       "      [theme=dark] .colab-df-generate:hover {\n",
       "        background-color: #434B5C;\n",
       "        box-shadow: 0px 1px 3px 1px rgba(0, 0, 0, 0.15);\n",
       "        filter: drop-shadow(0px 1px 2px rgba(0, 0, 0, 0.3));\n",
       "        fill: #FFFFFF;\n",
       "      }\n",
       "    </style>\n",
       "    <button class=\"colab-df-generate\" onclick=\"generateWithVariable('compare_results')\"\n",
       "            title=\"Generate code using this dataframe.\"\n",
       "            style=\"display:none;\">\n",
       "\n",
       "  <svg xmlns=\"http://www.w3.org/2000/svg\" height=\"24px\"viewBox=\"0 0 24 24\"\n",
       "       width=\"24px\">\n",
       "    <path d=\"M7,19H8.4L18.45,9,17,7.55,7,17.6ZM5,21V16.75L18.45,3.32a2,2,0,0,1,2.83,0l1.4,1.43a1.91,1.91,0,0,1,.58,1.4,1.91,1.91,0,0,1-.58,1.4L9.25,21ZM18.45,9,17,7.55Zm-12,3A5.31,5.31,0,0,0,4.9,8.1,5.31,5.31,0,0,0,1,6.5,5.31,5.31,0,0,0,4.9,4.9,5.31,5.31,0,0,0,6.5,1,5.31,5.31,0,0,0,8.1,4.9,5.31,5.31,0,0,0,12,6.5,5.46,5.46,0,0,0,6.5,12Z\"/>\n",
       "  </svg>\n",
       "    </button>\n",
       "    <script>\n",
       "      (() => {\n",
       "      const buttonEl =\n",
       "        document.querySelector('#id_a84130b9-cf30-4cbb-b596-e41e8b566314 button.colab-df-generate');\n",
       "      buttonEl.style.display =\n",
       "        google.colab.kernel.accessAllowed ? 'block' : 'none';\n",
       "\n",
       "      buttonEl.onclick = () => {\n",
       "        google.colab.notebook.generateWithVariable('compare_results');\n",
       "      }\n",
       "      })();\n",
       "    </script>\n",
       "  </div>\n",
       "\n",
       "    </div>\n",
       "  </div>\n"
      ],
      "text/plain": [
       "            model_name  model_loss  model_acc  training_time\n",
       "0  FashionMNISTModelV0    0.467323  83.556310      54.631962\n",
       "1  FashionMNISTModelV1    0.655588  76.277955      54.525856\n",
       "2  FashionMNISTModelV2    0.342190  87.659744     298.358995"
      ]
     },
     "execution_count": 81,
     "metadata": {},
     "output_type": "execute_result"
    }
   ],
   "source": [
    "#add training time to result comparison\n",
    "compare_results[\"training_time\"] = [total_train_time_model_0,\n",
    "                                    total_train_time_model_1,\n",
    "                                    total_train_time_model_2]\n",
    "\n",
    "compare_results"
   ]
  },
  {
   "cell_type": "code",
   "execution_count": 82,
   "metadata": {
    "colab": {
     "base_uri": "https://localhost:8080/",
     "height": 449
    },
    "id": "SPaWSiobhmfc",
    "outputId": "06b73aee-fa83-437d-b31e-52517b8d9329"
   },
   "outputs": [
    {
     "data": {
      "image/png": "[encoded data removed]",
      "text/plain": [
       "<Figure size 640x480 with 1 Axes>"
      ]
     },
     "metadata": {},
     "output_type": "display_data"
    }
   ],
   "source": [
    "compare_results.set_index(\"model_name\")[\"model_acc\"].plot(kind=\"barh\")\n",
    "plt.xlabel(\"accuracy (%)\")\n",
    "plt.ylabel(\"model\");\n"
   ]
  },
  {
   "cell_type": "markdown",
   "metadata": {
    "id": "9B2ye7Opijyz"
   },
   "source": [
    "###9. make and evaluate random predictions with best model"
   ]
  },
  {
   "cell_type": "code",
   "execution_count": 83,
   "metadata": {
    "id": "SMt2SRedjT_M"
   },
   "outputs": [],
   "source": [
    "def make_predictions(model: torch.nn.Module,\n",
    "                     data:list,\n",
    "                     device: torch.device = device):\n",
    "  pred_probs = []\n",
    "  model.to(device)\n",
    "  model.eval()\n",
    "  with torch.inference_mode():\n",
    "    for sample in data:\n",
    "      sample = torch.unsqueeze(sample, dim=0).to(device)\n",
    "\n",
    "      pred_logit = model(sample)\n",
    "\n",
    "      pred_prob = torch.softmax(pred_logit.squeeze(), dim=0)\n",
    "\n",
    "      pred_probs.append(pred_prob.cpu())\n",
    "\n",
    "  return torch.stack(pred_probs)"
   ]
  },
  {
   "cell_type": "code",
   "execution_count": 84,
   "metadata": {
    "colab": {
     "base_uri": "https://localhost:8080/"
    },
    "id": "iQRSYLgQkTG3",
    "outputId": "3f80e620-ceb0-47fd-b7c9-70c5077b13e2"
   },
   "outputs": [
    {
     "data": {
      "text/plain": [
       "(torch.Size([1, 28, 28]), 9, [6, 1, 6, 4, 0, 3, 6, 6, 9])"
      ]
     },
     "execution_count": 84,
     "metadata": {},
     "output_type": "execute_result"
    }
   ],
   "source": [
    "import random\n",
    "#random.seed(42)\n",
    "test_samples = []\n",
    "test_labels = []\n",
    "for sample, label in random.sample(list(test_data), k=9):\n",
    "  test_samples.append(sample)\n",
    "  test_labels.append(label)\n",
    "\n",
    "#view the first sample image\n",
    "test_samples[0].shape, len(test_samples), test_labels"
   ]
  },
  {
   "cell_type": "code",
   "execution_count": 85,
   "metadata": {
    "colab": {
     "base_uri": "https://localhost:8080/",
     "height": 469
    },
    "id": "ffih0gpslAeD",
    "outputId": "a490e525-b6c6-4fef-d35a-08b46c20f722"
   },
   "outputs": [
    {
     "data": {
      "text/plain": [
       "Text(0.5, 1.0, 'Shirt')"
      ]
     },
     "execution_count": 85,
     "metadata": {},
     "output_type": "execute_result"
    },
    {
     "data": {
      "image/png": "[encoded data removed]",
      "text/plain": [
       "<Figure size 640x480 with 1 Axes>"
      ]
     },
     "metadata": {},
     "output_type": "display_data"
    }
   ],
   "source": [
    "plt.imshow(test_samples[0].squeeze(), cmap=\"gray\")\n",
    "plt.title(class_names[test_labels[0]])"
   ]
  },
  {
   "cell_type": "code",
   "execution_count": 86,
   "metadata": {
    "colab": {
     "base_uri": "https://localhost:8080/"
    },
    "id": "93-ed4QUleBL",
    "outputId": "8bfd858d-7c5a-4fc4-c9b3-3e71cf722f42"
   },
   "outputs": [
    {
     "data": {
      "text/plain": [
       "tensor([[8.5404e-01, 6.6732e-06, 2.0812e-04, 7.1939e-04, 2.9078e-06, 9.0241e-06,\n",
       "         1.4464e-01, 6.6563e-07, 3.7247e-04, 7.8243e-08],\n",
       "        [7.2189e-04, 9.8861e-01, 1.5229e-05, 9.1187e-03, 3.7644e-04, 1.3039e-04,\n",
       "         2.0774e-04, 2.1543e-05, 7.8946e-04, 9.2353e-06]])"
      ]
     },
     "execution_count": 86,
     "metadata": {},
     "output_type": "execute_result"
    }
   ],
   "source": [
    "# make predictions\n",
    "pred_probs = make_predictions(model=model_2,\n",
    "                              data=test_samples)\n",
    "\n",
    "pred_probs[:2]"
   ]
  },
  {
   "cell_type": "code",
   "execution_count": 87,
   "metadata": {
    "colab": {
     "base_uri": "https://localhost:8080/"
    },
    "id": "Jj1Jw5aynBHP",
    "outputId": "d4909fcc-c811-4d9f-e4ce-e74fcbf16586"
   },
   "outputs": [
    {
     "data": {
      "text/plain": [
       "tensor([0, 1, 6, 4, 0, 3, 6, 6, 9])"
      ]
     },
     "execution_count": 87,
     "metadata": {},
     "output_type": "execute_result"
    }
   ],
   "source": [
    "#convert predictions probs to labels\n",
    "pred_classes = pred_probs.argmax(dim=1)\n",
    "pred_classes"
   ]
  },
  {
   "cell_type": "code",
   "execution_count": 88,
   "metadata": {
    "colab": {
     "base_uri": "https://localhost:8080/",
     "height": 749
    },
    "id": "tMt9Mym8ouxl",
    "outputId": "4f6e3b3c-60f0-4c14-d8ae-69c8f4e0723d"
   },
   "outputs": [
    {
     "data": {
      "image/png": "[encoded data removed]",
      "text/plain": [
       "<Figure size 900x900 with 9 Axes>"
      ]
     },
     "metadata": {},
     "output_type": "display_data"
    }
   ],
   "source": [
    "#plot predictions\n",
    "plt.figure(figsize=(9,9))\n",
    "nrows = 3\n",
    "ncols = 3\n",
    "for i, sample in enumerate(test_samples):\n",
    "  #create subplot\n",
    "  plt.subplot(nrows,ncols,i+1)\n",
    "\n",
    "  #plot the target image\n",
    "  plt.imshow(sample.squeeze(), cmap=\"gray\")\n",
    "\n",
    "  pred_label = class_names[pred_classes[i]]\n",
    "\n",
    "  #create truth label\n",
    "  truth_label = class_names[test_labels[i]]\n",
    "\n",
    "  title_text = f\"pred: {pred_label} | truth: {truth_label}\"\n",
    "\n",
    "  if pred_label==truth_label:\n",
    "    plt.title(title_text, fontsize=10, c=\"g\")\n",
    "\n",
    "  else:\n",
    "    plt.title(title_text, fontsize=10, c=\"r\")\n",
    "\n",
    "  plt.axis(False)"
   ]
  },
  {
   "cell_type": "markdown",
   "metadata": {
    "id": "P_-5DYRBpIkl"
   },
   "source": [
    "###10. making a confusion matrix for further prediction evaluation\n",
    "\n",
    "a confusion matrix is a fantastic way to evaluate classification models visually\n",
    "how:\n",
    "1. make predictions with our trained model on the test dataset.\n",
    "2. make a confusion matrix `torchmetrics.ConfusionMatrix`\n",
    "3. plot the confusion matrix using `mlxtend.plotting.plot_confusion_matrix()`"
   ]
  },
  {
   "cell_type": "code",
   "execution_count": 89,
   "metadata": {
    "colab": {
     "base_uri": "https://localhost:8080/",
     "height": 66,
     "referenced_widgets": [
      "a4d7c8a1819d4b858381b56a47aeebb0",
      "2f1f26c02c104ad8b13746cf664b34b9",
      "27158dce731a4ce1a2f30b88411b38cd",
      "394c23ffb9cd490c82495fabb5b35f35",
      "3660ac1ca4df42ae9e64c829d6b2cc80",
      "461373352481401f8a1d1597b264b1d4",
      "7f0fa7cce8c34503b3086f09efbeb68f",
      "720a44cdb916446ea4974a92ed68b576",
      "254ccb4e90bd467399d2f67844fe496a",
      "6997aa283543497eb319e56831d505eb",
      "48ba32e679ac48989e57138774486324"
     ]
    },
    "id": "tQWI81C_22QC",
    "outputId": "91a14ede-792e-4377-e77c-463c2971a5f5"
   },
   "outputs": [
    {
     "data": {
      "application/vnd.jupyter.widget-view+json": {
       "model_id": "a4d7c8a1819d4b858381b56a47aeebb0",
       "version_major": 2,
       "version_minor": 0
      },
      "text/plain": [
       "making predictions....:   0%|          | 0/313 [00:00<?, ?it/s]"
      ]
     },
     "metadata": {},
     "output_type": "display_data"
    },
    {
     "name": "stdout",
     "output_type": "stream",
     "text": [
      "tensor([2, 1, 5,  ..., 2, 5, 9])\n"
     ]
    }
   ],
   "source": [
    "#import tqdm.auto\n",
    "from tqdm.auto import tqdm\n",
    "\n",
    "#1. make predictions with trained model\n",
    "y_preds = []\n",
    "model_2.eval()\n",
    "with torch.inference_mode():\n",
    "  for X, y in tqdm(test_dataloader, desc=\"making predictions....\"):\n",
    "    X, y = X.to(device), y.to(device)\n",
    "\n",
    "    #do the forward pass\n",
    "    y_logits = model_2(X)\n",
    "    #turn logits to labels\n",
    "    y_pred = torch.softmax(y_logits.squeeze(), dim=0).argmax(dim=1)\n",
    "\n",
    "    #put predictions on cpu to evaluate\n",
    "    y_preds.append(y_pred.cpu())\n",
    "\n",
    "\n",
    "  #concatenate list of predictions into tensor\n",
    "  #print(y_preds)\n",
    "  y_pred_tensor = torch.cat(y_preds)\n",
    "  print(y_pred_tensor[:])"
   ]
  },
  {
   "cell_type": "code",
   "execution_count": 90,
   "metadata": {
    "colab": {
     "base_uri": "https://localhost:8080/"
    },
    "id": "2HXNxcPJ5OfT",
    "outputId": "ec9ece81-a846-4a93-c0ff-c578728b15d6"
   },
   "outputs": [
    {
     "data": {
      "text/plain": [
       "10000"
      ]
     },
     "execution_count": 90,
     "metadata": {},
     "output_type": "execute_result"
    }
   ],
   "source": [
    "len(y_pred_tensor)"
   ]
  },
  {
   "cell_type": "code",
   "execution_count": 91,
   "metadata": {
    "colab": {
     "base_uri": "https://localhost:8080/"
    },
    "id": "tZ7LABZl5eUq",
    "outputId": "be560124-6950-4646-e153-c844af834d5b"
   },
   "outputs": [
    {
     "name": "stdout",
     "output_type": "stream",
     "text": [
      "mlxtend version: 0.23.4\n"
     ]
    }
   ],
   "source": [
    "#see if required packages are installed, and if not, install them\n",
    "try:\n",
    "    import mlxtend\n",
    "    print(f\"mlxtend version: {mlxtend.__version__}\")\n",
    "    assert int(mlxtend.__version__.split(\".\")[1]) >= 19, \"mlxtend version should be more than 19\"\n",
    "except ImportError:\n",
    "    !pip install torchmetrics -U mlxtend\n",
    "    import torchmetrics, mlxtend\n",
    "    print(\"mlxtend is not installed. Please install it using: pip install mlxtend\")\n"
   ]
  },
  {
   "cell_type": "code",
   "execution_count": 92,
   "metadata": {
    "id": "UOyUM4JC9hYh"
   },
   "outputs": [],
   "source": [
    "!pip install -q torchmetrics"
   ]
  },
  {
   "cell_type": "code",
   "execution_count": 93,
   "metadata": {
    "colab": {
     "base_uri": "https://localhost:8080/",
     "height": 35
    },
    "id": "JsRN-SEQpItH",
    "outputId": "d55dfe67-6204-48af-f537-e71d14a508d5"
   },
   "outputs": [
    {
     "data": {
      "application/vnd.google.colaboratory.intrinsic+json": {
       "type": "string"
      },
      "text/plain": [
       "'0.23.4'"
      ]
     },
     "execution_count": 93,
     "metadata": {},
     "output_type": "execute_result"
    }
   ],
   "source": [
    "import mlxtend\n",
    "mlxtend.__version__"
   ]
  },
  {
   "cell_type": "code",
   "execution_count": 96,
   "metadata": {
    "colab": {
     "base_uri": "https://localhost:8080/",
     "height": 667
    },
    "id": "A5IWQLhdpI0r",
    "outputId": "c12e7cb4-8db7-4ff4-ad89-d33c39c69b46"
   },
   "outputs": [
    {
     "data": {
      "image/png": "[encoded data removed]",
      "text/plain": [
       "<Figure size 1000x700 with 1 Axes>"
      ]
     },
     "metadata": {},
     "output_type": "display_data"
    }
   ],
   "source": [
    "from torchmetrics import ConfusionMatrix\n",
    "from mlxtend.plotting import plot_confusion_matrix\n",
    "\n",
    "conf_mat = ConfusionMatrix(task = \"MULTICLASS\",\n",
    "                           num_classes = len(class_names))\n",
    "conf_mat_tensor = conf_mat(preds=y_pred_tensor,\n",
    "                           target=test_data.targets)\n",
    "\n",
    "fig, ax = plot_confusion_matrix(conf_mat = conf_mat_tensor.numpy(),\n",
    "                                class_names = class_names,\n",
    "                                figsize= (10,7))"
   ]
  },
  {
   "cell_type": "markdown",
   "metadata": {
    "id": "toMPdNva9cMP"
   },
   "source": [
    "##11. save and load best performing model\n"
   ]
  },
  {
   "cell_type": "code",
   "execution_count": 97,
   "metadata": {
    "colab": {
     "base_uri": "https://localhost:8080/"
    },
    "id": "YqV3w3brABpn",
    "outputId": "d652a9dc-142a-48dc-b77e-415a3b8f8c24"
   },
   "outputs": [
    {
     "name": "stdout",
     "output_type": "stream",
     "text": [
      "saving model to: models/pytorch_cv_model_2.pth\n"
     ]
    },
    {
     "data": {
      "text/plain": [
       "PosixPath('models/pytorch_cv_model_2.pth')"
      ]
     },
     "execution_count": 97,
     "metadata": {},
     "output_type": "execute_result"
    }
   ],
   "source": [
    "from pathlib import  Path\n",
    "\n",
    "#create model directory path\n",
    "model_path = Path(\"models\")\n",
    "model_path.mkdir(parents=True,\n",
    "                 exist_ok=True)\n",
    "#create model save\n",
    "model_name = \"pytorch_cv_model_2.pth\"\n",
    "model_save_path = model_path/model_name\n",
    "\n",
    "#save the model state dict\n",
    "print(f\"saving model to: {model_save_path}\")\n",
    "torch.save(obj=model_2.state_dict(),\n",
    "           f=model_save_path)\n",
    "\n",
    "model_save_path"
   ]
  },
  {
   "cell_type": "code",
   "execution_count": 98,
   "metadata": {
    "colab": {
     "base_uri": "https://localhost:8080/"
    },
    "id": "A_SerydaAGNQ",
    "outputId": "6810fd7f-5d74-41fa-a007-a9e13eff3235"
   },
   "outputs": [
    {
     "data": {
      "text/plain": [
       "FashionMNISTModelV2(\n",
       "  (convo_block_1): Sequential(\n",
       "    (0): Conv2d(1, 10, kernel_size=(3, 3), stride=(1, 1), padding=(1, 1))\n",
       "    (1): ReLU()\n",
       "    (2): Conv2d(10, 10, kernel_size=(3, 3), stride=(1, 1), padding=(1, 1))\n",
       "    (3): ReLU()\n",
       "    (4): MaxPool2d(kernel_size=2, stride=2, padding=0, dilation=1, ceil_mode=False)\n",
       "  )\n",
       "  (convo_block_2): Sequential(\n",
       "    (0): Conv2d(10, 10, kernel_size=(3, 3), stride=(1, 1), padding=(1, 1))\n",
       "    (1): ReLU()\n",
       "    (2): Conv2d(10, 10, kernel_size=(3, 3), stride=(1, 1), padding=(1, 1))\n",
       "    (3): ReLU()\n",
       "    (4): MaxPool2d(kernel_size=2, stride=2, padding=0, dilation=1, ceil_mode=False)\n",
       "  )\n",
       "  (classifier): Sequential(\n",
       "    (0): Flatten(start_dim=1, end_dim=-1)\n",
       "    (1): Linear(in_features=490, out_features=10, bias=True)\n",
       "  )\n",
       ")"
      ]
     },
     "execution_count": 98,
     "metadata": {},
     "output_type": "execute_result"
    }
   ],
   "source": [
    "#create a new instance of model 2 from saved model\n",
    "torch.manual_seed(42)\n",
    "loaded_model_2 = FashionMNISTModelV2(input_shape=1,\n",
    "                                     hidden_units=10,\n",
    "                                     output_shape=len(class_names))\n",
    "\n",
    "loaded_model_2.load_state_dict(torch.load(f=model_save_path))\n",
    "\n",
    "loaded_model_2.to(device)"
   ]
  },
  {
   "cell_type": "code",
   "execution_count": 99,
   "metadata": {
    "colab": {
     "base_uri": "https://localhost:8080/"
    },
    "id": "oV5EJgNdJmee",
    "outputId": "eb1a3289-0a32-47ce-b6ae-b5d7f47de362"
   },
   "outputs": [
    {
     "data": {
      "text/plain": [
       "{'model_name': 'FashionMNISTModelV2',\n",
       " 'model_loss': 0.34219005703926086,\n",
       " 'model_acc': 87.65974440894568}"
      ]
     },
     "execution_count": 99,
     "metadata": {},
     "output_type": "execute_result"
    }
   ],
   "source": [
    "model_2_results"
   ]
  },
  {
   "cell_type": "code",
   "execution_count": 100,
   "metadata": {
    "colab": {
     "base_uri": "https://localhost:8080/",
     "height": 101,
     "referenced_widgets": [
      "abc48ef4d556460d9ec761c239b11018",
      "79cb9ea7b3a5444b8298ed08e3318022",
      "b6078044024e4b478e4e673e0ea6a3d2",
      "0a7d5e6eb4b84038a2497724233d0f97",
      "7ece5de9c149482580a6b616975662c0",
      "6de94907ea014d958d2938ce221cef84",
      "7d2335a343704292ae67c57771799809",
      "a9cc4126ce984e76ab306332c2a96b12",
      "98045f5e641d44808205c8f1c12e8eb4",
      "a1b5627b226c48a9bd425361d48173af",
      "165378676bc14ccd94eb39dd648eab40"
     ]
    },
    "id": "HAxud0FIJscQ",
    "outputId": "0d00c60b-2c6a-4e28-c88e-42ec4d21fa6e"
   },
   "outputs": [
    {
     "data": {
      "application/vnd.jupyter.widget-view+json": {
       "model_id": "abc48ef4d556460d9ec761c239b11018",
       "version_major": 2,
       "version_minor": 0
      },
      "text/plain": [
       "  0%|          | 0/313 [00:00<?, ?it/s]"
      ]
     },
     "metadata": {},
     "output_type": "display_data"
    },
    {
     "data": {
      "text/plain": [
       "{'model_name': 'FashionMNISTModelV2',\n",
       " 'model_loss': 0.34258463978767395,\n",
       " 'model_acc': 87.64976038338658}"
      ]
     },
     "execution_count": 100,
     "metadata": {},
     "output_type": "execute_result"
    }
   ],
   "source": [
    "#evaluate loaded model\n",
    "torch.manual_seed(42)\n",
    "\n",
    "loaded_model_2_results = eval_model(model=loaded_model_2,\n",
    "                                    data_loader=test_dataloader,\n",
    "                                    loss_fn=loss_fn,\n",
    "                                    acc_fn=acc_fn)\n",
    "\n",
    "loaded_model_2_results"
   ]
  },
  {
   "cell_type": "code",
   "execution_count": 101,
   "metadata": {
    "colab": {
     "base_uri": "https://localhost:8080/"
    },
    "id": "tQm5fHlNJ3Q9",
    "outputId": "025d4731-53d4-421c-fb5f-cc68316635b9"
   },
   "outputs": [
    {
     "data": {
      "text/plain": [
       "tensor(True)"
      ]
     },
     "execution_count": 101,
     "metadata": {},
     "output_type": "execute_result"
    }
   ],
   "source": [
    "#check if model results are close\n",
    "torch.isclose(torch.tensor(model_2_results['model_loss']),\n",
    "              torch.tensor(loaded_model_2_results['model_loss']),\n",
    "              atol=1e-03)"
   ]
  },
  {
   "cell_type": "code",
   "execution_count": 101,
   "metadata": {
    "id": "Fk8ua4KjK_Ps"
   },
   "outputs": [],
   "source": []
  }
 ],
 "metadata": {
  "colab": {
   "provenance": []
  },
  "kernelspec": {
   "display_name": "Python 3",
   "name": "python3"
  },
  "language_info": {
   "name": "python"
  }
 },
 "nbformat": 4,
 "nbformat_minor": 0
}
