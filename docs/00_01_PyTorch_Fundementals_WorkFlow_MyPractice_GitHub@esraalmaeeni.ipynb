{
  "cells": [
    {
      "cell_type": "markdown",
      "metadata": {
        "id": "AJQ1dBWBPmqW"
      },
      "source": [
        "### **pytorch**"
      ]
    },
    {
      "cell_type": "code",
      "execution_count": 2,
      "metadata": {
        "colab": {
          "base_uri": "https://localhost:8080/"
        },
        "id": "8SbxHcyjLmFo",
        "outputId": "86e43992-a3b6-482a-c237-31b3d433d0c2"
      },
      "outputs": [
        {
          "output_type": "stream",
          "name": "stdout",
          "text": [
            "Tue Apr 22 14:11:23 2025       \n",
            "+-----------------------------------------------------------------------------------------+\n",
            "| NVIDIA-SMI 550.54.15              Driver Version: 550.54.15      CUDA Version: 12.4     |\n",
            "|-----------------------------------------+------------------------+----------------------+\n",
            "| GPU  Name                 Persistence-M | Bus-Id          Disp.A | Volatile Uncorr. ECC |\n",
            "| Fan  Temp   Perf          Pwr:Usage/Cap |           Memory-Usage | GPU-Util  Compute M. |\n",
            "|                                         |                        |               MIG M. |\n",
            "|=========================================+========================+======================|\n",
            "|   0  Tesla T4                       Off |   00000000:00:04.0 Off |                    0 |\n",
            "| N/A   42C    P8              9W /   70W |       0MiB /  15360MiB |      0%      Default |\n",
            "|                                         |                        |                  N/A |\n",
            "+-----------------------------------------+------------------------+----------------------+\n",
            "                                                                                         \n",
            "+-----------------------------------------------------------------------------------------+\n",
            "| Processes:                                                                              |\n",
            "|  GPU   GI   CI        PID   Type   Process name                              GPU Memory |\n",
            "|        ID   ID                                                               Usage      |\n",
            "|=========================================================================================|\n",
            "|  No running processes found                                                             |\n",
            "+-----------------------------------------------------------------------------------------+\n"
          ]
        }
      ],
      "source": [
        "!nvidia-smi"
      ]
    },
    {
      "cell_type": "code",
      "execution_count": 3,
      "metadata": {
        "colab": {
          "base_uri": "https://localhost:8080/"
        },
        "id": "690V2JnPUXff",
        "outputId": "2d2eb622-13ab-4747-9e06-a506f3e83ad2"
      },
      "outputs": [
        {
          "output_type": "stream",
          "name": "stdout",
          "text": [
            "2.6.0+cu124\n",
            "GPU available: True\n"
          ]
        }
      ],
      "source": [
        "import torch\n",
        "import pandas as pd\n",
        "import numpy as np\n",
        "import matplotlib.pyplot as plt\n",
        "print(torch.__version__)\n",
        "print(\"GPU available:\", torch.cuda.is_available())\n",
        "device = torch.device(\"cuda\" if torch.cuda.is_available() else \"cpu\")\n",
        "tensor = torch.tensor([1.0, 2.0, 3.0]).to(device)"
      ]
    },
    {
      "cell_type": "markdown",
      "metadata": {
        "id": "G4IkqToWhUIQ"
      },
      "source": [
        "### **creating tensors**"
      ]
    },
    {
      "cell_type": "code",
      "execution_count": 4,
      "metadata": {
        "colab": {
          "base_uri": "https://localhost:8080/"
        },
        "id": "pg2897DrVuQp",
        "outputId": "9726c817-a0a7-4a21-e1c0-1fdb44097a77"
      },
      "outputs": [
        {
          "output_type": "execute_result",
          "data": {
            "text/plain": [
              "tensor(7)"
            ]
          },
          "metadata": {},
          "execution_count": 4
        }
      ],
      "source": [
        "#scalar\n",
        "scalar = torch.tensor(7)\n",
        "scalar"
      ]
    },
    {
      "cell_type": "code",
      "execution_count": 5,
      "metadata": {
        "colab": {
          "base_uri": "https://localhost:8080/"
        },
        "id": "qBbHbsrOXvDu",
        "outputId": "40d50eda-abff-487c-8ab0-896fb16f702d"
      },
      "outputs": [
        {
          "output_type": "execute_result",
          "data": {
            "text/plain": [
              "0"
            ]
          },
          "metadata": {},
          "execution_count": 5
        }
      ],
      "source": [
        "scalar.ndim"
      ]
    },
    {
      "cell_type": "code",
      "execution_count": 6,
      "metadata": {
        "colab": {
          "base_uri": "https://localhost:8080/"
        },
        "id": "8nkLKJPtGlxo",
        "outputId": "5ad8e9b5-d378-4468-ae27-5b87bd84e78d"
      },
      "outputs": [
        {
          "output_type": "execute_result",
          "data": {
            "text/plain": [
              "7"
            ]
          },
          "metadata": {},
          "execution_count": 6
        }
      ],
      "source": [
        "scalar.item()"
      ]
    },
    {
      "cell_type": "code",
      "execution_count": 7,
      "metadata": {
        "colab": {
          "base_uri": "https://localhost:8080/"
        },
        "id": "4DE-A1j1G_lx",
        "outputId": "dcea76f7-20d1-48c2-c12d-f63d6f1403a9"
      },
      "outputs": [
        {
          "output_type": "execute_result",
          "data": {
            "text/plain": [
              "tensor([7, 7])"
            ]
          },
          "metadata": {},
          "execution_count": 7
        }
      ],
      "source": [
        "#vector\n",
        "vector = torch.tensor([7, 7])\n",
        "vector"
      ]
    },
    {
      "cell_type": "code",
      "execution_count": 8,
      "metadata": {
        "colab": {
          "base_uri": "https://localhost:8080/"
        },
        "id": "eVc81dBTHfe4",
        "outputId": "e9d678c2-aeca-4716-aa42-220545fbb7ef"
      },
      "outputs": [
        {
          "output_type": "execute_result",
          "data": {
            "text/plain": [
              "1"
            ]
          },
          "metadata": {},
          "execution_count": 8
        }
      ],
      "source": [
        "vector.ndim"
      ]
    },
    {
      "cell_type": "code",
      "execution_count": 9,
      "metadata": {
        "colab": {
          "base_uri": "https://localhost:8080/"
        },
        "id": "oImbXRmlIW14",
        "outputId": "6d2b1e1e-955b-404f-dc6d-ef5f31883fef"
      },
      "outputs": [
        {
          "output_type": "execute_result",
          "data": {
            "text/plain": [
              "torch.Size([2])"
            ]
          },
          "metadata": {},
          "execution_count": 9
        }
      ],
      "source": [
        "vector.shape #elements"
      ]
    },
    {
      "cell_type": "code",
      "execution_count": 10,
      "metadata": {
        "colab": {
          "base_uri": "https://localhost:8080/"
        },
        "id": "sV7wsTGSIrYw",
        "outputId": "1f7b544f-b9c7-42cd-c175-11cc9ce7a8ea"
      },
      "outputs": [
        {
          "output_type": "execute_result",
          "data": {
            "text/plain": [
              "tensor([[ 7,  8],\n",
              "        [ 9, 10]])"
            ]
          },
          "metadata": {},
          "execution_count": 10
        }
      ],
      "source": [
        "#matrix\n",
        "matrix  = torch.tensor([[7, 8],\n",
        "                        [9,10]])\n",
        "matrix"
      ]
    },
    {
      "cell_type": "code",
      "execution_count": 11,
      "metadata": {
        "colab": {
          "base_uri": "https://localhost:8080/"
        },
        "id": "rW1Wv929JlJd",
        "outputId": "28d8709d-87fd-4e3b-e61f-8bbbdb496cc8"
      },
      "outputs": [
        {
          "output_type": "execute_result",
          "data": {
            "text/plain": [
              "2"
            ]
          },
          "metadata": {},
          "execution_count": 11
        }
      ],
      "source": [
        "matrix.ndim"
      ]
    },
    {
      "cell_type": "code",
      "execution_count": 12,
      "metadata": {
        "colab": {
          "base_uri": "https://localhost:8080/"
        },
        "id": "p1_mjxLmJwIw",
        "outputId": "9b607807-0872-4070-8108-c5dfb5abc827"
      },
      "outputs": [
        {
          "output_type": "execute_result",
          "data": {
            "text/plain": [
              "tensor([ 9, 10])"
            ]
          },
          "metadata": {},
          "execution_count": 12
        }
      ],
      "source": [
        "matrix[1]"
      ]
    },
    {
      "cell_type": "code",
      "execution_count": 13,
      "metadata": {
        "colab": {
          "base_uri": "https://localhost:8080/"
        },
        "id": "eECxnN7dJ0fa",
        "outputId": "0af48cf9-5d28-4089-9e39-bb3323f313a5"
      },
      "outputs": [
        {
          "output_type": "execute_result",
          "data": {
            "text/plain": [
              "torch.Size([2, 2])"
            ]
          },
          "metadata": {},
          "execution_count": 13
        }
      ],
      "source": [
        "matrix.shape"
      ]
    },
    {
      "cell_type": "code",
      "execution_count": 14,
      "metadata": {
        "colab": {
          "base_uri": "https://localhost:8080/"
        },
        "id": "aQzGvBx2KJKC",
        "outputId": "3102bef2-d2e3-4a2f-dc76-c7e7e8c7abb9"
      },
      "outputs": [
        {
          "output_type": "execute_result",
          "data": {
            "text/plain": [
              "tensor([[[0, 0, 0],\n",
              "         [0, 0, 0],\n",
              "         [0, 0, 0]],\n",
              "\n",
              "        [[2, 2, 3],\n",
              "         [4, 5, 6],\n",
              "         [7, 8, 9]]])"
            ]
          },
          "metadata": {},
          "execution_count": 14
        }
      ],
      "source": [
        "#tensor\n",
        "tensor = torch.tensor([[[0,0,0],\n",
        "                        [0,0,0],\n",
        "                        [0,0,0]],\n",
        "\n",
        "                        [[2,2,3],\n",
        "                        [4,5,6],\n",
        "                        [7,8,9]]])\n",
        "tensor"
      ]
    },
    {
      "cell_type": "code",
      "execution_count": 15,
      "metadata": {
        "colab": {
          "base_uri": "https://localhost:8080/"
        },
        "id": "ApjsTowIMHiA",
        "outputId": "412ec254-57e7-423e-beb7-e1189becef42"
      },
      "outputs": [
        {
          "output_type": "execute_result",
          "data": {
            "text/plain": [
              "3"
            ]
          },
          "metadata": {},
          "execution_count": 15
        }
      ],
      "source": [
        "tensor.ndim"
      ]
    },
    {
      "cell_type": "code",
      "execution_count": 16,
      "metadata": {
        "colab": {
          "base_uri": "https://localhost:8080/"
        },
        "id": "KAchFRj2MKQc",
        "outputId": "8b55175f-57e5-4c88-f651-752c9411a2ee"
      },
      "outputs": [
        {
          "output_type": "execute_result",
          "data": {
            "text/plain": [
              "torch.Size([2, 3, 3])"
            ]
          },
          "metadata": {},
          "execution_count": 16
        }
      ],
      "source": [
        "tensor.shape"
      ]
    },
    {
      "cell_type": "code",
      "execution_count": 17,
      "metadata": {
        "colab": {
          "base_uri": "https://localhost:8080/"
        },
        "id": "bspsW8oUMNli",
        "outputId": "59055c92-c787-489b-e474-77a28132e6b9"
      },
      "outputs": [
        {
          "output_type": "execute_result",
          "data": {
            "text/plain": [
              "tensor([8, 9])"
            ]
          },
          "metadata": {},
          "execution_count": 17
        }
      ],
      "source": [
        "tensor[1][2][1:]"
      ]
    },
    {
      "cell_type": "markdown",
      "metadata": {
        "id": "sq6RvKm8Pd0h"
      },
      "source": [
        "### **Random tensors**\n",
        "\n",
        "why random tensors? cuz the way many neural networks learn is by start with tensors full with random numbers and then adjuct those random numbers to better represent the data\n",
        "\n",
        "start w/ random numbers -> look at data -> update random numbers -> look at data -> update random numbers"
      ]
    },
    {
      "cell_type": "code",
      "execution_count": 18,
      "metadata": {
        "colab": {
          "base_uri": "https://localhost:8080/"
        },
        "id": "C7ORLVS8OfjA",
        "outputId": "e1009d2a-4fd6-44db-ca24-a5bfa9fd38bc"
      },
      "outputs": [
        {
          "output_type": "execute_result",
          "data": {
            "text/plain": [
              "tensor([[0.0241, 0.8109, 0.2196, 0.2104],\n",
              "        [0.6638, 0.0658, 0.1818, 0.7683],\n",
              "        [0.3011, 0.5441, 0.2236, 0.5031]])"
            ]
          },
          "metadata": {},
          "execution_count": 18
        }
      ],
      "source": [
        "#random tensors of size/shape (3, 4)\n",
        "random_tensor = torch.rand(3, 4)\n",
        "random_tensor"
      ]
    },
    {
      "cell_type": "code",
      "execution_count": 19,
      "metadata": {
        "colab": {
          "base_uri": "https://localhost:8080/"
        },
        "id": "bCUfPlVabkiT",
        "outputId": "6dbefe4c-cddf-4d36-8a96-1978e125c41e"
      },
      "outputs": [
        {
          "output_type": "execute_result",
          "data": {
            "text/plain": [
              "torch.Size([3, 4])"
            ]
          },
          "metadata": {},
          "execution_count": 19
        }
      ],
      "source": [
        "random_tensor.shape"
      ]
    },
    {
      "cell_type": "code",
      "execution_count": 20,
      "metadata": {
        "colab": {
          "base_uri": "https://localhost:8080/"
        },
        "id": "PTAKmBxFP9iF",
        "outputId": "3a0589a4-7713-4011-82ff-6810482cf38a"
      },
      "outputs": [
        {
          "output_type": "execute_result",
          "data": {
            "text/plain": [
              "2"
            ]
          },
          "metadata": {},
          "execution_count": 20
        }
      ],
      "source": [
        "random_tensor.ndim"
      ]
    },
    {
      "cell_type": "code",
      "execution_count": 21,
      "metadata": {
        "colab": {
          "base_uri": "https://localhost:8080/"
        },
        "id": "CW9woiWqS1fG",
        "outputId": "02c20e9e-8abc-400e-e175-24690edd9d3c"
      },
      "outputs": [
        {
          "output_type": "execute_result",
          "data": {
            "text/plain": [
              "(torch.Size([224, 224, 3]), 3)"
            ]
          },
          "metadata": {},
          "execution_count": 21
        }
      ],
      "source": [
        "#create a random tensor with similar shape to an image tensor\n",
        "random_image_size_tensor = torch.rand(size=(224, 224, 3)) # height, weight, color\n",
        "random_image_size_tensor.shape, random_image_size_tensor.ndim"
      ]
    },
    {
      "cell_type": "markdown",
      "metadata": {
        "id": "Jn1Ro8OLekG5"
      },
      "source": [
        "### **Zeros and ones**"
      ]
    },
    {
      "cell_type": "code",
      "execution_count": 22,
      "metadata": {
        "colab": {
          "base_uri": "https://localhost:8080/"
        },
        "id": "fwXzum1Neryc",
        "outputId": "6fa4f9be-52ba-4deb-f04b-64bc0665734d"
      },
      "outputs": [
        {
          "output_type": "execute_result",
          "data": {
            "text/plain": [
              "tensor([[0., 0., 0., 0.],\n",
              "        [0., 0., 0., 0.],\n",
              "        [0., 0., 0., 0.]])"
            ]
          },
          "metadata": {},
          "execution_count": 22
        }
      ],
      "source": [
        "#create a tensor of all zeros\n",
        "zeros = torch.zeros(size=(3,4))\n",
        "zeros"
      ]
    },
    {
      "cell_type": "code",
      "execution_count": 23,
      "metadata": {
        "colab": {
          "base_uri": "https://localhost:8080/"
        },
        "id": "f9K1XYMTfCem",
        "outputId": "220657cb-c40e-4915-b1bd-35832569b736"
      },
      "outputs": [
        {
          "output_type": "execute_result",
          "data": {
            "text/plain": [
              "tensor([[1., 1., 1., 1.],\n",
              "        [1., 1., 1., 1.],\n",
              "        [1., 1., 1., 1.]])"
            ]
          },
          "metadata": {},
          "execution_count": 23
        }
      ],
      "source": [
        "#create a tensor of all ones\n",
        "ones = torch.ones(size=(3,4))\n",
        "ones"
      ]
    },
    {
      "cell_type": "code",
      "execution_count": 24,
      "metadata": {
        "colab": {
          "base_uri": "https://localhost:8080/"
        },
        "id": "MrxrI8SxfJD3",
        "outputId": "b91e442e-a455-4449-eca5-29d09ca1f434"
      },
      "outputs": [
        {
          "output_type": "execute_result",
          "data": {
            "text/plain": [
              "torch.float32"
            ]
          },
          "metadata": {},
          "execution_count": 24
        }
      ],
      "source": [
        "ones.dtype"
      ]
    },
    {
      "cell_type": "code",
      "execution_count": 25,
      "metadata": {
        "colab": {
          "base_uri": "https://localhost:8080/"
        },
        "id": "iLT78qNAfUzQ",
        "outputId": "497644ec-cf63-4cb8-8115-3f20e5862fea"
      },
      "outputs": [
        {
          "output_type": "execute_result",
          "data": {
            "text/plain": [
              "torch.float32"
            ]
          },
          "metadata": {},
          "execution_count": 25
        }
      ],
      "source": [
        "random_tensor.dtype"
      ]
    },
    {
      "cell_type": "markdown",
      "metadata": {
        "id": "dHKvFsjogQn9"
      },
      "source": [
        "### **creating a range of tensors and tensors-like**\n",
        "\n"
      ]
    },
    {
      "cell_type": "code",
      "execution_count": 26,
      "metadata": {
        "colab": {
          "base_uri": "https://localhost:8080/"
        },
        "id": "ikODyqs5fZFg",
        "outputId": "b7b60bff-ec10-48eb-ab7b-641d97d76f16"
      },
      "outputs": [
        {
          "output_type": "execute_result",
          "data": {
            "text/plain": [
              "tensor([ 0,  1,  2,  3,  4,  5,  6,  7,  8,  9, 10])"
            ]
          },
          "metadata": {},
          "execution_count": 26
        }
      ],
      "source": [
        "# use torch.range()\n",
        "one_to_ten = torch.arange(start=0, end=11, step=1)\n",
        "one_to_ten"
      ]
    },
    {
      "cell_type": "code",
      "execution_count": 27,
      "metadata": {
        "colab": {
          "base_uri": "https://localhost:8080/"
        },
        "id": "XlojI4sCguuK",
        "outputId": "00044e1c-cb89-4f2a-c563-91031742f3cc"
      },
      "outputs": [
        {
          "output_type": "execute_result",
          "data": {
            "text/plain": [
              "tensor([0, 0, 0, 0, 0, 0, 0, 0, 0, 0, 0])"
            ]
          },
          "metadata": {},
          "execution_count": 27
        }
      ],
      "source": [
        "#creating tensors_like\n",
        "ten_zeros= torch.zeros_like(input=one_to_ten)\n",
        "ten_zeros"
      ]
    },
    {
      "cell_type": "code",
      "execution_count": 28,
      "metadata": {
        "colab": {
          "base_uri": "https://localhost:8080/"
        },
        "id": "96ZM8rc2hZbD",
        "outputId": "b1b2b8c7-caec-4c14-c9ee-87cdf6b86f4f"
      },
      "outputs": [
        {
          "output_type": "execute_result",
          "data": {
            "text/plain": [
              "tensor([1, 1, 1, 1, 1, 1, 1, 1, 1, 1, 1])"
            ]
          },
          "metadata": {},
          "execution_count": 28
        }
      ],
      "source": [
        "#creating tensors_like\n",
        "ten_ones= torch.ones_like(input=one_to_ten)\n",
        "ten_ones"
      ]
    },
    {
      "cell_type": "markdown",
      "metadata": {
        "id": "prRXcgoHiWul"
      },
      "source": [
        "### **tensors datatype**\n",
        "\n",
        "**note:** tensor datatype is one of the 3 big errors you run into in pytorch & deep learning\n",
        "1. tensor not right datatype tensor.dtype\n",
        "2. tensor not right shape  tensor.shape\n",
        "3. tensor not right device tensor.shape\n",
        "\n",
        "if you want to do operations b/w two tensors from diff device may not work"
      ]
    },
    {
      "cell_type": "code",
      "execution_count": 29,
      "metadata": {
        "colab": {
          "base_uri": "https://localhost:8080/"
        },
        "id": "2tuStJrpia03",
        "outputId": "d8ca5192-b2e9-497f-8c23-2a3cff1b57a4"
      },
      "outputs": [
        {
          "output_type": "execute_result",
          "data": {
            "text/plain": [
              "tensor([3., 6., 0., 7.])"
            ]
          },
          "metadata": {},
          "execution_count": 29
        }
      ],
      "source": [
        "# float 32 tensor\n",
        "float_32_tensor = torch.tensor([3.0, 6,0., 7.0],  dtype=None, #what data type the tensor\n",
        "                                                  device=None, # what device your tensor on\n",
        "                                                  requires_grad=False) # whether or not to track gradients with this tensor operations\n",
        "float_32_tensor"
      ]
    },
    {
      "cell_type": "code",
      "execution_count": 30,
      "metadata": {
        "colab": {
          "base_uri": "https://localhost:8080/"
        },
        "id": "lCUVHToGi2cu",
        "outputId": "35b533d7-a73a-4709-e38d-5c6805aa4af4"
      },
      "outputs": [
        {
          "output_type": "execute_result",
          "data": {
            "text/plain": [
              "torch.float32"
            ]
          },
          "metadata": {},
          "execution_count": 30
        }
      ],
      "source": [
        "float_32_tensor.dtype"
      ]
    },
    {
      "cell_type": "code",
      "execution_count": 31,
      "metadata": {
        "colab": {
          "base_uri": "https://localhost:8080/"
        },
        "id": "JBZEbWdqi5OR",
        "outputId": "e286e444-d31c-40d6-883a-945c08895eba"
      },
      "outputs": [
        {
          "output_type": "execute_result",
          "data": {
            "text/plain": [
              "tensor([3., 6., 0., 7.], dtype=torch.float16)"
            ]
          },
          "metadata": {},
          "execution_count": 31
        }
      ],
      "source": [
        "float_16_tensor = float_32_tensor.type(torch.float16)\n",
        "float_16_tensor"
      ]
    },
    {
      "cell_type": "code",
      "execution_count": 32,
      "metadata": {
        "colab": {
          "base_uri": "https://localhost:8080/"
        },
        "id": "1oyuLYd7odKE",
        "outputId": "1fd6c792-c889-40b6-9cf4-96141c319782"
      },
      "outputs": [
        {
          "output_type": "execute_result",
          "data": {
            "text/plain": [
              "tensor([ 9., 36.,  0., 49.])"
            ]
          },
          "metadata": {},
          "execution_count": 32
        }
      ],
      "source": [
        "float_16_tensor * float_32_tensor"
      ]
    },
    {
      "cell_type": "code",
      "execution_count": 33,
      "metadata": {
        "colab": {
          "base_uri": "https://localhost:8080/"
        },
        "id": "QzfdhRZquHvT",
        "outputId": "83dbebf7-4a2a-4199-aaf0-dfd8ad5ec84a"
      },
      "outputs": [
        {
          "output_type": "execute_result",
          "data": {
            "text/plain": [
              "tensor([3, 6, 9])"
            ]
          },
          "metadata": {},
          "execution_count": 33
        }
      ],
      "source": [
        "int_32_tensor = torch.tensor([3,6,9], dtype = torch.long)\n",
        "int_32_tensor"
      ]
    },
    {
      "cell_type": "markdown",
      "metadata": {
        "id": "bBWYLdW9xV24"
      },
      "source": [
        "### **getting info from tensors**"
      ]
    },
    {
      "cell_type": "code",
      "execution_count": 34,
      "metadata": {
        "colab": {
          "base_uri": "https://localhost:8080/"
        },
        "id": "4ILLunAtvt0j",
        "outputId": "88297706-5a9e-46aa-c9a2-e9726ce0d0f7"
      },
      "outputs": [
        {
          "output_type": "execute_result",
          "data": {
            "text/plain": [
              "tensor([[0.7957, 0.7138, 0.3736, 0.6080],\n",
              "        [0.2807, 0.8916, 0.2959, 0.6666],\n",
              "        [0.2775, 0.1831, 0.7668, 0.9216]])"
            ]
          },
          "metadata": {},
          "execution_count": 34
        }
      ],
      "source": [
        "some_tensor = torch.rand(3, 4)\n",
        "some_tensor"
      ]
    },
    {
      "cell_type": "code",
      "execution_count": 35,
      "metadata": {
        "colab": {
          "base_uri": "https://localhost:8080/"
        },
        "id": "97z0f6TNv3uy",
        "outputId": "0c4c652c-3fd6-4e80-9d5f-874e9ec7a81d"
      },
      "outputs": [
        {
          "output_type": "stream",
          "name": "stdout",
          "text": [
            "tensor([[0.7957, 0.7138, 0.3736, 0.6080],\n",
            "        [0.2807, 0.8916, 0.2959, 0.6666],\n",
            "        [0.2775, 0.1831, 0.7668, 0.9216]])\n",
            "datatype of tensor: torch.float32 \n",
            "shape of tensor: torch.Size([3, 4]) \n",
            "device of tensor: cpu \n"
          ]
        }
      ],
      "source": [
        "#find details about tensor\n",
        "print(some_tensor)\n",
        "print(f\"datatype of tensor: {some_tensor.dtype} \")\n",
        "print(f\"shape of tensor: {some_tensor.shape} \")\n",
        "print(f\"device of tensor: {some_tensor.device} \")"
      ]
    },
    {
      "cell_type": "markdown",
      "metadata": {
        "id": "G6hMBcB1fH4c"
      },
      "source": [
        "### **manipulating tensors**\n",
        "\n",
        "tensor operations include:\n",
        "addition\n",
        "subtraction\n",
        "multiplication (element-wise)\n",
        "division\n",
        "matrix multiplication\n"
      ]
    },
    {
      "cell_type": "code",
      "execution_count": 36,
      "metadata": {
        "colab": {
          "base_uri": "https://localhost:8080/"
        },
        "id": "3v8sp1gnymor",
        "outputId": "4ace1ec5-ae93-4c2c-8cb7-f9ffd23169f7"
      },
      "outputs": [
        {
          "output_type": "execute_result",
          "data": {
            "text/plain": [
              "tensor([101, 102, 103])"
            ]
          },
          "metadata": {},
          "execution_count": 36
        }
      ],
      "source": [
        "#create a tensor\n",
        "Tensor = torch.tensor([1, 2, 3])\n",
        "Tensor + 100"
      ]
    },
    {
      "cell_type": "code",
      "execution_count": 37,
      "metadata": {
        "colab": {
          "base_uri": "https://localhost:8080/"
        },
        "id": "bzTKHck2hVJW",
        "outputId": "5f5fb3f7-ad63-430b-f07f-6885dccc9e24"
      },
      "outputs": [
        {
          "output_type": "execute_result",
          "data": {
            "text/plain": [
              "tensor([10, 20, 30])"
            ]
          },
          "metadata": {},
          "execution_count": 37
        }
      ],
      "source": [
        "Tensor * 10"
      ]
    },
    {
      "cell_type": "code",
      "execution_count": 38,
      "metadata": {
        "colab": {
          "base_uri": "https://localhost:8080/"
        },
        "id": "r0cCCE7LhpMj",
        "outputId": "82fc5a17-c803-49bc-c350-85d254865ea9"
      },
      "outputs": [
        {
          "output_type": "execute_result",
          "data": {
            "text/plain": [
              "tensor([1, 2, 3])"
            ]
          },
          "metadata": {},
          "execution_count": 38
        }
      ],
      "source": [
        "Tensor"
      ]
    },
    {
      "cell_type": "code",
      "execution_count": 39,
      "metadata": {
        "colab": {
          "base_uri": "https://localhost:8080/"
        },
        "id": "pZJJubewh6Ie",
        "outputId": "ae89444c-a975-47e5-e91c-344b69d48fb2"
      },
      "outputs": [
        {
          "output_type": "execute_result",
          "data": {
            "text/plain": [
              "tensor([-9, -8, -7])"
            ]
          },
          "metadata": {},
          "execution_count": 39
        }
      ],
      "source": [
        "Tensor - 10"
      ]
    },
    {
      "cell_type": "code",
      "execution_count": 40,
      "metadata": {
        "colab": {
          "base_uri": "https://localhost:8080/"
        },
        "id": "pmYDw04yiIjd",
        "outputId": "cfc233c6-81ac-4f62-c2e9-c7f3e4522694"
      },
      "outputs": [
        {
          "output_type": "execute_result",
          "data": {
            "text/plain": [
              "tensor([10, 20, 30])"
            ]
          },
          "metadata": {},
          "execution_count": 40
        }
      ],
      "source": [
        "torch.mul(Tensor, 10)"
      ]
    },
    {
      "cell_type": "code",
      "execution_count": 41,
      "metadata": {
        "colab": {
          "base_uri": "https://localhost:8080/"
        },
        "id": "eFhcEMxAiXlP",
        "outputId": "436f0184-36f8-4dbf-b096-9706c8779d72"
      },
      "outputs": [
        {
          "output_type": "execute_result",
          "data": {
            "text/plain": [
              "tensor([11, 12, 13])"
            ]
          },
          "metadata": {},
          "execution_count": 41
        }
      ],
      "source": [
        "torch.add(Tensor, 10)"
      ]
    },
    {
      "cell_type": "markdown",
      "metadata": {
        "id": "ZykgJ95Zy8SP"
      },
      "source": [
        "### **MATRIX manipluation**\n",
        "\n",
        "two main ways of performing multiplication in neural networks and dl:\n",
        "\n",
        "1. element-wise multiplication.\n",
        "2. matrix multiplication (dot product).\n",
        "\n",
        "two rules that performing matrix multiplication needs to satisfy:\n",
        "\n",
        "1. the inner d match\n",
        "2. the resulting matrix has shape of outer d."
      ]
    },
    {
      "cell_type": "code",
      "execution_count": 42,
      "metadata": {
        "colab": {
          "base_uri": "https://localhost:8080/"
        },
        "id": "xDKB1eMhirk5",
        "outputId": "b717867b-4483-4bbe-a8b7-0d34c198d8cc"
      },
      "outputs": [
        {
          "output_type": "stream",
          "name": "stdout",
          "text": [
            "tensor([1, 2, 3]) * tensor([1, 2, 3])\n",
            "Equals: tensor([1, 4, 9])\n"
          ]
        }
      ],
      "source": [
        "#element wise multiplication\n",
        "print(Tensor, \"*\", Tensor)\n",
        "print(f\"Equals: {Tensor * Tensor}\")"
      ]
    },
    {
      "cell_type": "code",
      "execution_count": 43,
      "metadata": {
        "colab": {
          "base_uri": "https://localhost:8080/"
        },
        "id": "dP9JW-uEryMZ",
        "outputId": "5bbba97a-6a62-430c-a1aa-c3a40d3c2807"
      },
      "outputs": [
        {
          "output_type": "execute_result",
          "data": {
            "text/plain": [
              "tensor(14)"
            ]
          },
          "metadata": {},
          "execution_count": 43
        }
      ],
      "source": [
        "#matrix multiplication\n",
        "torch.matmul(Tensor, Tensor)"
      ]
    },
    {
      "cell_type": "code",
      "execution_count": 44,
      "metadata": {
        "colab": {
          "base_uri": "https://localhost:8080/"
        },
        "id": "Web3HHUjsXa_",
        "outputId": "3566fafa-681e-41eb-bc67-259230bd4c5e"
      },
      "outputs": [
        {
          "output_type": "execute_result",
          "data": {
            "text/plain": [
              "14"
            ]
          },
          "metadata": {},
          "execution_count": 44
        }
      ],
      "source": [
        " #matrix multiplication by hand\n",
        " 1*1+2*2+3*3 # same as matmul"
      ]
    },
    {
      "cell_type": "code",
      "execution_count": 45,
      "metadata": {
        "colab": {
          "base_uri": "https://localhost:8080/"
        },
        "id": "c2Q8gIyutLc2",
        "outputId": "87fabb5e-b5c1-42d8-a987-f4994e23b70b"
      },
      "outputs": [
        {
          "output_type": "stream",
          "name": "stdout",
          "text": [
            "CPU times: user 4 \u00b5s, sys: 992 \u00b5s, total: 996 \u00b5s\n",
            "Wall time: 884 \u00b5s\n"
          ]
        },
        {
          "output_type": "execute_result",
          "data": {
            "text/plain": [
              "tensor(14)"
            ]
          },
          "metadata": {},
          "execution_count": 45
        }
      ],
      "source": [
        "%%time\n",
        "value = 0\n",
        "for i in range (len(Tensor)):\n",
        "  value += Tensor[i] * Tensor[i]\n",
        "value"
      ]
    },
    {
      "cell_type": "code",
      "execution_count": 46,
      "metadata": {
        "colab": {
          "base_uri": "https://localhost:8080/"
        },
        "id": "--d1vBMOud-2",
        "outputId": "21e3d81d-7beb-4f16-901c-f5602fdf885f"
      },
      "outputs": [
        {
          "output_type": "stream",
          "name": "stdout",
          "text": [
            "CPU times: user 182 \u00b5s, sys: 38 \u00b5s, total: 220 \u00b5s\n",
            "Wall time: 188 \u00b5s\n"
          ]
        },
        {
          "output_type": "execute_result",
          "data": {
            "text/plain": [
              "tensor(14)"
            ]
          },
          "metadata": {},
          "execution_count": 46
        }
      ],
      "source": [
        "%%time\n",
        "torch.matmul(Tensor, Tensor)"
      ]
    },
    {
      "cell_type": "markdown",
      "metadata": {
        "id": "ZGLcrxeGyjir"
      },
      "source": [
        "### **one of the most common errors in deep learning: shape errors**"
      ]
    },
    {
      "cell_type": "code",
      "execution_count": 47,
      "metadata": {
        "colab": {
          "base_uri": "https://localhost:8080/"
        },
        "id": "uQskwprxwR6-",
        "outputId": "e5b0950f-59a0-4b89-cda8-64e40a62c9e4"
      },
      "outputs": [
        {
          "output_type": "execute_result",
          "data": {
            "text/plain": [
              "torch.Size([3, 3])"
            ]
          },
          "metadata": {},
          "execution_count": 47
        }
      ],
      "source": [
        "#dot multiplication\n",
        "tensor_A = torch.tensor([[1,2],\n",
        "                         [3, 4],\n",
        "                         [5, 6]])\n",
        "tensor_B = torch.tensor([[7,8], #([[7,8, 9],[10, 11, 12]]) this right\n",
        "                         [9, 10],\n",
        "                         [11, 12]])\n",
        "\n",
        "#torch.mm(tensor_A, tensor_B)\n",
        "# to fix shape get transpose\n",
        "\n",
        "torch.matmul(tensor_A, tensor_B.T).shape #we had no error"
      ]
    },
    {
      "cell_type": "code",
      "execution_count": 48,
      "metadata": {
        "colab": {
          "base_uri": "https://localhost:8080/"
        },
        "id": "O8ubGHAYiVjo",
        "outputId": "74364ee7-1937-4c50-eaef-e3f5457ecfcc"
      },
      "outputs": [
        {
          "output_type": "execute_result",
          "data": {
            "text/plain": [
              "(torch.Size([3, 2]), torch.Size([2, 3]))"
            ]
          },
          "metadata": {},
          "execution_count": 48
        }
      ],
      "source": [
        "tensor_B.shape, tensor_B.T.shape # WOAH MATCHING"
      ]
    },
    {
      "cell_type": "markdown",
      "metadata": {
        "id": "3aAs8fuSlNS5"
      },
      "source": [
        "###**tensor aggregation**\n",
        "min,max,mean,sum"
      ]
    },
    {
      "cell_type": "code",
      "execution_count": 49,
      "metadata": {
        "colab": {
          "base_uri": "https://localhost:8080/"
        },
        "id": "v6_FKRCjjj_A",
        "outputId": "5811e03b-3be8-430b-f0ae-69644bf94393"
      },
      "outputs": [
        {
          "output_type": "execute_result",
          "data": {
            "text/plain": [
              "tensor([ 1, 11, 21, 31, 41, 51, 61, 71, 81, 91])"
            ]
          },
          "metadata": {},
          "execution_count": 49
        }
      ],
      "source": [
        "#create a tensor\n",
        "x = torch.arange(1,100,10)\n",
        "x"
      ]
    },
    {
      "cell_type": "code",
      "execution_count": 50,
      "metadata": {
        "colab": {
          "base_uri": "https://localhost:8080/"
        },
        "id": "sh1HxLTIlhxl",
        "outputId": "3cf06434-adcf-49fc-f790-e2d91d0c06c5"
      },
      "outputs": [
        {
          "output_type": "execute_result",
          "data": {
            "text/plain": [
              "tensor(1)"
            ]
          },
          "metadata": {},
          "execution_count": 50
        }
      ],
      "source": [
        "#find min\n",
        "torch.min(x)\n",
        "x.min()"
      ]
    },
    {
      "cell_type": "code",
      "execution_count": 51,
      "metadata": {
        "colab": {
          "base_uri": "https://localhost:8080/"
        },
        "id": "0euN7fsSltqn",
        "outputId": "ec7f9af8-1433-4df2-f564-8e854a3c4661"
      },
      "outputs": [
        {
          "output_type": "execute_result",
          "data": {
            "text/plain": [
              "tensor(91)"
            ]
          },
          "metadata": {},
          "execution_count": 51
        }
      ],
      "source": [
        "#find max\n",
        "torch.max(x)\n",
        "x.max()"
      ]
    },
    {
      "cell_type": "code",
      "execution_count": 52,
      "metadata": {
        "colab": {
          "base_uri": "https://localhost:8080/"
        },
        "id": "oYzhxU3kl4fl",
        "outputId": "58510816-b213-40c6-9ad0-5b98b93e58bb"
      },
      "outputs": [
        {
          "output_type": "execute_result",
          "data": {
            "text/plain": [
              "(tensor(46.), tensor(46.))"
            ]
          },
          "metadata": {},
          "execution_count": 52
        }
      ],
      "source": [
        "#find mean requires tensor float type\n",
        "torch.mean(x.type(torch.float32)), x.type(torch.float32).mean()"
      ]
    },
    {
      "cell_type": "code",
      "execution_count": 53,
      "metadata": {
        "colab": {
          "base_uri": "https://localhost:8080/"
        },
        "id": "SuKUbL2zl7nD",
        "outputId": "8c0b6b16-e236-4641-ba02-5c875c668003"
      },
      "outputs": [
        {
          "output_type": "execute_result",
          "data": {
            "text/plain": [
              "(tensor(460), tensor(460))"
            ]
          },
          "metadata": {},
          "execution_count": 53
        }
      ],
      "source": [
        "#find sum\n",
        "torch.sum(x), x.sum()"
      ]
    },
    {
      "cell_type": "markdown",
      "metadata": {
        "id": "ytYvww05ordR"
      },
      "source": [
        "###**finding positional min and max**"
      ]
    },
    {
      "cell_type": "code",
      "execution_count": 54,
      "metadata": {
        "colab": {
          "base_uri": "https://localhost:8080/"
        },
        "id": "7TOCWc2FmJDr",
        "outputId": "5b3e8bcc-8958-498d-87f0-863ed779f128"
      },
      "outputs": [
        {
          "output_type": "execute_result",
          "data": {
            "text/plain": [
              "tensor([ 1, 11, 21, 31, 41, 51, 61, 71, 81, 91])"
            ]
          },
          "metadata": {},
          "execution_count": 54
        }
      ],
      "source": [
        "x"
      ]
    },
    {
      "cell_type": "code",
      "execution_count": 55,
      "metadata": {
        "colab": {
          "base_uri": "https://localhost:8080/"
        },
        "id": "orBQi6J8oyON",
        "outputId": "812ca1ae-3aac-4e52-8079-589ee52f964d"
      },
      "outputs": [
        {
          "output_type": "execute_result",
          "data": {
            "text/plain": [
              "tensor(0)"
            ]
          },
          "metadata": {},
          "execution_count": 55
        }
      ],
      "source": [
        "#find position of min using argmin() -> return index\n",
        "x.argmin()"
      ]
    },
    {
      "cell_type": "code",
      "execution_count": 56,
      "metadata": {
        "colab": {
          "base_uri": "https://localhost:8080/"
        },
        "id": "RsDJcIoVpGcN",
        "outputId": "5485c0bd-b757-448c-a210-764fcb5761b5"
      },
      "outputs": [
        {
          "output_type": "execute_result",
          "data": {
            "text/plain": [
              "tensor(1)"
            ]
          },
          "metadata": {},
          "execution_count": 56
        }
      ],
      "source": [
        "x[0]"
      ]
    },
    {
      "cell_type": "code",
      "execution_count": 57,
      "metadata": {
        "colab": {
          "base_uri": "https://localhost:8080/"
        },
        "id": "QtfdgDbTpI6V",
        "outputId": "4cc1705a-310f-4995-838b-b2dee7f16ca3"
      },
      "outputs": [
        {
          "output_type": "execute_result",
          "data": {
            "text/plain": [
              "tensor(9)"
            ]
          },
          "metadata": {},
          "execution_count": 57
        }
      ],
      "source": [
        "x.argmax()"
      ]
    },
    {
      "cell_type": "code",
      "execution_count": 58,
      "metadata": {
        "colab": {
          "base_uri": "https://localhost:8080/"
        },
        "id": "GFtFEgvtpMv_",
        "outputId": "f5d6207b-e650-43ad-f9fa-a71338a8f64e"
      },
      "outputs": [
        {
          "output_type": "execute_result",
          "data": {
            "text/plain": [
              "tensor(91)"
            ]
          },
          "metadata": {},
          "execution_count": 58
        }
      ],
      "source": [
        "x[9]"
      ]
    },
    {
      "cell_type": "code",
      "execution_count": 59,
      "metadata": {
        "colab": {
          "base_uri": "https://localhost:8080/"
        },
        "id": "KmEfnGqVpOJN",
        "outputId": "c6d51e3b-c3a9-4891-f82b-4f823fd426c2"
      },
      "outputs": [
        {
          "output_type": "execute_result",
          "data": {
            "text/plain": [
              "tensor([ 1, 11, 21, 31, 41, 51, 61, 71, 81, 91])"
            ]
          },
          "metadata": {},
          "execution_count": 59
        }
      ],
      "source": [
        "x"
      ]
    },
    {
      "cell_type": "markdown",
      "metadata": {
        "id": "sJsv_yFRqg-0"
      },
      "source": [
        "###**reshaping, staching,squeezing, and unsqueezing tensors**\n",
        "**reshaping** - reshape input tensor to defined shape\n",
        "\n",
        "**view** - return view of tensor but keep same memory at original\n",
        "\n",
        "**stacking** - combine multi tensors on top of each other (vstach) or side by side\n",
        "\n",
        "**squeeze** - remove '1' dimensions from a tensor\n",
        "\n",
        "**unsqueeze** - add 1 d to target tensor\n",
        "\n",
        "**permute** - return a view of the\n",
        "tensor with d permuted\n"
      ]
    },
    {
      "cell_type": "code",
      "execution_count": 60,
      "metadata": {
        "colab": {
          "base_uri": "https://localhost:8080/"
        },
        "id": "ffbRlpjbpc5y",
        "outputId": "24e98b56-f49a-407d-a612-66449a0825e2"
      },
      "outputs": [
        {
          "output_type": "execute_result",
          "data": {
            "text/plain": [
              "(tensor([ 1,  2,  3,  4,  5,  6,  7,  8,  9, 10]), torch.Size([10]))"
            ]
          },
          "metadata": {},
          "execution_count": 60
        }
      ],
      "source": [
        "import torch\n",
        "x = torch.arange(1, 11, 1)\n",
        "x, x.shape"
      ]
    },
    {
      "cell_type": "code",
      "execution_count": 61,
      "metadata": {
        "colab": {
          "base_uri": "https://localhost:8080/"
        },
        "id": "TCtFRFlCsWu7",
        "outputId": "b0bc9359-bd20-4bfe-cb0c-450179061d86"
      },
      "outputs": [
        {
          "output_type": "execute_result",
          "data": {
            "text/plain": [
              "(tensor([[ 1,  2,  3,  4,  5],\n",
              "         [ 6,  7,  8,  9, 10]]),\n",
              " torch.Size([2, 5]))"
            ]
          },
          "metadata": {},
          "execution_count": 61
        }
      ],
      "source": [
        "# add extra D\n",
        "x_reshaped = x.reshape(2,5)\n",
        "x_reshaped, x_reshaped.shape"
      ]
    },
    {
      "cell_type": "code",
      "execution_count": 62,
      "metadata": {
        "colab": {
          "base_uri": "https://localhost:8080/"
        },
        "id": "7HfBgjzIsneK",
        "outputId": "c20bd582-1fad-4ddb-e289-adc607b1a6c0"
      },
      "outputs": [
        {
          "output_type": "execute_result",
          "data": {
            "text/plain": [
              "(tensor([[ 1,  2,  3,  4,  5],\n",
              "         [ 6,  7,  8,  9, 10]]),\n",
              " torch.Size([2, 5]),\n",
              " tensor([ 1,  2,  3,  4,  5,  6,  7,  8,  9, 10]),\n",
              " torch.Size([10]))"
            ]
          },
          "metadata": {},
          "execution_count": 62
        }
      ],
      "source": [
        "#change view\n",
        "z = x.view(2, 5)  # return view but memory stay at x so changing z means changing x\n",
        "z, z.shape, x, x.shape"
      ]
    },
    {
      "cell_type": "code",
      "execution_count": 63,
      "metadata": {
        "colab": {
          "base_uri": "https://localhost:8080/"
        },
        "id": "0lkFaPhovac3",
        "outputId": "b89f58d1-501c-4978-b57e-d7c9c0618ace"
      },
      "outputs": [
        {
          "output_type": "execute_result",
          "data": {
            "text/plain": [
              "(tensor([ 5,  2,  3,  4,  5,  5,  7,  8,  9, 10]),\n",
              " tensor([[ 5,  2,  3,  4,  5],\n",
              "         [ 5,  7,  8,  9, 10]]))"
            ]
          },
          "metadata": {},
          "execution_count": 63
        }
      ],
      "source": [
        "z[: , 0] = 5\n",
        "x, z #both changed even if z have diff view"
      ]
    },
    {
      "cell_type": "code",
      "execution_count": 64,
      "metadata": {
        "colab": {
          "base_uri": "https://localhost:8080/"
        },
        "id": "yKvWvi6Dwfue",
        "outputId": "9936eb2e-56d4-4c53-df23-3ad5f687751b"
      },
      "outputs": [
        {
          "output_type": "execute_result",
          "data": {
            "text/plain": [
              "(tensor([[ 5,  5,  5,  5],\n",
              "         [ 2,  2,  2,  2],\n",
              "         [ 3,  3,  3,  3],\n",
              "         [ 4,  4,  4,  4],\n",
              "         [ 5,  5,  5,  5],\n",
              "         [ 5,  5,  5,  5],\n",
              "         [ 7,  7,  7,  7],\n",
              "         [ 8,  8,  8,  8],\n",
              "         [ 9,  9,  9,  9],\n",
              "         [10, 10, 10, 10]]),\n",
              " torch.Size([10, 4]))"
            ]
          },
          "metadata": {},
          "execution_count": 64
        }
      ],
      "source": [
        "#stack tensors on top of each other\n",
        "x_stacked = torch.stack((x, x, x, x), dim= 1)\n",
        "x_stacked, x_stacked.shape"
      ]
    },
    {
      "cell_type": "code",
      "execution_count": 65,
      "metadata": {
        "colab": {
          "base_uri": "https://localhost:8080/"
        },
        "id": "lnFIybJvwuQM",
        "outputId": "5d041bb1-ad1f-4131-ac9d-93af4f31fe49"
      },
      "outputs": [
        {
          "output_type": "execute_result",
          "data": {
            "text/plain": [
              "torch.Size([2, 1, 2, 1, 1, 2])"
            ]
          },
          "metadata": {},
          "execution_count": 65
        }
      ],
      "source": [
        "x = torch.zeros(2, 1, 2, 1, 1, 2)\n",
        "x.shape"
      ]
    },
    {
      "cell_type": "code",
      "execution_count": 66,
      "metadata": {
        "colab": {
          "base_uri": "https://localhost:8080/"
        },
        "id": "zuLnZxxx18-0",
        "outputId": "d4b4fb03-7364-4710-d0ff-a89a4e036923"
      },
      "outputs": [
        {
          "output_type": "execute_result",
          "data": {
            "text/plain": [
              "(tensor([[[0., 0.],\n",
              "          [0., 0.]],\n",
              " \n",
              "         [[0., 0.],\n",
              "          [0., 0.]]]),\n",
              " torch.Size([2, 2, 2]))"
            ]
          },
          "metadata": {},
          "execution_count": 66
        }
      ],
      "source": [
        "y = torch.squeeze(x)\n",
        "y, y.shape"
      ]
    },
    {
      "cell_type": "code",
      "execution_count": 67,
      "metadata": {
        "colab": {
          "base_uri": "https://localhost:8080/"
        },
        "id": "1UhbX3s62_ju",
        "outputId": "cd96ceb0-3ec0-4a9b-eddd-781b192d9e51"
      },
      "outputs": [
        {
          "output_type": "execute_result",
          "data": {
            "text/plain": [
              "torch.Size([2, 1, 2, 2])"
            ]
          },
          "metadata": {},
          "execution_count": 67
        }
      ],
      "source": [
        "y = torch.squeeze(x,[3,4]) #if we wnt to indicate to which single D to remove\n",
        "y.shape"
      ]
    },
    {
      "cell_type": "code",
      "execution_count": 68,
      "metadata": {
        "colab": {
          "base_uri": "https://localhost:8080/"
        },
        "id": "k7hBFDVW34Da",
        "outputId": "f6b2f064-5101-4112-87ea-67459d3df2e9"
      },
      "outputs": [
        {
          "output_type": "execute_result",
          "data": {
            "text/plain": [
              "(tensor([[ 5,  2,  3,  4,  5],\n",
              "         [ 5,  7,  8,  9, 10]]),\n",
              " torch.Size([2, 5]))"
            ]
          },
          "metadata": {},
          "execution_count": 68
        }
      ],
      "source": [
        "x_reshaped, x_reshaped.shape"
      ]
    },
    {
      "cell_type": "code",
      "execution_count": 69,
      "metadata": {
        "colab": {
          "base_uri": "https://localhost:8080/"
        },
        "id": "TpswQdOO3X-A",
        "outputId": "deeb5909-2d71-4eb1-94b2-0c2b2d9fa457"
      },
      "outputs": [
        {
          "output_type": "execute_result",
          "data": {
            "text/plain": [
              "(tensor([[ 5,  2,  3,  4,  5],\n",
              "         [ 5,  7,  8,  9, 10]]),\n",
              " torch.Size([2, 5]))"
            ]
          },
          "metadata": {},
          "execution_count": 69
        }
      ],
      "source": [
        "x_reshaped.squeeze(), x_reshaped.squeeze().shape # same cuz no single D to remove"
      ]
    },
    {
      "cell_type": "code",
      "execution_count": 70,
      "metadata": {
        "colab": {
          "base_uri": "https://localhost:8080/"
        },
        "id": "7FPvYPN-3tPT",
        "outputId": "40b3f087-c00c-49b1-8589-f444bcb55f7b"
      },
      "outputs": [
        {
          "output_type": "execute_result",
          "data": {
            "text/plain": [
              "(tensor([ 1,  2,  3,  4,  5,  6,  7,  8,  9, 10]),\n",
              " torch.Size([10]),\n",
              " tensor([[ 1,  2,  3,  4,  5,  6,  7,  8,  9, 10]]),\n",
              " torch.Size([1, 10]))"
            ]
          },
          "metadata": {},
          "execution_count": 70
        }
      ],
      "source": [
        "#torch unsqueeze - add single D to a target tensor\n",
        "x = torch.arange(1,11,1)\n",
        "x_squeezed = x.unsqueeze(dim=0)\n",
        "x, x.shape, x_squeezed, x_squeezed.shape"
      ]
    },
    {
      "cell_type": "code",
      "execution_count": 71,
      "metadata": {
        "colab": {
          "base_uri": "https://localhost:8080/"
        },
        "id": "qyZwPVlm9PdR",
        "outputId": "18f903ff-7259-4f68-b67b-f040e2a0c3a4"
      },
      "outputs": [
        {
          "output_type": "execute_result",
          "data": {
            "text/plain": [
              "(tensor([[[0.8353, 0.4732, 0.1634, 0.1301, 0.6202],\n",
              "          [0.1104, 0.3944, 0.5417, 0.7945, 0.3558],\n",
              "          [0.8838, 0.8680, 0.9046, 0.5655, 0.9786]],\n",
              " \n",
              "         [[0.5888, 0.1576, 0.5736, 0.9021, 0.4624],\n",
              "          [0.5991, 0.3960, 0.7068, 0.1100, 0.7731],\n",
              "          [0.9740, 0.8387, 0.0054, 0.6457, 0.9002]]]),\n",
              " torch.Size([2, 3, 5]))"
            ]
          },
          "metadata": {},
          "execution_count": 71
        }
      ],
      "source": [
        "import torch\n",
        "#permute - rearange the D in some order\n",
        "x = torch.rand(2,3,5)\n",
        "x, x.shape"
      ]
    },
    {
      "cell_type": "code",
      "execution_count": 72,
      "metadata": {
        "colab": {
          "base_uri": "https://localhost:8080/"
        },
        "id": "GVsL47vrBOoE",
        "outputId": "8ff64c9f-bf0e-4d11-ad55-a2df1539752d"
      },
      "outputs": [
        {
          "output_type": "execute_result",
          "data": {
            "text/plain": [
              "(tensor([[[0.8353, 0.5888],\n",
              "          [0.1104, 0.5991],\n",
              "          [0.8838, 0.9740]],\n",
              " \n",
              "         [[0.4732, 0.1576],\n",
              "          [0.3944, 0.3960],\n",
              "          [0.8680, 0.8387]],\n",
              " \n",
              "         [[0.1634, 0.5736],\n",
              "          [0.5417, 0.7068],\n",
              "          [0.9046, 0.0054]],\n",
              " \n",
              "         [[0.1301, 0.9021],\n",
              "          [0.7945, 0.1100],\n",
              "          [0.5655, 0.6457]],\n",
              " \n",
              "         [[0.6202, 0.4624],\n",
              "          [0.3558, 0.7731],\n",
              "          [0.9786, 0.9002]]]),\n",
              " torch.Size([5, 3, 2]))"
            ]
          },
          "metadata": {},
          "execution_count": 72
        }
      ],
      "source": [
        "x_permuted = torch.permute(x, (2,1,0))\n",
        "x_permuted, x_permuted.shape"
      ]
    },
    {
      "cell_type": "code",
      "execution_count": 73,
      "metadata": {
        "colab": {
          "base_uri": "https://localhost:8080/"
        },
        "id": "EmlnWXrzBjTi",
        "outputId": "bb4d8c26-a06b-4f3d-d6a3-b8a07947930b"
      },
      "outputs": [
        {
          "output_type": "execute_result",
          "data": {
            "text/plain": [
              "(tensor([[[0.4804, 0.0530, 0.0201,  ..., 0.6096, 0.3105, 0.6490],\n",
              "          [0.3964, 0.6528, 0.7856,  ..., 0.3670, 0.8766, 0.7172],\n",
              "          [0.2899, 0.7480, 0.4815,  ..., 0.6082, 0.1802, 0.4773],\n",
              "          ...,\n",
              "          [0.0264, 0.9620, 0.7252,  ..., 0.4033, 0.8217, 0.0906],\n",
              "          [0.1008, 0.5752, 0.3505,  ..., 0.3230, 0.4523, 0.8188],\n",
              "          [0.9139, 0.9898, 0.0238,  ..., 0.5162, 0.2019, 0.3362]],\n",
              " \n",
              "         [[0.0155, 0.4774, 0.9545,  ..., 0.6667, 0.9565, 0.1733],\n",
              "          [0.8510, 0.3892, 0.4424,  ..., 0.9957, 0.3308, 0.6128],\n",
              "          [0.3866, 0.0496, 0.5544,  ..., 0.5971, 0.2659, 0.5876],\n",
              "          ...,\n",
              "          [0.9577, 0.3104, 0.0636,  ..., 0.2206, 0.6220, 0.5291],\n",
              "          [0.8371, 0.8484, 0.6603,  ..., 0.6228, 0.3875, 0.3967],\n",
              "          [0.6531, 0.4655, 0.7768,  ..., 0.4366, 0.1016, 0.1087]],\n",
              " \n",
              "         [[0.1510, 0.0611, 0.9083,  ..., 0.2043, 0.9997, 0.1757],\n",
              "          [0.3061, 0.0488, 0.7665,  ..., 0.5443, 0.4198, 0.5638],\n",
              "          [0.4350, 0.4434, 0.2273,  ..., 0.3931, 0.6829, 0.5330],\n",
              "          ...,\n",
              "          [0.2594, 0.0038, 0.1395,  ..., 0.8459, 0.9744, 0.1733],\n",
              "          [0.2944, 0.6516, 0.9766,  ..., 0.8345, 0.1639, 0.6810],\n",
              "          [0.3356, 0.2180, 0.2399,  ..., 0.7416, 0.2304, 0.9165]]]),\n",
              " torch.Size([3, 224, 224]))"
            ]
          },
          "metadata": {},
          "execution_count": 73
        }
      ],
      "source": [
        "x_original = torch.rand(size= (224,224,3))\n",
        "x_permuted = x_original.permute(2,0,1)\n",
        "x_permuted, x_permuted.shape #share same memory"
      ]
    },
    {
      "cell_type": "code",
      "execution_count": 74,
      "metadata": {
        "colab": {
          "base_uri": "https://localhost:8080/"
        },
        "id": "bEplo1YZDBYd",
        "outputId": "4a92e7d5-aa3b-4189-c5fb-e18aa050e215"
      },
      "outputs": [
        {
          "output_type": "execute_result",
          "data": {
            "text/plain": [
              "(tensor(5.), tensor(5.))"
            ]
          },
          "metadata": {},
          "execution_count": 74
        }
      ],
      "source": [
        "x_original [0,0,0] = 5\n",
        "x_original [0,0,0], x_permuted [0,0,0]"
      ]
    },
    {
      "cell_type": "markdown",
      "metadata": {
        "id": "f26f_Wh5EEjD"
      },
      "source": [
        "###**selecting data in tensors**\n",
        "indexing - similar to numpy"
      ]
    },
    {
      "cell_type": "code",
      "execution_count": 75,
      "metadata": {
        "colab": {
          "base_uri": "https://localhost:8080/"
        },
        "id": "GYzfFDZVEAR8",
        "outputId": "f986738f-ec62-463e-af12-4c574c5e378e"
      },
      "outputs": [
        {
          "output_type": "execute_result",
          "data": {
            "text/plain": [
              "(tensor([[[1, 2, 3],\n",
              "          [4, 5, 6],\n",
              "          [7, 8, 9]]]),\n",
              " torch.Size([1, 3, 3]))"
            ]
          },
          "metadata": {},
          "execution_count": 75
        }
      ],
      "source": [
        "#create tensor\n",
        "x = torch.arange(1, 10).reshape(1, 3, 3)\n",
        "x, x.shape"
      ]
    },
    {
      "cell_type": "code",
      "execution_count": 76,
      "metadata": {
        "colab": {
          "base_uri": "https://localhost:8080/"
        },
        "id": "a8xoDC_oFHNu",
        "outputId": "31bd14de-2078-4105-9d20-4c132d6dc960"
      },
      "outputs": [
        {
          "output_type": "execute_result",
          "data": {
            "text/plain": [
              "tensor(3)"
            ]
          },
          "metadata": {},
          "execution_count": 76
        }
      ],
      "source": [
        "#index\n",
        "x[0][0][2]"
      ]
    },
    {
      "cell_type": "markdown",
      "metadata": {
        "id": "Nv06fHLlv2Ad"
      },
      "source": [
        "### **numpy a popular scientific python numerical computing library,**\n",
        "\n",
        " pytorch interact w/ numpy\n",
        " data in numpy, want in pytorch ttensor -> torch.from_numpy(ndarray)\n",
        " pytorch tensor -> numpy -> torch.Tensor.numpy()"
      ]
    },
    {
      "cell_type": "code",
      "execution_count": 77,
      "metadata": {
        "colab": {
          "base_uri": "https://localhost:8080/"
        },
        "id": "kGQvw11yGeFD",
        "outputId": "b1e9d692-3a9d-453c-892b-f78cd8959046"
      },
      "outputs": [
        {
          "output_type": "execute_result",
          "data": {
            "text/plain": [
              "(array([1., 2., 3., 4., 5., 6., 7., 8., 9.]),\n",
              " tensor([1., 2., 3., 4., 5., 6., 7., 8., 9.], dtype=torch.float64))"
            ]
          },
          "metadata": {},
          "execution_count": 77
        }
      ],
      "source": [
        "#numpy array to tensor\n",
        "import torch\n",
        "import numpy as np\n",
        "\n",
        "array = np.arange(1.0, 10.0 )\n",
        "tensor = torch.from_numpy(array)\n",
        "array, tensor"
      ]
    },
    {
      "cell_type": "code",
      "execution_count": 78,
      "metadata": {
        "colab": {
          "base_uri": "https://localhost:8080/"
        },
        "id": "TXHDeDh0z7e6",
        "outputId": "92380d3b-cebf-40a1-e1b0-053c095eccd8"
      },
      "outputs": [
        {
          "output_type": "execute_result",
          "data": {
            "text/plain": [
              "(array([1., 2., 3., 4., 5., 6., 7., 8., 9.]),\n",
              " tensor([1., 2., 3., 4., 5., 6., 7., 8., 9.]))"
            ]
          },
          "metadata": {},
          "execution_count": 78
        }
      ],
      "source": [
        "array = np.arange(1.0, 10.0 )\n",
        "tensor = torch.from_numpy(array).type(torch.float32) #changing value of tensor does not change value of orignal array\n",
        "array, tensor # warning when convert numpy to tensor it gets defualt numpy datatype"
      ]
    },
    {
      "cell_type": "code",
      "execution_count": 79,
      "metadata": {
        "colab": {
          "base_uri": "https://localhost:8080/"
        },
        "id": "uVftWpi2zI5o",
        "outputId": "8f4efebd-7894-4ccf-e5f2-d591e2f84aa8"
      },
      "outputs": [
        {
          "output_type": "execute_result",
          "data": {
            "text/plain": [
              "dtype('float64')"
            ]
          },
          "metadata": {},
          "execution_count": 79
        }
      ],
      "source": [
        "array.dtype"
      ]
    },
    {
      "cell_type": "code",
      "execution_count": 80,
      "metadata": {
        "colab": {
          "base_uri": "https://localhost:8080/"
        },
        "id": "vGx4Yhlmyw8x",
        "outputId": "7cae602b-a4b2-42e7-882a-292e367d787d"
      },
      "outputs": [
        {
          "output_type": "execute_result",
          "data": {
            "text/plain": [
              "torch.float32"
            ]
          },
          "metadata": {},
          "execution_count": 80
        }
      ],
      "source": [
        "torch.arange(1.0, 8.0).dtype"
      ]
    },
    {
      "cell_type": "code",
      "execution_count": 81,
      "metadata": {
        "colab": {
          "base_uri": "https://localhost:8080/"
        },
        "id": "l6l54InTzQGm",
        "outputId": "dd3ff9f2-2f83-42af-c8ea-0db223c1b0f3"
      },
      "outputs": [
        {
          "output_type": "execute_result",
          "data": {
            "text/plain": [
              "(array([1, 2, 3, 4, 5, 6, 7]), tensor([1, 2, 3, 4, 5, 6, 7]))"
            ]
          },
          "metadata": {},
          "execution_count": 81
        }
      ],
      "source": [
        "tensor = torch.arange(1, 8)\n",
        "numpy_tensor = tensor.numpy() #does not share memory\n",
        "numpy_tensor, tensor"
      ]
    },
    {
      "cell_type": "markdown",
      "metadata": {
        "id": "aXdXuQCY1BEG"
      },
      "source": [
        "###** reproducability trying to take random of random**\n",
        "in short how a neural network learn:\n",
        "start w/ rand nos. -> tensor operations -> update random numbers to tryand make them better representations of the data -> again -> again -> until convergence.\n",
        "\n",
        "to reduce randomness in nn & pytorch come the concept of **random seed**.\n",
        "\n",
        "essentally what the random seed do : flavour randomness.\n"
      ]
    },
    {
      "cell_type": "code",
      "execution_count": 82,
      "metadata": {
        "colab": {
          "base_uri": "https://localhost:8080/"
        },
        "id": "3tlqs_RNzd6J",
        "outputId": "64656daf-d5e4-441f-af2b-9cc410cd0b74"
      },
      "outputs": [
        {
          "output_type": "stream",
          "name": "stdout",
          "text": [
            "tensor([[0.8573, 0.1088, 0.5710, 0.0504],\n",
            "        [0.3922, 0.2269, 0.9369, 0.0331],\n",
            "        [0.1141, 0.5196, 0.0161, 0.9074]])\n",
            "tensor([[0.1991, 0.6306, 0.5889, 0.3827],\n",
            "        [0.9167, 0.6416, 0.1695, 0.9446],\n",
            "        [0.9269, 0.7584, 0.5767, 0.7741]])\n",
            "tensor([[False, False, False, False],\n",
            "        [False, False, False, False],\n",
            "        [False, False, False, False]])\n"
          ]
        }
      ],
      "source": [
        "random_A = torch.rand(3, 4) # every time we run we have diff nos.\n",
        "random_B = torch.rand(3, 4)\n",
        "\n",
        "print(random_A)\n",
        "print(random_B)\n",
        "print(random_A == random_B)"
      ]
    },
    {
      "cell_type": "code",
      "execution_count": 83,
      "metadata": {
        "colab": {
          "base_uri": "https://localhost:8080/"
        },
        "id": "uGQgRsMJ2uRf",
        "outputId": "fe1ed989-117c-4b8d-9e30-b2bccff654be"
      },
      "outputs": [
        {
          "output_type": "stream",
          "name": "stdout",
          "text": [
            "tensor([[0.8823, 0.9150, 0.3829, 0.9593],\n",
            "        [0.3904, 0.6009, 0.2566, 0.7936],\n",
            "        [0.9408, 0.1332, 0.9346, 0.5936]])\n",
            "tensor([[0.8823, 0.9150, 0.3829, 0.9593],\n",
            "        [0.3904, 0.6009, 0.2566, 0.7936],\n",
            "        [0.9408, 0.1332, 0.9346, 0.5936]])\n",
            "tensor([[True, True, True, True],\n",
            "        [True, True, True, True],\n",
            "        [True, True, True, True]])\n"
          ]
        }
      ],
      "source": [
        "#lets make random bur reproducable tensors\n",
        "import torch\n",
        "\n",
        "#set the random seed\n",
        "random_seed = 42\n",
        "torch.manual_seed(random_seed)\n",
        "\n",
        "rand_tensor_A = torch.rand(3, 4)\n",
        "\n",
        "torch.manual_seed(random_seed)\n",
        "rand_tensor_B = torch.rand(3, 4)\n",
        "\n",
        "print(rand_tensor_A)\n",
        "print(rand_tensor_B)\n",
        "print(rand_tensor_A == rand_tensor_B)"
      ]
    },
    {
      "cell_type": "markdown",
      "metadata": {
        "id": "yYmNCa6845Bi"
      },
      "source": [
        "## RUNNING tensors / pytorch obj. on GPUs making faster computation\n",
        "GPUs = faster computations on numbers cuda + nvidia h/w"
      ]
    },
    {
      "cell_type": "markdown",
      "metadata": {
        "id": "AdjyF9-f67Ne"
      },
      "source": [
        "how? use free GPU in google colab or ur own GPU but need extra setup for DL\n",
        "use cloud computing - AWS, GCP, AZURE - allow to rent computers on the cloud and use them\n",
        "\n",
        "to set your GPU get cuda + pytorch local setup"
      ]
    },
    {
      "cell_type": "code",
      "execution_count": 84,
      "metadata": {
        "colab": {
          "base_uri": "https://localhost:8080/"
        },
        "id": "eA7wJQip8F_V",
        "outputId": "62c9cb25-68bd-4283-f9b0-d1551ef87f10"
      },
      "outputs": [
        {
          "output_type": "stream",
          "name": "stdout",
          "text": [
            "Tue Apr 22 14:11:32 2025       \n",
            "+-----------------------------------------------------------------------------------------+\n",
            "| NVIDIA-SMI 550.54.15              Driver Version: 550.54.15      CUDA Version: 12.4     |\n",
            "|-----------------------------------------+------------------------+----------------------+\n",
            "| GPU  Name                 Persistence-M | Bus-Id          Disp.A | Volatile Uncorr. ECC |\n",
            "| Fan  Temp   Perf          Pwr:Usage/Cap |           Memory-Usage | GPU-Util  Compute M. |\n",
            "|                                         |                        |               MIG M. |\n",
            "|=========================================+========================+======================|\n",
            "|   0  Tesla T4                       Off |   00000000:00:04.0 Off |                    0 |\n",
            "| N/A   43C    P0             26W /   70W |     104MiB /  15360MiB |      0%      Default |\n",
            "|                                         |                        |                  N/A |\n",
            "+-----------------------------------------+------------------------+----------------------+\n",
            "                                                                                         \n",
            "+-----------------------------------------------------------------------------------------+\n",
            "| Processes:                                                                              |\n",
            "|  GPU   GI   CI        PID   Type   Process name                              GPU Memory |\n",
            "|        ID   ID                                                               Usage      |\n",
            "|=========================================================================================|\n",
            "+-----------------------------------------------------------------------------------------+\n"
          ]
        }
      ],
      "source": [
        "!nvidia-smi"
      ]
    },
    {
      "cell_type": "code",
      "execution_count": 85,
      "metadata": {
        "colab": {
          "base_uri": "https://localhost:8080/"
        },
        "id": "tVogepD08Mxr",
        "outputId": "f9926951-b785-40be-80ae-05d45bcfea87"
      },
      "outputs": [
        {
          "output_type": "execute_result",
          "data": {
            "text/plain": [
              "True"
            ]
          },
          "metadata": {},
          "execution_count": 85
        }
      ],
      "source": [
        "#check GPU access w/ pytorch\n",
        "import torch\n",
        "torch.cuda.is_available()"
      ]
    },
    {
      "cell_type": "code",
      "execution_count": 86,
      "metadata": {
        "colab": {
          "base_uri": "https://localhost:8080/"
        },
        "id": "S4-Qycqn-T8u",
        "outputId": "4c267a73-23a6-43b5-8adf-1a109a65defc"
      },
      "outputs": [
        {
          "output_type": "stream",
          "name": "stdout",
          "text": [
            "tensor([1, 2, 3]) cpu\n"
          ]
        }
      ],
      "source": [
        "#putting tensors and models on the GPU, as using GPU results faster computation\n",
        "tensor = torch.tensor([1,2,3], device = \"cpu\") #tensor n default cpu, even w/o specification\n",
        "print(tensor, tensor.device)"
      ]
    },
    {
      "cell_type": "code",
      "execution_count": 87,
      "metadata": {
        "colab": {
          "base_uri": "https://localhost:8080/"
        },
        "id": "_wMbxL3I-8va",
        "outputId": "283e4c7c-0543-47fe-8d4c-1d86f808f55a"
      },
      "outputs": [
        {
          "output_type": "execute_result",
          "data": {
            "text/plain": [
              "tensor([1, 2, 3], device='cuda:0')"
            ]
          },
          "metadata": {},
          "execution_count": 87
        }
      ],
      "source": [
        "# if cuda available use gpu else cpu\n",
        "tensor_on_gpu = tensor.to(device)\n",
        "tensor_on_gpu"
      ]
    },
    {
      "cell_type": "code",
      "execution_count": 88,
      "metadata": {
        "colab": {
          "base_uri": "https://localhost:8080/"
        },
        "id": "_mUSCmY_FTcD",
        "outputId": "2f3ee25c-8e2b-43e6-9fb0-4650a4bf374f"
      },
      "outputs": [
        {
          "output_type": "execute_result",
          "data": {
            "text/plain": [
              "array([1, 2, 3])"
            ]
          },
          "metadata": {},
          "execution_count": 88
        }
      ],
      "source": [
        "#CONvert tensor back to cpu cuz numpy do not work w/ gpu\n",
        "tensor_back_on_cpu = tensor_on_gpu.cpu().numpy()\n",
        "tensor_back_on_cpu"
      ]
    },
    {
      "cell_type": "code",
      "execution_count": 89,
      "metadata": {
        "colab": {
          "base_uri": "https://localhost:8080/",
          "height": 35
        },
        "id": "CiiwabU587n7",
        "outputId": "34214332-6517-4057-bfa6-4c95cc54ed9b"
      },
      "outputs": [
        {
          "output_type": "execute_result",
          "data": {
            "text/plain": [
              "'cuda'"
            ],
            "application/vnd.google.colaboratory.intrinsic+json": {
              "type": "string"
            }
          },
          "metadata": {},
          "execution_count": 89
        }
      ],
      "source": [
        "#setup device agnostic code\n",
        "device = 'cuda' if torch.cuda.is_available() else 'cpu'\n",
        "device"
      ]
    },
    {
      "cell_type": "code",
      "execution_count": 90,
      "metadata": {
        "colab": {
          "base_uri": "https://localhost:8080/"
        },
        "id": "Rtm4jVP_9Vgk",
        "outputId": "1470a72a-572c-4491-e2a7-0d2569bada8e"
      },
      "outputs": [
        {
          "output_type": "execute_result",
          "data": {
            "text/plain": [
              "1"
            ]
          },
          "metadata": {},
          "execution_count": 90
        }
      ],
      "source": [
        "# count no of devices\n",
        "torch.cuda.device_count() # some times we want to run diff models in diff device each"
      ]
    },
    {
      "cell_type": "markdown",
      "metadata": {
        "id": "ssxiAP0B9qqI"
      },
      "source": [
        "## **NN**\n",
        "\n",
        "FINALLY!!!!!!"
      ]
    },
    {
      "cell_type": "markdown",
      "metadata": {
        "id": "fZuzvSRv9vKN"
      },
      "source": [
        "###**pytorch workflow**"
      ]
    },
    {
      "cell_type": "markdown",
      "metadata": {
        "id": "zlm8-t3bOhDM"
      },
      "source": [
        "what we will do\n",
        "1. data prepare and load\n",
        "2. build model\n",
        "3. fitting model to data training\n",
        "4. make predictions ans evaluating the model\n",
        "5. save and load model\n",
        "6. putting it all together"
      ]
    },
    {
      "cell_type": "code",
      "execution_count": 91,
      "metadata": {
        "colab": {
          "base_uri": "https://localhost:8080/",
          "height": 35
        },
        "id": "wBp3GEC7PsqE",
        "outputId": "01c69e52-5bc9-4494-bf86-465ca052cd13"
      },
      "outputs": [
        {
          "output_type": "execute_result",
          "data": {
            "text/plain": [
              "'2.6.0+cu124'"
            ],
            "application/vnd.google.colaboratory.intrinsic+json": {
              "type": "string"
            }
          },
          "metadata": {},
          "execution_count": 91
        }
      ],
      "source": [
        "import torch\n",
        "from torch import nn #nn contains all of pytorch building block\n",
        "import matplotlib.pyplot as plt\n",
        "torch.__version__"
      ]
    },
    {
      "cell_type": "markdown",
      "metadata": {
        "id": "K6rrm7jjQQL9"
      },
      "source": [
        "##preparing and loading data\n",
        "\n",
        "data can be almost anything in ml\n",
        "\n",
        "excel spreadsheet\n",
        "images of any kind\n",
        "videos (youtube has a lot of data...)\n",
        "audio like song or podcast\n",
        "DNA\n",
        "text\n",
        "\n",
        "ml a game of 2 parts:\n",
        "1. get data into numerical representation.\n",
        "2. build a model that learns patterns in that numerical representation.\n",
        "\n",
        "toshow this, will create someknown data using the linear regression formula\n",
        "\n",
        "we will use a linear regression formula to make a straight line with known parameters\n",
        "we will use linear regression\n"
      ]
    },
    {
      "cell_type": "code",
      "execution_count": 92,
      "metadata": {
        "colab": {
          "base_uri": "https://localhost:8080/"
        },
        "id": "3SHg3C5EQa1I",
        "outputId": "3cffd598-98b1-4615-969f-28ea73535811"
      },
      "outputs": [
        {
          "output_type": "execute_result",
          "data": {
            "text/plain": [
              "(tensor([[0.0000],\n",
              "         [0.0200],\n",
              "         [0.0400],\n",
              "         [0.0600],\n",
              "         [0.0800],\n",
              "         [0.1000],\n",
              "         [0.1200],\n",
              "         [0.1400],\n",
              "         [0.1600],\n",
              "         [0.1800]]),\n",
              " tensor([[0.3000],\n",
              "         [0.3140],\n",
              "         [0.3280],\n",
              "         [0.3420],\n",
              "         [0.3560],\n",
              "         [0.3700],\n",
              "         [0.3840],\n",
              "         [0.3980],\n",
              "         [0.4120],\n",
              "         [0.4260]]))"
            ]
          },
          "metadata": {},
          "execution_count": 92
        }
      ],
      "source": [
        "#create known parameters\n",
        "\n",
        "weight = 0.7\n",
        "bias = 0.3\n",
        "\n",
        "#create\n",
        "start = 0\n",
        "end = 1\n",
        "step = 0.02\n",
        "X = torch.arange(start, end, step).unsqueeze(dim=1)\n",
        "y = weight * X + bias\n",
        "\n",
        "X[ :10], y[:10]"
      ]
    },
    {
      "cell_type": "code",
      "execution_count": 93,
      "metadata": {
        "colab": {
          "base_uri": "https://localhost:8080/"
        },
        "id": "SdEnDExE-18t",
        "outputId": "1093b7aa-874f-4a1e-fb44-b6a06848be2a"
      },
      "outputs": [
        {
          "output_type": "execute_result",
          "data": {
            "text/plain": [
              "(50, 50)"
            ]
          },
          "metadata": {},
          "execution_count": 93
        }
      ],
      "source": [
        "len(X), len(y)"
      ]
    },
    {
      "cell_type": "markdown",
      "metadata": {
        "id": "4dzF13vO_SzX"
      },
      "source": [
        "### **splitting data into training and test sets (most important concept in machine learning in general)**\n",
        "\n"
      ]
    },
    {
      "cell_type": "code",
      "execution_count": 94,
      "metadata": {
        "colab": {
          "base_uri": "https://localhost:8080/"
        },
        "id": "umi2jh0bEAaX",
        "outputId": "ae6986e3-aa90-4950-eb2b-5378ddad87c4"
      },
      "outputs": [
        {
          "output_type": "execute_result",
          "data": {
            "text/plain": [
              "(40, 10, 40, 10)"
            ]
          },
          "metadata": {},
          "execution_count": 94
        }
      ],
      "source": [
        "# create a train / test split\n",
        "#very imp concept\n",
        "\n",
        "train_split = int(0.8 * len(X))\n",
        "X_train, y_train = X[:train_split], y[: train_split]\n",
        "X_test, y_test = X[train_split:], y[train_split:]\n",
        "\n",
        "len(X_train), len(X_test), len(y_train), len(y_test)"
      ]
    },
    {
      "cell_type": "markdown",
      "metadata": {
        "id": "nj8iB16FEGH5"
      },
      "source": [
        "how can we better visualize our data"
      ]
    },
    {
      "cell_type": "code",
      "execution_count": 95,
      "metadata": {
        "id": "Q0knZIeIGDXv"
      },
      "outputs": [],
      "source": [
        "import matplotlib.pyplot as plt\n",
        "\n",
        "def plot_predictions(train_data = X_train,\n",
        "                    train_label = y_train,\n",
        "                    test_data = X_test,\n",
        "                    test_label = y_test,\n",
        "                    predictions = None):\n",
        "  #plot traing data, test data, and compare predictions\n",
        "\n",
        "  #plot training data in blue\n",
        "  plt.figure(figsize=(10, 7))\n",
        "  plt.scatter(train_data, train_label, c=\"b\", s=4, label = \"Training data\")\n",
        "\n",
        "  #plot test data in green\n",
        "  plt.scatter(test_data, test_label, c=\"g\",s=4, label = \"Test data\")\n",
        "\n",
        "  #are there predictions?\n",
        "  if predictions is not None:\n",
        "    #plot the predictions if they exist\n",
        "    predictions = predictions.detach().cpu().numpy()\n",
        "    plt.scatter(test_data, predictions, c='r', s=4, label=\"Predictions\") #to see how our predictions are compared to y labels\n",
        "\n",
        "  #show the legend\n",
        "  plt.legend(prop={\"size\" : 14}) #prop from properities"
      ]
    },
    {
      "cell_type": "markdown",
      "metadata": {
        "id": "qL3agtWTR3Zg"
      },
      "source": [
        "#### creating our first model using linear regression\n"
      ]
    },
    {
      "cell_type": "code",
      "execution_count": 96,
      "metadata": {
        "id": "vucNx34viqUT"
      },
      "outputs": [],
      "source": [
        "from torch import nn\n",
        "\n",
        "class linearRegression(nn.Module):\n",
        "  def __init__(self):\n",
        "    super().__init__()\n",
        "    self.weight = nn.Parameter(torch.randn(1,\n",
        "                                            requires_grad = True,\n",
        "                                            dtype = torch.float))\n",
        "    self.bias = nn.Parameter(torch.randn(1,\n",
        "                                            requires_grad = True,\n",
        "                                            dtype = torch.float))\n",
        "\n",
        "  def forward(self, x: torch.Tensor) -> torch.Tensor:\n",
        "    return self.weight * x + self.bias"
      ]
    },
    {
      "cell_type": "code",
      "execution_count": 97,
      "metadata": {
        "colab": {
          "base_uri": "https://localhost:8080/"
        },
        "id": "g0IXQh6uku0D",
        "outputId": "58bccd18-3ec1-482c-87de-5fadd787bbd2"
      },
      "outputs": [
        {
          "output_type": "execute_result",
          "data": {
            "text/plain": [
              "[Parameter containing:\n",
              " tensor([0.3367], requires_grad=True),\n",
              " Parameter containing:\n",
              " tensor([0.1288], requires_grad=True)]"
            ]
          },
          "metadata": {},
          "execution_count": 97
        }
      ],
      "source": [
        "torch.manual_seed(42)\n",
        "\n",
        "model_0 = linearRegression()\n",
        "\n",
        "list(model_0.parameters())"
      ]
    },
    {
      "cell_type": "code",
      "execution_count": 98,
      "metadata": {
        "colab": {
          "base_uri": "https://localhost:8080/"
        },
        "id": "urgQg0q0lOpU",
        "outputId": "59090340-5106-4d32-bc37-ea16cf25da8a"
      },
      "outputs": [
        {
          "output_type": "execute_result",
          "data": {
            "text/plain": [
              "OrderedDict([('weight', tensor([0.3367])), ('bias', tensor([0.1288]))])"
            ]
          },
          "metadata": {},
          "execution_count": 98
        }
      ],
      "source": [
        "model_0.state_dict()"
      ]
    },
    {
      "cell_type": "markdown",
      "metadata": {
        "id": "HmzXM6ikoz3U"
      },
      "source": [
        "### making predictions using 'torch.inference_mode()'\n",
        "we want how the model now will predict y_test based on X_test"
      ]
    },
    {
      "cell_type": "code",
      "execution_count": 99,
      "metadata": {
        "colab": {
          "base_uri": "https://localhost:8080/"
        },
        "id": "UjG_HO2ZsUGR",
        "outputId": "c7e44804-5202-4618-ff73-60234d1ec9fe"
      },
      "outputs": [
        {
          "output_type": "execute_result",
          "data": {
            "text/plain": [
              "(tensor([[0.8000],\n",
              "         [0.8200],\n",
              "         [0.8400],\n",
              "         [0.8600],\n",
              "         [0.8800],\n",
              "         [0.9000],\n",
              "         [0.9200],\n",
              "         [0.9400],\n",
              "         [0.9600],\n",
              "         [0.9800]]),\n",
              " tensor([[0.8600],\n",
              "         [0.8740],\n",
              "         [0.8880],\n",
              "         [0.9020],\n",
              "         [0.9160],\n",
              "         [0.9300],\n",
              "         [0.9440],\n",
              "         [0.9580],\n",
              "         [0.9720],\n",
              "         [0.9860]]))"
            ]
          },
          "metadata": {},
          "execution_count": 99
        }
      ],
      "source": [
        "X_test, y_test"
      ]
    },
    {
      "cell_type": "code",
      "execution_count": 100,
      "metadata": {
        "colab": {
          "base_uri": "https://localhost:8080/"
        },
        "id": "hohn38AEz1yq",
        "outputId": "bf5920f7-6ea2-4680-e0be-1fe31ad15338"
      },
      "outputs": [
        {
          "output_type": "execute_result",
          "data": {
            "text/plain": [
              "tensor([[0.3982],\n",
              "        [0.4049],\n",
              "        [0.4116],\n",
              "        [0.4184],\n",
              "        [0.4251],\n",
              "        [0.4318],\n",
              "        [0.4386],\n",
              "        [0.4453],\n",
              "        [0.4520],\n",
              "        [0.4588]], grad_fn=<AddBackward0>)"
            ]
          },
          "metadata": {},
          "execution_count": 100
        }
      ],
      "source": [
        "y_preds = model_0(X_test)\n",
        "y_preds"
      ]
    },
    {
      "cell_type": "code",
      "execution_count": 101,
      "metadata": {
        "colab": {
          "base_uri": "https://localhost:8080/"
        },
        "id": "WG6ofw8isA9X",
        "outputId": "13e00ef9-8270-4459-cfba-a43636393579"
      },
      "outputs": [
        {
          "output_type": "execute_result",
          "data": {
            "text/plain": [
              "tensor([[0.3982],\n",
              "        [0.4049],\n",
              "        [0.4116],\n",
              "        [0.4184],\n",
              "        [0.4251],\n",
              "        [0.4318],\n",
              "        [0.4386],\n",
              "        [0.4453],\n",
              "        [0.4520],\n",
              "        [0.4588]])"
            ]
          },
          "metadata": {},
          "execution_count": 101
        }
      ],
      "source": [
        "with torch.inference_mode(): #? makes the code runs faster\n",
        "  y_preds = model_0(X_test)\n",
        "\n",
        "#you can also do something similar with torch.no_grad(), however torch.inference_mode is preferable\n",
        "#with torch.no_grad():\n",
        "#  y_preds = model_0(X_test)\n",
        "\n",
        "y_preds"
      ]
    },
    {
      "cell_type": "code",
      "execution_count": 102,
      "metadata": {
        "colab": {
          "base_uri": "https://localhost:8080/"
        },
        "id": "sjR62hxZsZs7",
        "outputId": "7c739986-3740-4271-8809-51c7d377eb4b"
      },
      "outputs": [
        {
          "output_type": "execute_result",
          "data": {
            "text/plain": [
              "tensor([[0.8600],\n",
              "        [0.8740],\n",
              "        [0.8880],\n",
              "        [0.9020],\n",
              "        [0.9160],\n",
              "        [0.9300],\n",
              "        [0.9440],\n",
              "        [0.9580],\n",
              "        [0.9720],\n",
              "        [0.9860]])"
            ]
          },
          "metadata": {},
          "execution_count": 102
        }
      ],
      "source": [
        "y_test"
      ]
    },
    {
      "cell_type": "code",
      "source": [
        "plot_predictions(predictions= y_preds)"
      ],
      "metadata": {
        "colab": {
          "base_uri": "https://localhost:8080/",
          "height": 599
        },
        "id": "Q_VTRlD7_iZB",
        "outputId": "024091cb-e33b-473d-f4d4-f0af62e5a11a"
      },
      "execution_count": 103,
      "outputs": [
        {
          "output_type": "display_data",
          "data": {
            "text/plain": [
              "<Figure size 1000x700 with 1 Axes>"
            ],
            "image/png": "[encoded data removed]"
          },
          "metadata": {}
        }
      ]
    },
    {
      "cell_type": "code",
      "execution_count": 104,
      "metadata": {
        "colab": {
          "base_uri": "https://localhost:8080/",
          "height": 599
        },
        "id": "zJVYyE4qy2WZ",
        "outputId": "bf43aa21-12c0-46d0-8e8e-94d691e393a6"
      },
      "outputs": [
        {
          "output_type": "display_data",
          "data": {
            "text/plain": [
              "<Figure size 1000x700 with 1 Axes>"
            ],
            "image/png": "[encoded data removed]"
          },
          "metadata": {}
        }
      ],
      "source": [
        "plot_predictions(predictions=y_preds) #poor performance"
      ]
    },
    {
      "cell_type": "markdown",
      "metadata": {
        "id": "qktn-N4yy9Tb"
      },
      "source": [
        "## 3. train model\n",
        "the whole idea of training is to move from poor representation of data to a fairly good\n",
        "representation of data_parallel\n",
        "one way to measure how poor or how wrong your model predictions is to use a loss function\n",
        "\n",
        "note: loss = coss = criterian\n",
        "\n",
        "#### things we need to train:\n",
        "\n",
        "* **loss function** - is a function to measure how wrong is our model predictions to the ideal outputs, lower is better.\n",
        "* **Optimizer** - takes into account the loss of a model and adjuct the model's parameters (e.g. weight & bias)\n",
        "\n",
        "for pytorch we need:\n",
        "* a training loop\n",
        "* a testing loop"
      ]
    },
    {
      "cell_type": "code",
      "execution_count": 105,
      "metadata": {
        "colab": {
          "base_uri": "https://localhost:8080/"
        },
        "id": "C36pVwFT7v6q",
        "outputId": "83051450-2618-47c8-ce72-f370578525d6"
      },
      "outputs": [
        {
          "output_type": "execute_result",
          "data": {
            "text/plain": [
              "[Parameter containing:\n",
              " tensor([0.3367], requires_grad=True),\n",
              " Parameter containing:\n",
              " tensor([0.1288], requires_grad=True)]"
            ]
          },
          "metadata": {},
          "execution_count": 105
        }
      ],
      "source": [
        "list(model_0.parameters())"
      ]
    },
    {
      "cell_type": "code",
      "execution_count": 106,
      "metadata": {
        "colab": {
          "base_uri": "https://localhost:8080/"
        },
        "id": "00luiEvG70dv",
        "outputId": "7324d0ca-5c20-4b3d-c63d-8a323f65d0cd"
      },
      "outputs": [
        {
          "output_type": "execute_result",
          "data": {
            "text/plain": [
              "OrderedDict([('weight', tensor([0.3367])), ('bias', tensor([0.1288]))])"
            ]
          },
          "metadata": {},
          "execution_count": 106
        }
      ],
      "source": [
        "#chech model parameters, a parameter is a value that function sets itself\n",
        "model_0.state_dict()"
      ]
    },
    {
      "cell_type": "code",
      "execution_count": 107,
      "metadata": {
        "id": "W6ZmdmtO7_AH"
      },
      "outputs": [],
      "source": [
        "#setup loss fn\n",
        "loss_fn = nn.L1Loss()\n",
        "\n",
        "#setup an optimizer\n",
        "optimizer = torch.optim.SGD(params= model_0.parameters(),\n",
        "                            lr = 0.01 )"
      ]
    },
    {
      "cell_type": "markdown",
      "metadata": {
        "id": "WModlJMg-Ch1"
      },
      "source": [
        " choosing the loss function and opimizer is problem specific\n",
        " ex:\n",
        "\n",
        "    linear regression nn.L1Loss()\n",
        "    \n",
        "    classification nn.BCELoss()"
      ]
    },
    {
      "cell_type": "markdown",
      "metadata": {
        "id": "2cKG5bldBG5B"
      },
      "source": [
        "### building a training loop in pytorch\n",
        "\n",
        "1. loop through the data\n",
        "2. forward pass (this involves moving through forward() moving from input to output - also called forward propagation)\n",
        "3. calculate the loss (compare forward pass predictions to ground truth labels)\n",
        "4. loss backward - move backwards through the network to calculate the gradients of each of the parameters of our model with respect to the loss (backpropagation)\n",
        "5. optimizer step - use the optimizer to adjuct our model parameters to try and improve the loss (gradient descent)"
      ]
    },
    {
      "cell_type": "code",
      "execution_count": 108,
      "metadata": {
        "colab": {
          "base_uri": "https://localhost:8080/"
        },
        "id": "r2PSbRDaEcur",
        "outputId": "007193df-b978-42bd-921c-83be21cda67f"
      },
      "outputs": [
        {
          "output_type": "execute_result",
          "data": {
            "text/plain": [
              "[Parameter containing:\n",
              " tensor([0.3367], requires_grad=True),\n",
              " Parameter containing:\n",
              " tensor([0.1288], requires_grad=True)]"
            ]
          },
          "metadata": {},
          "execution_count": 108
        }
      ],
      "source": [
        "list(model_0.eval().parameters())"
      ]
    },
    {
      "cell_type": "code",
      "execution_count": 109,
      "metadata": {
        "colab": {
          "base_uri": "https://localhost:8080/"
        },
        "id": "7B-WWvpQB2Cv",
        "outputId": "36035196-dcd0-4177-fe33-29433d2b9dc2"
      },
      "outputs": [
        {
          "output_type": "stream",
          "name": "stdout",
          "text": [
            "Epoch: 0 | Loss: 0.31288138031959534 | test loss: 0.48106518387794495\n",
            "OrderedDict([('weight', tensor([0.3406])), ('bias', tensor([0.1388]))])\n",
            "Epoch: 10 | Loss: 0.1976713240146637 | test loss: 0.3463551998138428\n",
            "OrderedDict([('weight', tensor([0.3796])), ('bias', tensor([0.2388]))])\n",
            "Epoch: 20 | Loss: 0.08908725529909134 | test loss: 0.21729660034179688\n",
            "OrderedDict([('weight', tensor([0.4184])), ('bias', tensor([0.3333]))])\n",
            "Epoch: 30 | Loss: 0.053148526698350906 | test loss: 0.14464017748832703\n",
            "OrderedDict([('weight', tensor([0.4512])), ('bias', tensor([0.3768]))])\n",
            "Epoch: 40 | Loss: 0.04543796554207802 | test loss: 0.11360953003168106\n",
            "OrderedDict([('weight', tensor([0.4748])), ('bias', tensor([0.3868]))])\n",
            "Epoch: 50 | Loss: 0.04167863354086876 | test loss: 0.09919948130846024\n",
            "OrderedDict([('weight', tensor([0.4938])), ('bias', tensor([0.3843]))])\n",
            "Epoch: 60 | Loss: 0.03818932920694351 | test loss: 0.08886633068323135\n",
            "OrderedDict([('weight', tensor([0.5116])), ('bias', tensor([0.3788]))])\n",
            "Epoch: 70 | Loss: 0.03476089984178543 | test loss: 0.0805937647819519\n",
            "OrderedDict([('weight', tensor([0.5288])), ('bias', tensor([0.3718]))])\n",
            "Epoch: 80 | Loss: 0.03132382780313492 | test loss: 0.07232122868299484\n",
            "OrderedDict([('weight', tensor([0.5459])), ('bias', tensor([0.3648]))])\n",
            "Epoch: 90 | Loss: 0.02788739837706089 | test loss: 0.06473556160926819\n",
            "OrderedDict([('weight', tensor([0.5629])), ('bias', tensor([0.3573]))])\n",
            "Epoch: 100 | Loss: 0.024458957836031914 | test loss: 0.05646304413676262\n",
            "OrderedDict([('weight', tensor([0.5800])), ('bias', tensor([0.3503]))])\n",
            "Epoch: 110 | Loss: 0.021020207554101944 | test loss: 0.04819049686193466\n",
            "OrderedDict([('weight', tensor([0.5972])), ('bias', tensor([0.3433]))])\n",
            "Epoch: 120 | Loss: 0.01758546568453312 | test loss: 0.04060482233762741\n",
            "OrderedDict([('weight', tensor([0.6141])), ('bias', tensor([0.3358]))])\n",
            "Epoch: 130 | Loss: 0.014155393466353416 | test loss: 0.03233227878808975\n",
            "OrderedDict([('weight', tensor([0.6313])), ('bias', tensor([0.3288]))])\n",
            "Epoch: 140 | Loss: 0.010716589167714119 | test loss: 0.024059748277068138\n",
            "OrderedDict([('weight', tensor([0.6485])), ('bias', tensor([0.3218]))])\n",
            "Epoch: 150 | Loss: 0.0072835334576666355 | test loss: 0.016474086791276932\n",
            "OrderedDict([('weight', tensor([0.6654])), ('bias', tensor([0.3143]))])\n",
            "Epoch: 160 | Loss: 0.0038517764769494534 | test loss: 0.008201557211577892\n",
            "OrderedDict([('weight', tensor([0.6826])), ('bias', tensor([0.3073]))])\n",
            "Epoch: 170 | Loss: 0.008932482451200485 | test loss: 0.005023092031478882\n",
            "OrderedDict([('weight', tensor([0.6951])), ('bias', tensor([0.2993]))])\n",
            "Epoch: 180 | Loss: 0.008932482451200485 | test loss: 0.005023092031478882\n",
            "OrderedDict([('weight', tensor([0.6951])), ('bias', tensor([0.2993]))])\n",
            "Epoch: 190 | Loss: 0.008932482451200485 | test loss: 0.005023092031478882\n",
            "OrderedDict([('weight', tensor([0.6951])), ('bias', tensor([0.2993]))])\n"
          ]
        }
      ],
      "source": [
        "# an epoch is one loop through the data\n",
        "torch.manual_seed(42)\n",
        "epochs = 200\n",
        "\n",
        "#tracking experiments, track different values so if we used different model, factor we can compare\n",
        "epoch_count = []\n",
        "train_loss_values = []\n",
        "test_loss_values = []\n",
        "\n",
        "#we can turn this to training fn and use it anytime\n",
        "# 0. loop through the data\n",
        "for epoch in range(epochs):#pass data through number of epochs e.g 100\n",
        "  #set the model to training mode\n",
        "  model_0.train()  # train mode  in pytorch sets all parameters that requires gradients to require gradients\n",
        "\n",
        "  #1. forward pass\n",
        "  y_pred = model_0(X_train) #pass data through the model,\n",
        "     #this will perform the forward() method located within the model project\n",
        "\n",
        "  #2.calculate the loss\n",
        "  loss = loss_fn(y_pred, y_train)  # how wrong the model predictions are\n",
        "\n",
        "  #3. optimizer zero grad\n",
        "  optimizer.zero_grad()   #they zero the optimizer gradients to start fresh each forward pass\n",
        "\n",
        "  #4. perform backpropagation on the loss with respect to the parameters of the model\n",
        "  loss.backward()# perform backpropagation on loss fn, compute gradients of every parameter with requires_grad = True\n",
        "\n",
        "  #5. step the optimizer (perform gradient descent)\n",
        "  optimizer.step() #by default how the optimizer change will acculumate through the loop so we have to zero them above in step\n",
        "\n",
        "\n",
        "\n",
        "  ### testing\n",
        "  model_0.eval() # turns off gradients tracking/ different settings not needed for evaluation/testing\n",
        "  with torch.inference_mode(): #turns off gradient descent and couple of things behind the scences\n",
        "  #with torch.no_grad():\n",
        "    #do the forward pass\n",
        "    test_pred = model_0(X_test)\n",
        "\n",
        "    #calculate the loss\n",
        "    test_loss = loss_fn(test_pred, y_test)\n",
        "\n",
        "\n",
        "  if epoch % 10 == 0:\n",
        "    epoch_count.append(epoch)\n",
        "    train_loss_values.append(loss)\n",
        "    test_loss_values.append(test_loss)\n",
        "    print(f\"Epoch: {epoch} | Loss: {loss} | test loss: {test_loss}\")\n",
        "    #print the model state dict\n",
        "    print(model_0.state_dict())\n"
      ]
    },
    {
      "cell_type": "code",
      "source": [
        "#epoch_count, train_loss_values, test_loss_values"
      ],
      "metadata": {
        "id": "PLxgIc6tiD3n"
      },
      "execution_count": 110,
      "outputs": []
    },
    {
      "cell_type": "code",
      "source": [
        "#plot the loss curves\n",
        "plt.plot(epoch_count, np.array(torch.tensor(train_loss_values).numpy()), label= \"Train loss\")\n",
        "plt.plot(epoch_count, test_loss_values, label= \"test loss\")\n",
        "plt.title(\"Training and test loss curves\")\n",
        "plt.ylabel(\"Loss\")\n",
        "plt.xlabel(\"Epoches\")\n",
        "plt.legend();"
      ],
      "metadata": {
        "colab": {
          "base_uri": "https://localhost:8080/",
          "height": 472
        },
        "id": "0l_Qf1QQimfq",
        "outputId": "daecef6a-6909-4f7f-f503-17c89efc0b49"
      },
      "execution_count": 111,
      "outputs": [
        {
          "output_type": "display_data",
          "data": {
            "text/plain": [
              "<Figure size 640x480 with 1 Axes>"
            ],
            "image/png": "[encoded data removed]"
          },
          "metadata": {}
        }
      ]
    },
    {
      "cell_type": "code",
      "source": [],
      "metadata": {
        "id": "5rfdnoTXimq0"
      },
      "execution_count": 111,
      "outputs": []
    },
    {
      "cell_type": "code",
      "execution_count": 112,
      "metadata": {
        "id": "dUwC2WqlF-dr"
      },
      "outputs": [],
      "source": [
        "with torch.inference_mode():\n",
        "  y_preds_new = model_0(X_test)"
      ]
    },
    {
      "cell_type": "code",
      "execution_count": 113,
      "metadata": {
        "colab": {
          "base_uri": "https://localhost:8080/"
        },
        "id": "ou24lUc6jiKF",
        "outputId": "c6075487-b93d-4eb7-d2c7-378529411e6d"
      },
      "outputs": [
        {
          "output_type": "execute_result",
          "data": {
            "text/plain": [
              "OrderedDict([('weight', tensor([0.6990])), ('bias', tensor([0.3093]))])"
            ]
          },
          "metadata": {},
          "execution_count": 113
        }
      ],
      "source": [
        "model_0.state_dict()"
      ]
    },
    {
      "cell_type": "code",
      "execution_count": 114,
      "metadata": {
        "colab": {
          "base_uri": "https://localhost:8080/"
        },
        "id": "nnkIRfTG27JI",
        "outputId": "0e23832b-4669-492c-be7a-6a236686969a"
      },
      "outputs": [
        {
          "output_type": "execute_result",
          "data": {
            "text/plain": [
              "(0.7, 0.3)"
            ]
          },
          "metadata": {},
          "execution_count": 114
        }
      ],
      "source": [
        "weight, bias"
      ]
    },
    {
      "cell_type": "code",
      "execution_count": 115,
      "metadata": {
        "colab": {
          "base_uri": "https://localhost:8080/",
          "height": 599
        },
        "id": "2h9QkeNZjebA",
        "outputId": "c4eccaf5-f9a3-4d0e-b80c-63790b53c4b1"
      },
      "outputs": [
        {
          "output_type": "display_data",
          "data": {
            "text/plain": [
              "<Figure size 1000x700 with 1 Axes>"
            ],
            "image/png": "[encoded data removed]"
          },
          "metadata": {}
        }
      ],
      "source": [
        "plot_predictions(predictions= y_preds_new);"
      ]
    },
    {
      "cell_type": "code",
      "source": [
        "plot_predictions(predictions= y_preds);"
      ],
      "metadata": {
        "colab": {
          "base_uri": "https://localhost:8080/",
          "height": 599
        },
        "id": "jw1ZgdEQb6jo",
        "outputId": "ce27f5af-29e8-4568-88c2-4f5eaa85fd2b"
      },
      "execution_count": 116,
      "outputs": [
        {
          "output_type": "display_data",
          "data": {
            "text/plain": [
              "<Figure size 1000x700 with 1 Axes>"
            ],
            "image/png": "[encoded data removed]"
          },
          "metadata": {}
        }
      ]
    },
    {
      "cell_type": "markdown",
      "source": [
        "## Saving a model in Pytorch\n",
        "3 methods for saving/loading in pytorch\n",
        " 1. torch.save() - allow to save pytorch obj in pickle format\n",
        " 2. torch.load() - allow to load saved pytorch obj\n",
        " 3. torch.nn.Module.load_state_dict() - allow to load model saved state dictionary"
      ],
      "metadata": {
        "id": "-cdM3yQDkGxL"
      }
    },
    {
      "cell_type": "code",
      "source": [
        "#sVING OUR PYTORCH MODEL\n",
        "from pathlib import Path\n",
        "\n",
        "#1. create model dictionary\n",
        "MODEL_PATH = Path(\"models\")\n",
        "MODEL_PATH.mkdir(parents = True, exist_ok = True)\n",
        "\n",
        "#2. create model save path\n",
        "MODEL_NAME = \"mymlbeginning.pth\"\n",
        "MODEL_SAVE_PATH = MODEL_PATH / MODEL_NAME\n",
        "\n",
        "#3. save the model state dict\n",
        "print(f\"Saving model to: {MODEL_SAVE_PATH}\")\n",
        "torch.save(obj = model_0.state_dict(),\n",
        "           f = MODEL_SAVE_PATH)"
      ],
      "metadata": {
        "colab": {
          "base_uri": "https://localhost:8080/"
        },
        "id": "MCtj3t8RmN92",
        "outputId": "09c4ffee-2a22-4ca8-a7ac-0a4c8e7cbf2a"
      },
      "execution_count": 117,
      "outputs": [
        {
          "output_type": "stream",
          "name": "stdout",
          "text": [
            "Saving model to: models/mymlbeginning.pth\n"
          ]
        }
      ]
    },
    {
      "cell_type": "code",
      "source": [
        "!ls -1 models"
      ],
      "metadata": {
        "colab": {
          "base_uri": "https://localhost:8080/"
        },
        "id": "5fUohxxe6epd",
        "outputId": "eb0d2108-d420-4add-ff83-dfa6a02a9f98"
      },
      "execution_count": 118,
      "outputs": [
        {
          "output_type": "stream",
          "name": "stdout",
          "text": [
            "mymlbeginning.pth\n"
          ]
        }
      ]
    },
    {
      "cell_type": "markdown",
      "source": [
        "##loading pytorch model\n",
        "\n",
        "we savedmodel state dict( ) instead of entire model, we will create a new instance of our model class and load our saved state dict into it"
      ],
      "metadata": {
        "id": "1y0nmQ9e8LV-"
      }
    },
    {
      "cell_type": "code",
      "source": [
        "model_0.state_dict()"
      ],
      "metadata": {
        "colab": {
          "base_uri": "https://localhost:8080/"
        },
        "id": "KLtNrjQf9YPu",
        "outputId": "ec27f72f-fc64-4347-ab00-fd9707772809"
      },
      "execution_count": 119,
      "outputs": [
        {
          "output_type": "execute_result",
          "data": {
            "text/plain": [
              "OrderedDict([('weight', tensor([0.6990])), ('bias', tensor([0.3093]))])"
            ]
          },
          "metadata": {},
          "execution_count": 119
        }
      ]
    },
    {
      "cell_type": "code",
      "source": [
        "#to load in a saved state dict we have to initiate a new instance of our model class\n",
        "loaded_model_0 = linearRegression()\n",
        "\n",
        "loaded_model_0.load_state_dict(torch.load(f = MODEL_SAVE_PATH))"
      ],
      "metadata": {
        "colab": {
          "base_uri": "https://localhost:8080/"
        },
        "id": "yAz13GEy9eCK",
        "outputId": "05b94957-1050-466d-cf25-2092ff3cb38c"
      },
      "execution_count": 120,
      "outputs": [
        {
          "output_type": "execute_result",
          "data": {
            "text/plain": [
              "<All keys matched successfully>"
            ]
          },
          "metadata": {},
          "execution_count": 120
        }
      ]
    },
    {
      "cell_type": "code",
      "source": [
        "loaded_model_0.state_dict()"
      ],
      "metadata": {
        "colab": {
          "base_uri": "https://localhost:8080/"
        },
        "id": "sbYaaujc9rBV",
        "outputId": "4086c3cb-d629-43a1-f0d4-64dc53d7d31d"
      },
      "execution_count": 121,
      "outputs": [
        {
          "output_type": "execute_result",
          "data": {
            "text/plain": [
              "OrderedDict([('weight', tensor([0.6990])), ('bias', tensor([0.3093]))])"
            ]
          },
          "metadata": {},
          "execution_count": 121
        }
      ]
    },
    {
      "cell_type": "code",
      "source": [
        "#make some predictions with our loaded model\n",
        "loaded_model_0.eval()\n",
        "with torch.inference_mode():\n",
        "  loaded_model_preds = loaded_model_0(X_test)\n",
        "\n",
        "loaded_model_preds"
      ],
      "metadata": {
        "colab": {
          "base_uri": "https://localhost:8080/"
        },
        "id": "9s0ZvtOH-Rwh",
        "outputId": "119069cf-781b-482a-a456-59a4c13b0ad1"
      },
      "execution_count": 122,
      "outputs": [
        {
          "output_type": "execute_result",
          "data": {
            "text/plain": [
              "tensor([[0.8685],\n",
              "        [0.8825],\n",
              "        [0.8965],\n",
              "        [0.9105],\n",
              "        [0.9245],\n",
              "        [0.9384],\n",
              "        [0.9524],\n",
              "        [0.9664],\n",
              "        [0.9804],\n",
              "        [0.9944]])"
            ]
          },
          "metadata": {},
          "execution_count": 122
        }
      ]
    },
    {
      "cell_type": "code",
      "source": [
        "#make some models preds\n",
        "model_0.eval\n",
        "with torch.inference_mode():\n",
        "  y_preds = loaded_model_0(X_test)\n",
        "\n",
        "y_preds"
      ],
      "metadata": {
        "colab": {
          "base_uri": "https://localhost:8080/"
        },
        "id": "wf8gd4nAEZKE",
        "outputId": "b83d4745-8dca-41aa-ecd0-01bb2c74cc73"
      },
      "execution_count": 123,
      "outputs": [
        {
          "output_type": "execute_result",
          "data": {
            "text/plain": [
              "tensor([[0.8685],\n",
              "        [0.8825],\n",
              "        [0.8965],\n",
              "        [0.9105],\n",
              "        [0.9245],\n",
              "        [0.9384],\n",
              "        [0.9524],\n",
              "        [0.9664],\n",
              "        [0.9804],\n",
              "        [0.9944]])"
            ]
          },
          "metadata": {},
          "execution_count": 123
        }
      ]
    },
    {
      "cell_type": "code",
      "source": [
        "#compare loaded model preds with original preds\n",
        "y_preds == loaded_model_preds"
      ],
      "metadata": {
        "colab": {
          "base_uri": "https://localhost:8080/"
        },
        "id": "bqmM0E5OEdDA",
        "outputId": "61cad701-899b-495c-fbd9-d2997dc8e0bf"
      },
      "execution_count": 124,
      "outputs": [
        {
          "output_type": "execute_result",
          "data": {
            "text/plain": [
              "tensor([[True],\n",
              "        [True],\n",
              "        [True],\n",
              "        [True],\n",
              "        [True],\n",
              "        [True],\n",
              "        [True],\n",
              "        [True],\n",
              "        [True],\n",
              "        [True]])"
            ]
          },
          "metadata": {},
          "execution_count": 124
        }
      ]
    },
    {
      "cell_type": "markdown",
      "source": [
        "##6. putting it all together"
      ],
      "metadata": {
        "id": "hdPy7W_BEy_m"
      }
    },
    {
      "cell_type": "code",
      "source": [
        "#import pytorch and matplotlib\n",
        "import torch\n",
        "from torch import nn\n",
        "import matplotlib.pyplot as plt\n",
        "\n",
        "#check pytorch version\n",
        "torch.__version__"
      ],
      "metadata": {
        "colab": {
          "base_uri": "https://localhost:8080/",
          "height": 35
        },
        "id": "WlJ1gs9UG4wE",
        "outputId": "b9f20059-91fc-4744-859c-ef9ce76e330f"
      },
      "execution_count": 125,
      "outputs": [
        {
          "output_type": "execute_result",
          "data": {
            "text/plain": [
              "'2.6.0+cu124'"
            ],
            "application/vnd.google.colaboratory.intrinsic+json": {
              "type": "string"
            }
          },
          "metadata": {},
          "execution_count": 125
        }
      ]
    },
    {
      "cell_type": "code",
      "source": [
        "#create device-agnostic code\n",
        "device = \"cuda\" if torch.cuda.is_available() else \"cpu\"\n",
        "print(f\"using device: {device}\")"
      ],
      "metadata": {
        "colab": {
          "base_uri": "https://localhost:8080/"
        },
        "id": "dbztlRLHHMKB",
        "outputId": "83209c38-99ce-4896-85fa-a33970888805"
      },
      "execution_count": 126,
      "outputs": [
        {
          "output_type": "stream",
          "name": "stdout",
          "text": [
            "using device: cuda\n"
          ]
        }
      ]
    },
    {
      "cell_type": "code",
      "source": [
        "!nvidia-smi"
      ],
      "metadata": {
        "colab": {
          "base_uri": "https://localhost:8080/"
        },
        "id": "6UDuqd3JHiJH",
        "outputId": "78ffe930-a770-4107-d84e-368bbb232d92"
      },
      "execution_count": 127,
      "outputs": [
        {
          "output_type": "stream",
          "name": "stdout",
          "text": [
            "Tue Apr 22 14:11:40 2025       \n",
            "+-----------------------------------------------------------------------------------------+\n",
            "| NVIDIA-SMI 550.54.15              Driver Version: 550.54.15      CUDA Version: 12.4     |\n",
            "|-----------------------------------------+------------------------+----------------------+\n",
            "| GPU  Name                 Persistence-M | Bus-Id          Disp.A | Volatile Uncorr. ECC |\n",
            "| Fan  Temp   Perf          Pwr:Usage/Cap |           Memory-Usage | GPU-Util  Compute M. |\n",
            "|                                         |                        |               MIG M. |\n",
            "|=========================================+========================+======================|\n",
            "|   0  Tesla T4                       Off |   00000000:00:04.0 Off |                    0 |\n",
            "| N/A   44C    P0             26W /   70W |     104MiB /  15360MiB |      0%      Default |\n",
            "|                                         |                        |                  N/A |\n",
            "+-----------------------------------------+------------------------+----------------------+\n",
            "                                                                                         \n",
            "+-----------------------------------------------------------------------------------------+\n",
            "| Processes:                                                                              |\n",
            "|  GPU   GI   CI        PID   Type   Process name                              GPU Memory |\n",
            "|        ID   ID                                                               Usage      |\n",
            "|=========================================================================================|\n",
            "+-----------------------------------------------------------------------------------------+\n"
          ]
        }
      ]
    },
    {
      "cell_type": "markdown",
      "source": [
        "##6.1 data"
      ],
      "metadata": {
        "id": "n-alg9ZcHu0F"
      }
    },
    {
      "cell_type": "code",
      "source": [
        "#create dataset\n",
        "#we will use linear regression again\n",
        "weight = 0.4\n",
        "bias = 0.9\n",
        "\n",
        "#create range values\n",
        "start = 0\n",
        "end = 1\n",
        "step = 0.009\n",
        "\n",
        "X = torch.arange(start, end, step).unsqueeze(dim=1)\n",
        "y = weight * X + bias\n",
        "\n",
        "X[:5], y[:5], len(X), len(y)"
      ],
      "metadata": {
        "colab": {
          "base_uri": "https://localhost:8080/"
        },
        "id": "IgEOqyUKIyv2",
        "outputId": "7a3a2ad2-78ad-4ed4-b2c6-0e6a0fb225b2"
      },
      "execution_count": 128,
      "outputs": [
        {
          "output_type": "execute_result",
          "data": {
            "text/plain": [
              "(tensor([[0.0000],\n",
              "         [0.0090],\n",
              "         [0.0180],\n",
              "         [0.0270],\n",
              "         [0.0360]]),\n",
              " tensor([[0.9000],\n",
              "         [0.9036],\n",
              "         [0.9072],\n",
              "         [0.9108],\n",
              "         [0.9144]]),\n",
              " 112,\n",
              " 112)"
            ]
          },
          "metadata": {},
          "execution_count": 128
        }
      ]
    },
    {
      "cell_type": "code",
      "source": [
        "#split the data\n",
        "train_split_prec = int(0.8 * len(X))\n",
        "\n",
        "X_train_0, y_train_0 = X[:train_split_prec], y[:train_split_prec]\n",
        "X_test_0, y_test_0 = X[train_split_prec:], y[train_split_prec:]\n",
        "\n",
        "len(X_train_0), len(y_train_0), len(y_test_0), len(X_test_0)"
      ],
      "metadata": {
        "colab": {
          "base_uri": "https://localhost:8080/"
        },
        "id": "nJIRdAvzJ6f9",
        "outputId": "50641667-9edc-4244-9881-32ba2a5f3329"
      },
      "execution_count": 129,
      "outputs": [
        {
          "output_type": "execute_result",
          "data": {
            "text/plain": [
              "(89, 89, 23, 23)"
            ]
          },
          "metadata": {},
          "execution_count": 129
        }
      ]
    },
    {
      "cell_type": "code",
      "source": [
        "#plot the data\n",
        "def plot_predictionsv2(train_data = X_train_0,\n",
        "                       train_label = y_train_0,\n",
        "                       test_data = X_test_0,\n",
        "                       test_label = y_test_0,\n",
        "                       predictions = None):\n",
        "\n",
        "  plt.figure(figsize=(10,7))\n",
        "  plt.scatter(train_data, train_label, c=\"b\", s=4, label= \"Training curve\")\n",
        "  plt.scatter(test_data, test_label, c=\"g\", s=4, label = \"Testing curve\")\n",
        "\n",
        "  if predictions is not None:\n",
        "    plt.scatter(test_data, predictions, c=\"r\", s=4, label = \"predictions curve\")\n",
        "\n",
        "  plt.legend(prop= {\"size\": 14})"
      ],
      "metadata": {
        "id": "kmXYPPBYKUlZ"
      },
      "execution_count": 130,
      "outputs": []
    },
    {
      "cell_type": "code",
      "source": [
        "plot_predictionsv2()"
      ],
      "metadata": {
        "colab": {
          "base_uri": "https://localhost:8080/",
          "height": 599
        },
        "id": "mSBIHOE1wsZH",
        "outputId": "a4a991f5-b91d-4024-8391-63487570871c"
      },
      "execution_count": 131,
      "outputs": [
        {
          "output_type": "display_data",
          "data": {
            "text/plain": [
              "<Figure size 1000x700 with 1 Axes>"
            ],
            "image/png": "[encoded data removed]"
          },
          "metadata": {}
        }
      ]
    },
    {
      "cell_type": "code",
      "source": [
        "#model\n",
        "class linearRegressionv2(nn.Module):\n",
        "  def __init__(self):\n",
        "    super().__init__()\n",
        "    self.linear_layer = nn.Linear(in_features=1,\n",
        "                                 out_features=1)\n",
        "\n",
        "  def forward(self, x:torch.Tensor) -> torch.Tensor :\n",
        "    return self.linear_layer(x)\n",
        "\n",
        "torch.manual_seed(42)\n",
        "model_1 = linearRegressionv2()\n",
        "model_1, model_1.state_dict()"
      ],
      "metadata": {
        "colab": {
          "base_uri": "https://localhost:8080/"
        },
        "id": "Is9BF0AzxQIx",
        "outputId": "3c7524ef-3758-4fd7-c21c-ce20b3be1880"
      },
      "execution_count": 132,
      "outputs": [
        {
          "output_type": "execute_result",
          "data": {
            "text/plain": [
              "(linearRegressionv2(\n",
              "   (linear_layer): Linear(in_features=1, out_features=1, bias=True)\n",
              " ),\n",
              " OrderedDict([('linear_layer.weight', tensor([[0.7645]])),\n",
              "              ('linear_layer.bias', tensor([0.8300]))]))"
            ]
          },
          "metadata": {},
          "execution_count": 132
        }
      ]
    },
    {
      "cell_type": "code",
      "source": [
        "#check model current device\n",
        "next(model_1.parameters()).to(device)"
      ],
      "metadata": {
        "colab": {
          "base_uri": "https://localhost:8080/"
        },
        "id": "YT4ovhpd50K4",
        "outputId": "6a1b80af-7576-47d8-c092-ed9103ef1088"
      },
      "execution_count": 133,
      "outputs": [
        {
          "output_type": "execute_result",
          "data": {
            "text/plain": [
              "tensor([[0.7645]], device='cuda:0', grad_fn=<ToCopyBackward0>)"
            ]
          },
          "metadata": {},
          "execution_count": 133
        }
      ]
    },
    {
      "cell_type": "code",
      "source": [
        "#set the model to use target device\n",
        "model_1.to(device)\n",
        "next(model_1.parameters()).to(device)"
      ],
      "metadata": {
        "colab": {
          "base_uri": "https://localhost:8080/"
        },
        "id": "QII9IvY43nK4",
        "outputId": "f6a9273a-4c9c-4880-e254-46f82c96227a"
      },
      "execution_count": 134,
      "outputs": [
        {
          "output_type": "execute_result",
          "data": {
            "text/plain": [
              "Parameter containing:\n",
              "tensor([[0.7645]], device='cuda:0', requires_grad=True)"
            ]
          },
          "metadata": {},
          "execution_count": 134
        }
      ]
    },
    {
      "cell_type": "markdown",
      "source": [
        "###training"
      ],
      "metadata": {
        "id": "m0UGKeOl5bfF"
      }
    },
    {
      "cell_type": "code",
      "source": [
        "loss_fn = nn.L1Loss()\n",
        "\n",
        "optimizer = torch.optim.SGD(params= model_1.parameters(),\n",
        "                            lr = 0.01)\n",
        "\n",
        "\n",
        "torch.manual_seed(42)\n",
        "epoches = 200\n",
        "\n",
        "X_train_0 = X_train_0.to(device)\n",
        "y_train_0 = y_train_0.to(device)\n",
        "X_test_0 = X_test_0.to(device)\n",
        "y_test_0 = y_test_0.to(device)\n",
        "\n",
        "#training loop\n",
        "for epoch in range(epoches):\n",
        "  model_1.train()\n",
        "  y_preds_0 = model_1(X_train_0)\n",
        "  loss = loss_fn(y_preds_0, y_train_0)\n",
        "  optimizer.zero_grad()\n",
        "  loss.backward()\n",
        "  optimizer.step()\n",
        "\n",
        "  #testing loop\n",
        "  model_1.eval()\n",
        "  with torch.inference_mode():\n",
        "    y_test_pred = model_1(X_test_0)\n",
        "    test_loss = loss_fn(y_test_pred, y_test_0)\n",
        "\n",
        "  #print what is happening\n",
        "  if epoch % 10 == 0:\n",
        "    print(f\"epoch: {epoch} | loss: {loss} | test loss: {test_loss}\")"
      ],
      "metadata": {
        "colab": {
          "base_uri": "https://localhost:8080/"
        },
        "id": "QMXsO2k36FYl",
        "outputId": "fec837a2-fb6b-4336-e9e4-e7480979839b"
      },
      "execution_count": 137,
      "outputs": [
        {
          "output_type": "stream",
          "name": "stdout",
          "text": [
            "epoch: 0 | loss: 0.0028065363876521587 | test loss: 0.0073402137495577335\n",
            "epoch: 10 | loss: 0.0028065363876521587 | test loss: 0.0073402137495577335\n",
            "epoch: 20 | loss: 0.0028065363876521587 | test loss: 0.0073402137495577335\n",
            "epoch: 30 | loss: 0.0028065363876521587 | test loss: 0.0073402137495577335\n",
            "epoch: 40 | loss: 0.0028065363876521587 | test loss: 0.0073402137495577335\n",
            "epoch: 50 | loss: 0.0028065363876521587 | test loss: 0.0073402137495577335\n",
            "epoch: 60 | loss: 0.0028065363876521587 | test loss: 0.0073402137495577335\n",
            "epoch: 70 | loss: 0.0028065363876521587 | test loss: 0.0073402137495577335\n",
            "epoch: 80 | loss: 0.0028065363876521587 | test loss: 0.0073402137495577335\n",
            "epoch: 90 | loss: 0.0028065363876521587 | test loss: 0.0073402137495577335\n",
            "epoch: 100 | loss: 0.0028065363876521587 | test loss: 0.0073402137495577335\n",
            "epoch: 110 | loss: 0.0028065363876521587 | test loss: 0.0073402137495577335\n",
            "epoch: 120 | loss: 0.0028065363876521587 | test loss: 0.0073402137495577335\n",
            "epoch: 130 | loss: 0.0028065363876521587 | test loss: 0.0073402137495577335\n",
            "epoch: 140 | loss: 0.0028065363876521587 | test loss: 0.0073402137495577335\n",
            "epoch: 150 | loss: 0.0028065363876521587 | test loss: 0.0073402137495577335\n",
            "epoch: 160 | loss: 0.0028065363876521587 | test loss: 0.0073402137495577335\n",
            "epoch: 170 | loss: 0.0028065363876521587 | test loss: 0.0073402137495577335\n",
            "epoch: 180 | loss: 0.0028065363876521587 | test loss: 0.0073402137495577335\n",
            "epoch: 190 | loss: 0.0028065363876521587 | test loss: 0.0073402137495577335\n"
          ]
        }
      ]
    },
    {
      "cell_type": "code",
      "source": [
        "print(model_1.state_dict())"
      ],
      "metadata": {
        "colab": {
          "base_uri": "https://localhost:8080/"
        },
        "id": "VNbH5aaRnh_u",
        "outputId": "b59285a3-ec4d-4e75-ab46-af9493296314"
      },
      "execution_count": 138,
      "outputs": [
        {
          "output_type": "stream",
          "name": "stdout",
          "text": [
            "OrderedDict([('linear_layer.weight', tensor([[0.4068]], device='cuda:0')), ('linear_layer.bias', tensor([0.9001], device='cuda:0'))])\n"
          ]
        }
      ]
    },
    {
      "cell_type": "code",
      "source": [
        "weight, bias"
      ],
      "metadata": {
        "colab": {
          "base_uri": "https://localhost:8080/"
        },
        "id": "G4ekG33Onj7J",
        "outputId": "a6630a88-029a-4a63-8393-887b8ddd10a5"
      },
      "execution_count": 139,
      "outputs": [
        {
          "output_type": "execute_result",
          "data": {
            "text/plain": [
              "(0.4, 0.9)"
            ]
          },
          "metadata": {},
          "execution_count": 139
        }
      ]
    },
    {
      "cell_type": "code",
      "source": [
        "model_1.eval()\n",
        "with torch.inference_mode():\n",
        "  new_y_preds_0 = model_1(X_test_0)\n",
        "\n",
        "new_y_preds_0[:10], y_test_0[:10]"
      ],
      "metadata": {
        "colab": {
          "base_uri": "https://localhost:8080/"
        },
        "id": "JUNa8flMlrga",
        "outputId": "9e2ebc47-f001-4a1d-ccd7-81dc80875b06"
      },
      "execution_count": 140,
      "outputs": [
        {
          "output_type": "execute_result",
          "data": {
            "text/plain": [
              "(tensor([[1.2260],\n",
              "         [1.2296],\n",
              "         [1.2333],\n",
              "         [1.2369],\n",
              "         [1.2406],\n",
              "         [1.2443],\n",
              "         [1.2479],\n",
              "         [1.2516],\n",
              "         [1.2552],\n",
              "         [1.2589]], device='cuda:0'),\n",
              " tensor([[1.2204],\n",
              "         [1.2240],\n",
              "         [1.2276],\n",
              "         [1.2312],\n",
              "         [1.2348],\n",
              "         [1.2384],\n",
              "         [1.2420],\n",
              "         [1.2456],\n",
              "         [1.2492],\n",
              "         [1.2528]], device='cuda:0'))"
            ]
          },
          "metadata": {},
          "execution_count": 140
        }
      ]
    },
    {
      "cell_type": "code",
      "source": [
        "plot_predictionsv2(predictions=new_y_preds_0.cpu())"
      ],
      "metadata": {
        "colab": {
          "base_uri": "https://localhost:8080/",
          "height": 599
        },
        "id": "AB8dXZfHov6k",
        "outputId": "10bdc7ce-d70e-4fd6-9f65-659df7172ba0"
      },
      "execution_count": 141,
      "outputs": [
        {
          "output_type": "display_data",
          "data": {
            "text/plain": [
              "<Figure size 1000x700 with 1 Axes>"
            ],
            "image/png": "[encoded data removed]"
          },
          "metadata": {}
        }
      ]
    },
    {
      "cell_type": "markdown",
      "source": [
        "###saving and loading the model"
      ],
      "metadata": {
        "id": "SdwC7NT3cXZn"
      }
    },
    {
      "cell_type": "code",
      "source": [
        "from pathlib import Path\n",
        "\n",
        "MODEL_PATH = Path(\"models\")\n",
        "MODEL_PATH.mkdir(parents=True, exist_ok=True)\n",
        "MODEL_NAME = \"MYMLBEG.pth\"\n",
        "MODEL_SAVE_PATH = MODEL_PATH / MODEL_NAME\n",
        "\n",
        "print(f\"Model saved to: {MODEL_SAVE_PATH}\")\n",
        "torch.save(obj=model_1.state_dict(),\n",
        "           f=MODEL_SAVE_PATH)"
      ],
      "metadata": {
        "colab": {
          "base_uri": "https://localhost:8080/"
        },
        "id": "h03ZxLSIjCKF",
        "outputId": "5c478930-6004-4ad8-fe46-2f2902de331b"
      },
      "execution_count": 142,
      "outputs": [
        {
          "output_type": "stream",
          "name": "stdout",
          "text": [
            "Model saved to: models/MYMLBEG.pth\n"
          ]
        }
      ]
    },
    {
      "cell_type": "code",
      "source": [
        "#loading the model\n",
        "loaded_model_1 = linearRegressionv2()\n",
        "\n",
        "#load state dict\n",
        "loaded_model_1.load_state_dict(torch.load(MODEL_SAVE_PATH))\n",
        "loaded_model_1.to(device)\n",
        "\n",
        "next(loaded_model_1.parameters()).to(device)\n",
        "#evaluate loaded model\n",
        "loaded_model_1.eval()\n",
        "with torch.inference_mode():\n",
        "  loaded_model_1_pred = loaded_model_1(X_test_0)\n",
        "\n",
        "loaded_model_1_pred == new_y_preds_0"
      ],
      "metadata": {
        "colab": {
          "base_uri": "https://localhost:8080/"
        },
        "id": "48RTR2kMk47f",
        "outputId": "03d9f647-f3ae-4dba-dd48-23d47c9b0e41"
      },
      "execution_count": 143,
      "outputs": [
        {
          "output_type": "execute_result",
          "data": {
            "text/plain": [
              "tensor([[True],\n",
              "        [True],\n",
              "        [True],\n",
              "        [True],\n",
              "        [True],\n",
              "        [True],\n",
              "        [True],\n",
              "        [True],\n",
              "        [True],\n",
              "        [True],\n",
              "        [True],\n",
              "        [True],\n",
              "        [True],\n",
              "        [True],\n",
              "        [True],\n",
              "        [True],\n",
              "        [True],\n",
              "        [True],\n",
              "        [True],\n",
              "        [True],\n",
              "        [True],\n",
              "        [True],\n",
              "        [True]], device='cuda:0')"
            ]
          },
          "metadata": {},
          "execution_count": 143
        }
      ]
    },
    {
      "cell_type": "markdown",
      "source": [
        "# **3. classification**"
      ],
      "metadata": {
        "id": "UjV3DqmklpFK"
      }
    },
    {
      "cell_type": "code",
      "source": [
        "#neural network classification with"
      ],
      "metadata": {
        "id": "SuFADaww0GWx"
      },
      "execution_count": 144,
      "outputs": []
    },
    {
      "cell_type": "code",
      "source": [
        "#mmm lets use different doc"
      ],
      "metadata": {
        "id": "ktFS1K7l1z4Q"
      },
      "execution_count": 145,
      "outputs": []
    },
    {
      "cell_type": "code",
      "source": [],
      "metadata": {
        "id": "6UUY8U2M2B-3"
      },
      "execution_count": 145,
      "outputs": []
    }
  ],
  "metadata": {
    "colab": {
      "collapsed_sections": [
        "sq6RvKm8Pd0h",
        "Jn1Ro8OLekG5",
        "dHKvFsjogQn9",
        "bBWYLdW9xV24",
        "G6hMBcB1fH4c",
        "ZykgJ95Zy8SP",
        "ZGLcrxeGyjir",
        "f26f_Wh5EEjD",
        "Nv06fHLlv2Ad"
      ],
      "provenance": [],
      "gpuType": "T4"
    },
    "kernelspec": {
      "display_name": "Python 3",
      "name": "python3"
    },
    "language_info": {
      "name": "python"
    },
    "accelerator": "GPU"
  },
  "nbformat": 4,
  "nbformat_minor": 0
}